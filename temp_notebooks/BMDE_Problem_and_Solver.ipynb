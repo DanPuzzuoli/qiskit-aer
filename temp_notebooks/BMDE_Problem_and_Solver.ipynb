{
 "cells": [
  {
   "cell_type": "code",
   "execution_count": 1,
   "metadata": {},
   "outputs": [],
   "source": [
    "from matplotlib import pyplot as plt\n",
    "import numpy as np\n",
    "from qiskit.quantum_info.operators import Operator\n",
    "from qiskit.providers.aer.pulse_new.de.DE_Problems import BMDE_Problem\n",
    "from qiskit.providers.aer.pulse_new.de.DE_Solvers import BMDE_Solver\n",
    "from qiskit.providers.aer.pulse_new.de.DE_Options import DE_Options\n",
    "from qiskit.providers.aer.pulse_new.models.signals import VectorSignal, Constant, Signal\n",
    "from qiskit.providers.aer.pulse_new.models.operator_models import OperatorModel\n",
    "\n",
    "X = Operator.from_label('X')\n",
    "Y = Operator.from_label('Y')\n",
    "Z = Operator.from_label('Z')"
   ]
  },
  {
   "cell_type": "code",
   "execution_count": 2,
   "metadata": {},
   "outputs": [],
   "source": [
    "r = 1\n",
    "w = 5.\n",
    "signals = [Constant(1.), Signal(1., w)]\n",
    "operators = [-1j * 2 * np.pi * w * X/2, -1j * 2 * np.pi * r * Z/2]\n",
    "\n",
    "model = OperatorModel(operators=operators, signals=signals)"
   ]
  },
  {
   "cell_type": "code",
   "execution_count": 15,
   "metadata": {},
   "outputs": [],
   "source": [
    "y0 = np.sqrt(0.5)*np.array([1., 1.])\n",
    "#y0 = np.array([1., 0.])\n",
    "\n",
    "bmde_problem = BMDE_Problem(generator=model, t0=0., y0 = y0, cutoff_freq=3*w)\n",
    "#isinstance(model.signals, VectorSignal)"
   ]
  },
  {
   "cell_type": "code",
   "execution_count": 16,
   "metadata": {},
   "outputs": [
    {
     "data": {
      "text/plain": [
       "array([[0.-3.14159265e+00j, 0.+3.33066907e-15j],\n",
       "       [0.+3.55271368e-15j, 0.+3.14159265e+00j]])"
      ]
     },
     "execution_count": 16,
     "metadata": {},
     "output_type": "execute_result"
    }
   ],
   "source": [
    "bmde_problem._generator.evaluate(0)"
   ]
  },
  {
   "cell_type": "code",
   "execution_count": 17,
   "metadata": {},
   "outputs": [],
   "source": [
    "options = DE_Options(atol=1e-8, rtol=1e-8)\n",
    "solver = BMDE_Solver(bmde_problem, options=options)"
   ]
  },
  {
   "cell_type": "code",
   "execution_count": 18,
   "metadata": {},
   "outputs": [],
   "source": [
    "solver.integrate(1. / r)"
   ]
  },
  {
   "cell_type": "code",
   "execution_count": 14,
   "metadata": {},
   "outputs": [
    {
     "data": {
      "text/plain": [
       "0.9993711073170255"
      ]
     },
     "execution_count": 14,
     "metadata": {},
     "output_type": "execute_result"
    }
   ],
   "source": [
    "y_orthog = np.sqrt(0.5)*np.array([1., -1.])\n",
    "#y_orthog = np.array([0., 1.])\n",
    "\n",
    "np.abs( ( y_orthog *solver.y).sum())**2"
   ]
  },
  {
   "cell_type": "code",
   "execution_count": 9,
   "metadata": {},
   "outputs": [
    {
     "data": {
      "text/plain": [
       "array([[0. -3.14159265j, 0.-15.70796327j],\n",
       "       [0.-15.70796327j, 0. +3.14159265j]])"
      ]
     },
     "execution_count": 9,
     "metadata": {},
     "output_type": "execute_result"
    }
   ],
   "source": [
    "model.evaluate(0)"
   ]
  },
  {
   "cell_type": "code",
   "execution_count": null,
   "metadata": {},
   "outputs": [],
   "source": []
  }
 ],
 "metadata": {
  "kernelspec": {
   "display_name": "Python 3",
   "language": "python",
   "name": "python3"
  },
  "language_info": {
   "codemirror_mode": {
    "name": "ipython",
    "version": 3
   },
   "file_extension": ".py",
   "mimetype": "text/x-python",
   "name": "python",
   "nbconvert_exporter": "python",
   "pygments_lexer": "ipython3",
   "version": "3.8.5"
  }
 },
 "nbformat": 4,
 "nbformat_minor": 4
}
