{
 "cells": [
  {
   "cell_type": "code",
   "execution_count": 1,
   "metadata": {},
   "outputs": [],
   "source": [
    "from matplotlib import pyplot as plt\n",
    "import jax.numpy as np\n",
    "from jax.ops import index, index_update\n",
    "from jax.config import config\n",
    "config.update(\"jax_enable_x64\", True)\n",
    "import numpy as onp\n",
    "from scipy.linalg import expm\n",
    "from jax import jit, grad, value_and_grad, vmap, jacrev\n",
    "#from time import time\n",
    "from qiskit.quantum_info.operators import Operator\n",
    "from qiskit.quantum_info.operators.base_operator import BaseOperator\n",
    "from qiskit.providers.aer.pulse_new.de.DE_Problems import BMDE_Problem\n",
    "from qiskit.providers.aer.pulse_new.de.DE_Solvers import BMDE_Solver\n",
    "from qiskit.providers.aer.pulse_new.de.DE_Options import DE_Options\n",
    "from qiskit.providers.aer.pulse_new.models.signals import VectorSignal, Constant, Signal, PiecewiseConstant\n",
    "from qiskit.providers.aer.pulse_new.models.operator_models import OperatorModel\n",
    "from qiskit.providers.aer.pulse_new.models.frame import Frame\n",
    "from qiskit.providers.aer.pulse_new.optimize.optimize import find_pulse_bfgs_parallel, find_pulse_bfgs\n",
    "from qiskit.providers.aer.pulse_new.optimize.opt_utils import diffeo\n",
    "\n",
    "X = Operator.from_label('X')\n",
    "Y = Operator.from_label('Y')\n",
    "Z = Operator.from_label('Z')"
   ]
  },
  {
   "cell_type": "markdown",
   "metadata": {},
   "source": [
    "# 0. Overview\n",
    "\n",
    "In this notebook we optimize a $\\pi$-pulse in a simple qubit model using the `jax` version of new pulse simulator framework."
   ]
  },
  {
   "cell_type": "markdown",
   "metadata": {},
   "source": [
    "# 1. Model\n",
    "\n",
    "The operators give a qubit model."
   ]
  },
  {
   "cell_type": "code",
   "execution_count": 2,
   "metadata": {},
   "outputs": [],
   "source": [
    "w = 5.\n",
    "r = 1.\n",
    "\n",
    "operators = [-1j * 2 * np.pi * w * Z / 2, -1j * 2 * np.pi * r * X / 2]\n",
    "generator = OperatorModel(operators=operators)"
   ]
  },
  {
   "cell_type": "markdown",
   "metadata": {},
   "source": [
    "The \"signal\" model is a piecewise constant signal "
   ]
  },
  {
   "cell_type": "code",
   "execution_count": 3,
   "metadata": {},
   "outputs": [],
   "source": [
    "# time step size\n",
    "dt = 0.4\n",
    "\n",
    "# simple low pass filter function for a piecewise constant signal\n",
    "def lowpass(t, sig, cutoff=0.01):\n",
    "    # assumes that t is in units of ns\n",
    "    dt = t[1]-t[0]\n",
    "    freqs = (1/dt)*np.fft.fftfreq(t.shape[-1])\n",
    "    sig_fft = np.fft.fft(sig)\n",
    "    filtered_sig_fft = sig_fft*(1/(1+1.0j*freqs/cutoff))\n",
    "    filtered_sig = np.fft.ifft(filtered_sig_fft)\n",
    "    return filtered_sig.real\n",
    "\n",
    "# signal generator - given params, maps them to a piecewise constant signal\n",
    "# bounded between [-1, 1], smoothed by the low pass filter, driven on resonance\n",
    "def signal_generator(params):\n",
    "    new_params = diffeo(params, [-1, 1])\n",
    "    times = np.arange(params.shape[-1])*dt + dt\n",
    "    new_params = lowpass(times, new_params)\n",
    "    return [Constant(1.), PiecewiseConstant(dt=dt, samples=new_params, carrier_freq=w)]"
   ]
  },
  {
   "cell_type": "code",
   "execution_count": 4,
   "metadata": {},
   "outputs": [
    {
     "name": "stderr",
     "output_type": "stream",
     "text": [
      "WARNING:absl:No GPU/TPU found, falling back to CPU. (Set TF_CPP_MIN_LOG_LEVEL=0 and rerun for more info.)\n"
     ]
    }
   ],
   "source": [
    "frame = Frame(np.array(-1j * 2 * np.pi * w * Z.data / 2))\n",
    "\n",
    "# unitary as function of params\n",
    "def get_unitary(c_params):\n",
    "    T = c_params.shape[-1] * dt\n",
    "    gen_copy = generator.copy()\n",
    "    gen_copy.signals = signal_generator(c_params)\n",
    "    problem = BMDE_Problem(gen_copy, \n",
    "                           y0=np.array([[1., 0.], [0., 1.]], dtype=complex), \n",
    "                           t0=0., \n",
    "                           frame=frame)\n",
    "    solver = BMDE_Solver(problem, options=DE_Options(method='RK4', max_dt=0.1))\n",
    "    solver.integrate(T)\n",
    "    return solver.y"
   ]
  },
  {
   "cell_type": "code",
   "execution_count": 5,
   "metadata": {},
   "outputs": [],
   "source": [
    "# fidelity to X gate\n",
    "def X_fidelity(U):\n",
    "    ip = (np.array([[0., 1.], [1., 0.]], dtype=complex).conj() * U).sum()\n",
    "    return np.real(ip * ip.conj())/4\n",
    "\n",
    "def obj(params):\n",
    "    return 1 - X_fidelity(get_unitary(params))"
   ]
  },
  {
   "cell_type": "code",
   "execution_count": null,
   "metadata": {},
   "outputs": [
    {
     "name": "stdout",
     "output_type": "stream",
     "text": [
      "Optimizing pulse...\n"
     ]
    }
   ],
   "source": [
    "# specifies number of time steps\n",
    "ctrl_shape = (20,)\n",
    "result = find_pulse_bfgs(obj, ctrl_shape, update_rate=10)"
   ]
  },
  {
   "cell_type": "markdown",
   "metadata": {},
   "source": [
    "Plot the found pulse."
   ]
  },
  {
   "cell_type": "code",
   "execution_count": null,
   "metadata": {},
   "outputs": [],
   "source": [
    "x_signal = signal_generator(result.x)[1]\n",
    "x_signal.plot_envelope(0, ctrl_shape[0]*dt, 100)"
   ]
  },
  {
   "cell_type": "markdown",
   "metadata": {},
   "source": [
    "Area under the pulse:"
   ]
  },
  {
   "cell_type": "code",
   "execution_count": null,
   "metadata": {},
   "outputs": [],
   "source": [
    "x_signal.samples.sum()*dt"
   ]
  },
  {
   "cell_type": "markdown",
   "metadata": {},
   "source": [
    "Expected area to do a $\\pi$ pulse:"
   ]
  },
  {
   "cell_type": "code",
   "execution_count": null,
   "metadata": {},
   "outputs": [],
   "source": [
    "1/r"
   ]
  },
  {
   "cell_type": "code",
   "execution_count": null,
   "metadata": {},
   "outputs": [],
   "source": [
    "test2 = jit(value_and_grad(obj))"
   ]
  },
  {
   "cell_type": "code",
   "execution_count": null,
   "metadata": {},
   "outputs": [],
   "source": [
    "%time test2(3*np.ones(10, dtype=float))[0].block_until_ready()"
   ]
  },
  {
   "cell_type": "code",
   "execution_count": null,
   "metadata": {},
   "outputs": [],
   "source": []
  }
 ],
 "metadata": {
  "kernelspec": {
   "display_name": "Python 3",
   "language": "python",
   "name": "python3"
  },
  "language_info": {
   "codemirror_mode": {
    "name": "ipython",
    "version": 3
   },
   "file_extension": ".py",
   "mimetype": "text/x-python",
   "name": "python",
   "nbconvert_exporter": "python",
   "pygments_lexer": "ipython3",
   "version": "3.8.5"
  }
 },
 "nbformat": 4,
 "nbformat_minor": 4
}
