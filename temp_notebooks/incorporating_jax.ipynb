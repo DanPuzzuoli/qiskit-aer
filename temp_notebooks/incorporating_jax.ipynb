{
 "cells": [
  {
   "cell_type": "code",
   "execution_count": 1,
   "metadata": {},
   "outputs": [],
   "source": [
    "from matplotlib import pyplot as plt\n",
    "import jax.numpy as np\n",
    "from jax.config import config\n",
    "config.update(\"jax_enable_x64\", True)\n",
    "import numpy as onp\n",
    "from scipy.linalg import expm\n",
    "from jax import jit, grad, value_and_grad, vmap\n",
    "#from time import time\n",
    "from qiskit.quantum_info.operators import Operator\n",
    "from qiskit.quantum_info.operators.base_operator import BaseOperator\n",
    "from qiskit.providers.aer.pulse_new.de.DE_Problems import BMDE_Problem\n",
    "from qiskit.providers.aer.pulse_new.de.DE_Solvers import BMDE_Solver\n",
    "from qiskit.providers.aer.pulse_new.de.DE_Options import DE_Options\n",
    "from qiskit.providers.aer.pulse_new.models.signals import VectorSignal, Constant, Signal\n",
    "from qiskit.providers.aer.pulse_new.models.operator_models import OperatorModel\n",
    "\n",
    "X = Operator.from_label('X')\n",
    "Y = Operator.from_label('Y')\n",
    "Z = Operator.from_label('Z')"
   ]
  },
  {
   "cell_type": "markdown",
   "metadata": {},
   "source": [
    "# 1. Check that basic model set up works\n",
    "\n",
    "Changes I had to make to get this to work:\n",
    "- Changed all `numpy` imports to `jax.numpy` in all files\n",
    "- Changed one `if` statement due to a minor change in `jax` with the way arrays are compared\n",
    "- Re-added an import of standard `numpy` in one file, to convert `jax` arrays to `numpy` arrays when used to instantiate an `Operator` (`jax` arrays are not accepted)"
   ]
  },
  {
   "cell_type": "code",
   "execution_count": 2,
   "metadata": {},
   "outputs": [
    {
     "name": "stderr",
     "output_type": "stream",
     "text": [
      "/opt/anaconda3/envs/devEnv/lib/python3.8/site-packages/jax/lib/xla_bridge.py:130: UserWarning: No GPU/TPU found, falling back to CPU.\n",
      "  warnings.warn('No GPU/TPU found, falling back to CPU.')\n"
     ]
    }
   ],
   "source": [
    "w = 5.\n",
    "r = 0.02\n",
    "\n",
    "signals = [Constant(1.), Signal(1., w)]\n",
    "operators = [-1j * 2 * np.pi * w * Z / 2, -1j * 2 * np.pi * r * X / 2]\n",
    "generator = OperatorModel(signals=signals, operators=operators)"
   ]
  },
  {
   "cell_type": "code",
   "execution_count": 3,
   "metadata": {},
   "outputs": [
    {
     "data": {
      "text/plain": [
       "DeviceArray([[0.-15.70796327j, 0. -0.06283185j],\n",
       "             [0. -0.06283185j, 0.+15.70796327j]], dtype=complex128)"
      ]
     },
     "execution_count": 3,
     "metadata": {},
     "output_type": "execute_result"
    }
   ],
   "source": [
    "generator.evaluate(1.)"
   ]
  },
  {
   "cell_type": "markdown",
   "metadata": {},
   "source": [
    "Expected value:"
   ]
  },
  {
   "cell_type": "code",
   "execution_count": 4,
   "metadata": {},
   "outputs": [
    {
     "name": "stdout",
     "output_type": "stream",
     "text": [
      "Operator([[0.-15.70796327j, 0. -0.06283185j],\n",
      "          [0. -0.06283185j, 0.+15.70796327j]],\n",
      "         input_dims=(2,), output_dims=(2,))\n"
     ]
    }
   ],
   "source": [
    "gen_at_1 = -1j * 2 * np.pi * w * Z / 2 + onp.cos(2 * np.pi * w * 1.) *(-1j * 2 * np.pi * r * X / 2)\n",
    "print(gen_at_1)"
   ]
  },
  {
   "cell_type": "markdown",
   "metadata": {},
   "source": [
    "Enter frame and evaluate:"
   ]
  },
  {
   "cell_type": "code",
   "execution_count": 5,
   "metadata": {},
   "outputs": [],
   "source": [
    "generator.frame = generator.drift"
   ]
  },
  {
   "cell_type": "code",
   "execution_count": 6,
   "metadata": {},
   "outputs": [
    {
     "data": {
      "text/plain": [
       "DeviceArray([[ 0.00000000e+00+0.j        , -7.69468277e-17-0.06283185j],\n",
       "             [ 7.69468277e-17-0.06283185j,  0.00000000e+00+0.j        ]],            dtype=complex128)"
      ]
     },
     "execution_count": 6,
     "metadata": {},
     "output_type": "execute_result"
    }
   ],
   "source": [
    "generator.evaluate(1.)"
   ]
  },
  {
   "cell_type": "markdown",
   "metadata": {},
   "source": [
    "Expected value:"
   ]
  },
  {
   "cell_type": "code",
   "execution_count": 7,
   "metadata": {},
   "outputs": [
    {
     "data": {
      "text/plain": [
       "array([[ 0.00000000e+00+0.j        , -7.69468277e-17-0.06283185j],\n",
       "       [ 7.69468277e-17-0.06283185j,  0.00000000e+00+0.j        ]])"
      ]
     },
     "execution_count": 7,
     "metadata": {},
     "output_type": "execute_result"
    }
   ],
   "source": [
    "F = (-1j * 2 * np.pi * w * Z / 2).data\n",
    "expm(-F) @ gen_at_1.data @ expm(F) - F"
   ]
  },
  {
   "cell_type": "markdown",
   "metadata": {},
   "source": [
    "# 2. `jit`-ing\n",
    "\n",
    "First `jit` and measure time of first evaluation"
   ]
  },
  {
   "cell_type": "code",
   "execution_count": 8,
   "metadata": {},
   "outputs": [
    {
     "name": "stdout",
     "output_type": "stream",
     "text": [
      "CPU times: user 347 ms, sys: 78.9 ms, total: 426 ms\n",
      "Wall time: 54.4 ms\n"
     ]
    },
    {
     "data": {
      "text/plain": [
       "DeviceArray([[ 0.00000000e+00+0.j        , -7.69468277e-17-0.06283185j],\n",
       "             [ 7.69468277e-17-0.06283185j,  0.00000000e+00+0.j        ]],            dtype=complex128)"
      ]
     },
     "execution_count": 8,
     "metadata": {},
     "output_type": "execute_result"
    }
   ],
   "source": [
    "fast_evaluate = jit(lambda t: generator.evaluate(t))\n",
    "\n",
    "%time fast_evaluate(1.).block_until_ready()"
   ]
  },
  {
   "cell_type": "markdown",
   "metadata": {},
   "source": [
    "Now evaluate compare speed of `jit`ed function and non-`jit`ed"
   ]
  },
  {
   "cell_type": "code",
   "execution_count": 9,
   "metadata": {},
   "outputs": [
    {
     "name": "stdout",
     "output_type": "stream",
     "text": [
      "CPU times: user 21 ms, sys: 11.3 ms, total: 32.3 ms\n",
      "Wall time: 3.97 ms\n",
      "CPU times: user 3.22 ms, sys: 1.4 ms, total: 4.62 ms\n",
      "Wall time: 604 µs\n",
      "[[0.+0.j 0.+0.j]\n",
      " [0.+0.j 0.+0.j]]\n"
     ]
    }
   ],
   "source": [
    "t = 1.\n",
    "\n",
    "%time res1 = generator.evaluate(t).block_until_ready()\n",
    "\n",
    "%time res2 = fast_evaluate(t).block_until_ready()\n",
    "\n",
    "print(res1 - res2)"
   ]
  },
  {
   "cell_type": "markdown",
   "metadata": {},
   "source": [
    "# 3. Trying jax solver"
   ]
  },
  {
   "cell_type": "code",
   "execution_count": 10,
   "metadata": {},
   "outputs": [],
   "source": [
    "from jax.experimental.ode import odeint\n",
    "from scipy.integrate import solve_ivp"
   ]
  },
  {
   "cell_type": "code",
   "execution_count": 11,
   "metadata": {},
   "outputs": [],
   "source": [
    "regular_rhs = lambda y, t: generator.lmult(t, y)\n",
    "fast_rhs = jit(regular_rhs)"
   ]
  },
  {
   "cell_type": "code",
   "execution_count": 12,
   "metadata": {},
   "outputs": [
    {
     "name": "stdout",
     "output_type": "stream",
     "text": [
      "CPU times: user 986 ms, sys: 40.7 ms, total: 1.03 s\n",
      "Wall time: 902 ms\n"
     ]
    },
    {
     "data": {
      "text/plain": [
       "DeviceArray([[ 1.00000000e+00+0.00000000e+00j,\n",
       "               0.00000000e+00+0.00000000e+00j],\n",
       "             [-1.00000012e+00-1.17843091e-11j,\n",
       "              -5.51258751e-09-3.48955056e-07j]], dtype=complex128)"
      ]
     },
     "execution_count": 12,
     "metadata": {},
     "output_type": "execute_result"
    }
   ],
   "source": [
    "%time odeint(func=fast_rhs, y0=np.array([1., 0.], dtype=complex), t=np.array([0., 2./r]), atol=1e-8, rtol=1e-8).block_until_ready()"
   ]
  },
  {
   "cell_type": "code",
   "execution_count": 13,
   "metadata": {},
   "outputs": [],
   "source": [
    "def full_int(rhs, t_val):\n",
    "    return odeint(func=rhs, y0=np.array([1., 0.], dtype=complex), t=np.array([0., t_val]))"
   ]
  },
  {
   "cell_type": "code",
   "execution_count": 14,
   "metadata": {},
   "outputs": [],
   "source": [
    "#jit_int = jit(full_int)"
   ]
  },
  {
   "cell_type": "code",
   "execution_count": 15,
   "metadata": {},
   "outputs": [
    {
     "name": "stdout",
     "output_type": "stream",
     "text": [
      "CPU times: user 834 ms, sys: 11.6 ms, total: 846 ms\n",
      "Wall time: 838 ms\n"
     ]
    },
    {
     "data": {
      "text/plain": [
       "DeviceArray([[ 1.00000000e+00+0.00000000e+00j,\n",
       "               0.00000000e+00+0.00000000e+00j],\n",
       "             [ 7.07106933e-01+3.53497031e-04j,\n",
       "              -2.10677721e-08-7.07106597e-01j]], dtype=complex128)"
      ]
     },
     "execution_count": 15,
     "metadata": {},
     "output_type": "execute_result"
    }
   ],
   "source": [
    "%time full_int(regular_rhs, 0.5 / r).block_until_ready()"
   ]
  },
  {
   "cell_type": "code",
   "execution_count": 16,
   "metadata": {},
   "outputs": [
    {
     "name": "stdout",
     "output_type": "stream",
     "text": [
      "CPU times: user 9.03 s, sys: 1.39 s, total: 10.4 s\n",
      "Wall time: 8.26 s\n"
     ]
    },
    {
     "data": {
      "text/plain": [
       "array([ 9.99999952e-01-2.49337333e-09j, -2.40556854e-05-3.08949712e-04j])"
      ]
     },
     "execution_count": 16,
     "metadata": {},
     "output_type": "execute_result"
    }
   ],
   "source": [
    "rhs = jit(generator.lmult)\n",
    "rhs(0.1, np.array([1, 0])) # avoid measuring time of compilation\n",
    "%time results = solve_ivp(rhs, (0., 1. / r), y0=onp.array([1., 0.], dtype=complex), method='RK45', atol=1e-10, rtol=1e-10)\n",
    "results.y[:, 1]"
   ]
  },
  {
   "cell_type": "markdown",
   "metadata": {},
   "source": [
    "# 4. Does it differentiate"
   ]
  },
  {
   "cell_type": "code",
   "execution_count": 17,
   "metadata": {},
   "outputs": [],
   "source": [
    "def param_sim(params):\n",
    "    t = params\n",
    "    c = 1.\n",
    "    gen_copy = generator.copy()\n",
    "    gen_copy.signals = [Constant(1.), Signal(lambda t: c, w)]\n",
    "    return np.abs(odeint(func=lambda y, t: gen_copy.lmult(t, y), y0=np.array([1., 0.], dtype=complex), t=np.array([0., t]),atol=1e-8, rtol=1e-8)[-1][1])**2"
   ]
  },
  {
   "cell_type": "code",
   "execution_count": 18,
   "metadata": {},
   "outputs": [],
   "source": [
    "# just time\n",
    "#time_param_sim = lambda t: param_sim(np.array([1., t], dtype=complex))"
   ]
  },
  {
   "cell_type": "code",
   "execution_count": 19,
   "metadata": {},
   "outputs": [],
   "source": [
    "grad_test = jit(value_and_grad(param_sim))"
   ]
  },
  {
   "cell_type": "code",
   "execution_count": 20,
   "metadata": {},
   "outputs": [
    {
     "name": "stdout",
     "output_type": "stream",
     "text": [
      "CPU times: user 1.94 s, sys: 29.3 ms, total: 1.97 s\n",
      "Wall time: 1.95 s\n"
     ]
    },
    {
     "data": {
      "text/plain": [
       "DeviceArray(2.70190449e-08, dtype=float64)"
      ]
     },
     "execution_count": 20,
     "metadata": {},
     "output_type": "execute_result"
    }
   ],
   "source": [
    "%time grad_test(1./r)[1].block_until_ready()"
   ]
  },
  {
   "cell_type": "code",
   "execution_count": 21,
   "metadata": {},
   "outputs": [
    {
     "data": {
      "text/plain": [
       "[<matplotlib.lines.Line2D at 0x7fdcb1070280>]"
      ]
     },
     "execution_count": 21,
     "metadata": {},
     "output_type": "execute_result"
    },
    {
     "data": {
      "image/png": "[encoded data removed]",
      "text/plain": [
       "<Figure size 432x288 with 1 Axes>"
      ]
     },
     "metadata": {
      "needs_background": "light"
     },
     "output_type": "display_data"
    }
   ],
   "source": [
    "t_vals = np.linspace(0.2, 0.4, 1000)\n",
    "#vals = vmap(grad_test)(t_vals)\n",
    "#func_vals = vals[0]\n",
    "#grad_vals = vals[1]\n",
    "vals = [grad_test(t) for t in t_vals]\n",
    "func_vals = np.array([entry[0] for entry in vals])\n",
    "grad_vals = np.array([entry[1] for entry in vals])\n",
    "plt.plot(t_vals, func_vals)\n",
    "plt.plot(t_vals, grad_vals*0.01)"
   ]
  },
  {
   "cell_type": "markdown",
   "metadata": {},
   "source": [
    "# 5. Trying with solvers"
   ]
  },
  {
   "cell_type": "code",
   "execution_count": 22,
   "metadata": {},
   "outputs": [],
   "source": [
    "generator = OperatorModel(signals=signals, operators=operators)\n",
    "\n",
    "de_problem = BMDE_Problem(generator=generator, \n",
    "                          y0=np.array([1., 0.], dtype=complex),\n",
    "                          t0=0.)\n",
    "options = DE_Options(atol=1e-8, rtol=1e-8)\n",
    "solver = BMDE_Solver(de_problem, options=options)"
   ]
  },
  {
   "cell_type": "code",
   "execution_count": 23,
   "metadata": {},
   "outputs": [
    {
     "name": "stdout",
     "output_type": "stream",
     "text": [
      "CPU times: user 872 ms, sys: 11.7 ms, total: 884 ms\n",
      "Wall time: 874 ms\n"
     ]
    }
   ],
   "source": [
    "%time solver.integrate(1./r)"
   ]
  },
  {
   "cell_type": "code",
   "execution_count": 24,
   "metadata": {},
   "outputs": [
    {
     "data": {
      "text/plain": [
       "DeviceArray(1.00000012+3.32283799e-25j, dtype=complex128)"
      ]
     },
     "execution_count": 24,
     "metadata": {},
     "output_type": "execute_result"
    }
   ],
   "source": [
    "solver.y @ solver.y.conj().transpose()"
   ]
  },
  {
   "cell_type": "code",
   "execution_count": 25,
   "metadata": {},
   "outputs": [],
   "source": [
    "def full_sim(t):\n",
    "    gen_copy = generator.copy()\n",
    "    de_problem = BMDE_Problem(generator=gen_copy, \n",
    "                          y0=np.array([1., 0.], dtype=complex),\n",
    "                          t0=0.,\n",
    "                          cutoff_freq=2*w)\n",
    "    options = DE_Options(atol=1e-10, rtol=1e-10)\n",
    "    solver = BMDE_Solver(de_problem, options=options)\n",
    "    solver.integrate(t)\n",
    "    return np.abs(solver.y[1])**2"
   ]
  },
  {
   "cell_type": "code",
   "execution_count": 26,
   "metadata": {},
   "outputs": [],
   "source": [
    "jit_full_sim = jit(full_sim)\n",
    "jit_grad_full_sim = jit(value_and_grad(full_sim))"
   ]
  },
  {
   "cell_type": "markdown",
   "metadata": {},
   "source": [
    "First simulation run with `jit`"
   ]
  },
  {
   "cell_type": "code",
   "execution_count": 27,
   "metadata": {},
   "outputs": [
    {
     "name": "stdout",
     "output_type": "stream",
     "text": [
      "CPU times: user 1.92 s, sys: 29 ms, total: 1.95 s\n",
      "Wall time: 1.93 s\n"
     ]
    },
    {
     "data": {
      "text/plain": [
       "DeviceArray(2.36073731e-21, dtype=float64)"
      ]
     },
     "execution_count": 27,
     "metadata": {},
     "output_type": "execute_result"
    }
   ],
   "source": [
    "%time jit_grad_full_sim(4./r)[0].block_until_ready()"
   ]
  },
  {
   "cell_type": "markdown",
   "metadata": {},
   "source": [
    "Cost of second simulation run with `jit`"
   ]
  },
  {
   "cell_type": "code",
   "execution_count": 28,
   "metadata": {},
   "outputs": [
    {
     "name": "stdout",
     "output_type": "stream",
     "text": [
      "CPU times: user 1.36 ms, sys: 825 µs, total: 2.18 ms\n",
      "Wall time: 855 µs\n"
     ]
    },
    {
     "data": {
      "text/plain": [
       "DeviceArray(1., dtype=float64)"
      ]
     },
     "execution_count": 28,
     "metadata": {},
     "output_type": "execute_result"
    }
   ],
   "source": [
    "%time jit_grad_full_sim(9./r)[0].block_until_ready()"
   ]
  },
  {
   "cell_type": "markdown",
   "metadata": {},
   "source": [
    "Simulate without `jit`"
   ]
  },
  {
   "cell_type": "code",
   "execution_count": 29,
   "metadata": {},
   "outputs": [
    {
     "name": "stdout",
     "output_type": "stream",
     "text": [
      "CPU times: user 889 ms, sys: 14.6 ms, total: 903 ms\n",
      "Wall time: 890 ms\n"
     ]
    },
    {
     "data": {
      "text/plain": [
       "DeviceArray(1., dtype=float64)"
      ]
     },
     "execution_count": 29,
     "metadata": {},
     "output_type": "execute_result"
    }
   ],
   "source": [
    "%time full_sim(1./r)"
   ]
  },
  {
   "cell_type": "markdown",
   "metadata": {},
   "source": [
    "# 6. Optimizing continuous pulses with variable integration length"
   ]
  },
  {
   "cell_type": "code",
   "execution_count": 124,
   "metadata": {},
   "outputs": [],
   "source": [
    "from qiskit.providers.aer.pulse_new.optimize.optimize import find_pulse_bfgs_parallel\n",
    "from qiskit.providers.aer.pulse_new.optimize.opt_utils import diffeo\n",
    "\n",
    "w = 5.\n",
    "r = 0.02\n",
    "\n",
    "\n",
    "\n",
    "operators = [-1j * 2 * np.pi * w * Z / 2, \n",
    "             -1j * 2 * np.pi * r * X / 2]\n",
    "generator = OperatorModel(operators=operators)\n",
    "\n",
    "def gauss(amp, sigma, t0, t):\n",
    "    return amp * np.exp(-(t - t0)**2 / (2 * sigma)**2)"
   ]
  },
  {
   "cell_type": "code",
   "execution_count": 125,
   "metadata": {},
   "outputs": [],
   "source": [
    "def signal_generator(amp, sigma, T):\n",
    "    centered_gauss = lambda t: gauss(amp, sigma, T/2, t)\n",
    "    \n",
    "    return [Constant(1.), Signal(centered_gauss, w)]"
   ]
  },
  {
   "cell_type": "code",
   "execution_count": 153,
   "metadata": {},
   "outputs": [],
   "source": [
    "amp_max = 1.\n",
    "sigma_max = 30.\n",
    "\n",
    "def obj(params):\n",
    "    amp = diffeo(params[0], [-amp_max, amp_max])\n",
    "    sigma = diffeo(params[1], [0., sigma_max])\n",
    "    T = 10 * sigma\n",
    "    gen_copy = generator.copy()\n",
    "    gen_copy.signals = signal_generator(amp, sigma, T)\n",
    "    de_problem = BMDE_Problem(generator=gen_copy, \n",
    "                      y0=np.array([1., 0.], dtype=complex),\n",
    "                      t0=0.,\n",
    "                      cutoff_freq=2*w)\n",
    "    options = DE_Options(atol=1e-8, rtol=1e-8)\n",
    "    solver = BMDE_Solver(de_problem, options=options)\n",
    "    solver.integrate(T)\n",
    "    return 1 - np.abs(solver.y[1])**2 + 1e-6 * T"
   ]
  },
  {
   "cell_type": "code",
   "execution_count": 154,
   "metadata": {},
   "outputs": [
    {
     "name": "stdout",
     "output_type": "stream",
     "text": [
      "Total jobs: 16\n",
      "Jobs completed: 16\n",
      "Time taken: 26.017207860946655\n"
     ]
    }
   ],
   "source": [
    "opt_shape = (2,)\n",
    "test = find_pulse_bfgs_parallel(obj, opt_shape, shots=16, n_jobs=8)"
   ]
  },
  {
   "cell_type": "code",
   "execution_count": 155,
   "metadata": {},
   "outputs": [],
   "source": [
    "best_params = test[0].x\n",
    "amp = diffeo(best_params[0], [-amp_max, amp_max])\n",
    "sigma = diffeo(best_params[1], [0, sigma_max])\n",
    "T = 10 * sigma"
   ]
  },
  {
   "cell_type": "code",
   "execution_count": 156,
   "metadata": {},
   "outputs": [
    {
     "data": {
      "image/png": "[encoded data removed]",
      "text/plain": [
       "<Figure size 432x288 with 1 Axes>"
      ]
     },
     "metadata": {
      "needs_background": "light"
     },
     "output_type": "display_data"
    }
   ],
   "source": [
    "signals = signal_generator(amp, sigma, T)\n",
    "\n",
    "signals[1].plot_envelope(0, T, 100)"
   ]
  },
  {
   "cell_type": "code",
   "execution_count": 157,
   "metadata": {},
   "outputs": [],
   "source": [
    "from scipy.integrate import quad"
   ]
  },
  {
   "cell_type": "code",
   "execution_count": 158,
   "metadata": {},
   "outputs": [
    {
     "data": {
      "text/plain": [
       "(-49.99845265598881, 1.1914544871538535e-12)"
      ]
     },
     "execution_count": 158,
     "metadata": {},
     "output_type": "execute_result"
    }
   ],
   "source": [
    "quad(signals[1].envelope, 0., T)"
   ]
  },
  {
   "cell_type": "code",
   "execution_count": 164,
   "metadata": {},
   "outputs": [
    {
     "data": {
      "text/plain": [
       "50.0"
      ]
     },
     "execution_count": 164,
     "metadata": {},
     "output_type": "execute_result"
    }
   ],
   "source": [
    "1/r"
   ]
  },
  {
   "cell_type": "code",
   "execution_count": 159,
   "metadata": {},
   "outputs": [
    {
     "data": {
      "text/plain": [
       "DeviceArray(-1.1125505e-09, dtype=float64)"
      ]
     },
     "execution_count": 159,
     "metadata": {},
     "output_type": "execute_result"
    }
   ],
   "source": [
    "obj(test[0].x) - 1e-6 * T"
   ]
  }
 ],
 "metadata": {
  "kernelspec": {
   "display_name": "Python 3",
   "language": "python",
   "name": "python3"
  },
  "language_info": {
   "codemirror_mode": {
    "name": "ipython",
    "version": 3
   },
   "file_extension": ".py",
   "mimetype": "text/x-python",
   "name": "python",
   "nbconvert_exporter": "python",
   "pygments_lexer": "ipython3",
   "version": "3.8.5"
  }
 },
 "nbformat": 4,
 "nbformat_minor": 4
}
