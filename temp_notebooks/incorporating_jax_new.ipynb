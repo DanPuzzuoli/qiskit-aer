{
 "cells": [
  {
   "cell_type": "code",
   "execution_count": 4,
   "metadata": {},
   "outputs": [],
   "source": [
    "from matplotlib import pyplot as plt\n",
    "import jax.numpy as jnp\n",
    "from jax.config import config\n",
    "config.update(\"jax_enable_x64\", True)\n",
    "import numpy as np\n",
    "from scipy.linalg import expm\n",
    "from jax import jit, grad, value_and_grad, vmap\n",
    "from jax.ops import index_update, index\n",
    "#from time import time\n",
    "from qiskit.quantum_info.operators import Operator\n",
    "from qiskit.quantum_info.operators.base_operator import BaseOperator\n",
    "from qiskit.providers.aer.pulse_new.de.DE_Problems import SchrodingerProblem\n",
    "from qiskit.providers.aer.pulse_new.de.DE_Solvers import BMDE_Solver\n",
    "from qiskit.providers.aer.pulse_new.de.solve import solve\n",
    "from qiskit.providers.aer.pulse_new.de.DE_Options import DE_Options\n",
    "from qiskit.providers.aer.pulse_new.models.signals import VectorSignal, Constant, Signal, PiecewiseConstant\n",
    "from qiskit.providers.aer.pulse_new.models.transfer_functions import Convolution\n",
    "from qiskit.providers.aer.pulse_new.models.operator_models import OperatorModel\n",
    "from qiskit.providers.aer.pulse_new.models.quantum_models import HamiltonianModel\n",
    "from qiskit.providers.aer.pulse_new.models.frame import Frame\n",
    "from qiskit.providers.aer.pulse_new.optimize.optimize import find_pulse_bfgs_parallel, find_pulse_bfgs\n",
    "from qiskit.providers.aer.pulse_new.optimize.opt_utils import diffeo\n",
    "\n",
    "def gaussian(amp, sig, t0, t):\n",
    "    return amp * jnp.exp( -(t - t0)**2 / (2 * sig**2) )\n",
    "\n",
    "X = Operator.from_label('X')\n",
    "Y = Operator.from_label('Y')\n",
    "Z = Operator.from_label('Z')"
   ]
  },
  {
   "cell_type": "code",
   "execution_count": 5,
   "metadata": {},
   "outputs": [],
   "source": [
    "amp = 1. # amplitude\n",
    "sig = 2. # sigma\n",
    "t0 = 3.5*sig # center of Gaussian\n",
    "T = 7*sig # end of signal\n",
    "\n",
    "gaussian_envelope = lambda t: gaussian(amp, sig, t0, t)"
   ]
  },
  {
   "cell_type": "code",
   "execution_count": 6,
   "metadata": {},
   "outputs": [
    {
     "name": "stderr",
     "output_type": "stream",
     "text": [
      "WARNING:absl:No GPU/TPU found, falling back to CPU. (Set TF_CPP_MIN_LOG_LEVEL=0 and rerun for more info.)\n"
     ]
    }
   ],
   "source": [
    "#####################\n",
    "# construct operators\n",
    "#####################\n",
    "r = 0.5\n",
    "w = 1.\n",
    "X = Operator.from_label('X')\n",
    "Y = Operator.from_label('Y')\n",
    "Z = Operator.from_label('Z')\n",
    "\n",
    "operators = [2 * jnp.pi * w * Z.data/2, \n",
    "             2 * jnp.pi * r * X.data/2]\n",
    "\n",
    "###################\n",
    "# construct signals\n",
    "###################\n",
    "\n",
    "# Define gaussian envelope function to have max amp 0 and \n",
    "amp = 1.\n",
    "sig = 0.399128/r\n",
    "t0 = 3.5*sig\n",
    "T = 7*sig\n",
    "gaussian_envelope = lambda t: gaussian(amp, sig, t0, t)\n",
    "\n",
    "signals = [Constant(1.), \n",
    "           Signal(envelope=gaussian_envelope, carrier_freq=w)]\n",
    "\n",
    "#################\n",
    "# construct model\n",
    "#################\n",
    "\n",
    "hamiltonian = HamiltonianModel(operators=operators)"
   ]
  },
  {
   "cell_type": "code",
   "execution_count": 7,
   "metadata": {},
   "outputs": [],
   "source": [
    "def simulation(amp, sig, t0):\n",
    "    gaussian_envelope = lambda t: gaussian(amp, sig, t0, t)\n",
    "    signals = [Constant(1.), \n",
    "               Signal(envelope=gaussian_envelope, carrier_freq=w)]\n",
    "    ham_copy = hamiltonian.copy()\n",
    "    ham_copy.signals = signals\n",
    "\n",
    "    se_problem = SchrodingerProblem(hamiltonian=ham_copy, \n",
    "                                    y0=jnp.array([0., 1.]), \n",
    "                                    interval=[0., T])\n",
    "    return solve(se_problem, options=DE_Options(atol=1e-10, rtol=1e-10))"
   ]
  },
  {
   "cell_type": "code",
   "execution_count": 8,
   "metadata": {},
   "outputs": [],
   "source": [
    "jit_simulation = jit(simulation)"
   ]
  },
  {
   "cell_type": "code",
   "execution_count": 9,
   "metadata": {},
   "outputs": [
    {
     "name": "stdout",
     "output_type": "stream",
     "text": [
      "CPU times: user 750 ms, sys: 14.7 ms, total: 765 ms\n",
      "Wall time: 763 ms\n",
      "[0.99723026 0.00276974]\n"
     ]
    }
   ],
   "source": [
    "%time y = jit_simulation(amp, sig, t0).block_until_ready()\n",
    "print(np.abs(y)**2)"
   ]
  },
  {
   "cell_type": "code",
   "execution_count": 10,
   "metadata": {},
   "outputs": [
    {
     "name": "stdout",
     "output_type": "stream",
     "text": [
      "CPU times: user 1.41 ms, sys: 890 µs, total: 2.3 ms\n",
      "Wall time: 1.05 ms\n"
     ]
    }
   ],
   "source": [
    "%time y = jit_simulation(amp, 4*sig, t0).block_until_ready()"
   ]
  },
  {
   "cell_type": "code",
   "execution_count": 11,
   "metadata": {},
   "outputs": [
    {
     "data": {
      "text/plain": [
       "5.587791999999999"
      ]
     },
     "execution_count": 11,
     "metadata": {},
     "output_type": "execute_result"
    }
   ],
   "source": [
    "T"
   ]
  },
  {
   "cell_type": "markdown",
   "metadata": {},
   "source": [
    "# 2. Pulse optimization"
   ]
  },
  {
   "cell_type": "code",
   "execution_count": 31,
   "metadata": {},
   "outputs": [],
   "source": [
    "dim = 3\n",
    "ident = jnp.eye(dim, dtype=complex)\n",
    "a = jnp.diag(jnp.sqrt(jnp.arange(1, dim, dtype=complex)), 1)\n",
    "adag = a.conj().transpose()\n",
    "N = adag @ a\n",
    "\n",
    "w = 5.\n",
    "anharm = -0.33\n",
    "r = 0.02\n",
    "dt = 1.\n",
    "\n",
    "operators = [2 * jnp.pi * w * N + jnp.pi * anharm * N @ (N - ident),\n",
    "             2 * jnp.pi * r * (a + adag)]\n",
    "\n",
    "hamiltonian = HamiltonianModel(operators=operators)"
   ]
  },
  {
   "cell_type": "code",
   "execution_count": 37,
   "metadata": {},
   "outputs": [],
   "source": [
    "# simple low pass filter function for a piecewise constant signal\n",
    "def lowpass(t, sig, cutoff=0.005):\n",
    "    # assumes that t is in units of ns\n",
    "    dt = t[1]-t[0]\n",
    "    freqs = (1/dt)*jnp.fft.fftfreq(t.shape[-1])\n",
    "    sig_fft = jnp.fft.fft(sig)\n",
    "    filtered_sig_fft = sig_fft*(1/(1+1.0j*freqs/cutoff))\n",
    "    filtered_sig = jnp.fft.ifft(filtered_sig_fft)\n",
    "    return filtered_sig\n",
    "\n",
    "# signal generator - given params, maps them to a piecewise constant signal\n",
    "# bounded between [-1, 1], smoothed by the low pass filter, driven on resonance\n",
    "def signal_generator(params):\n",
    "    amp_params = params[0]\n",
    "    phase_params = params[1]\n",
    "    normed_amps = diffeo(amp_params, [-1, 1])\n",
    "    normed_phases = diffeo(phase_params, [-jnp.pi, jnp.pi])\n",
    "    times = jnp.arange(params.shape[-1])*dt + dt\n",
    "    smoothed_samples = lowpass(times, normed_amps * jnp.exp(1j*lowpass(times, normed_phases)))\n",
    "    return [Constant(1.), PiecewiseConstant(dt=dt, samples=smoothed_samples, carrier_freq=w)]"
   ]
  },
  {
   "cell_type": "code",
   "execution_count": 38,
   "metadata": {},
   "outputs": [],
   "source": [
    "frame = Frame(2 * jnp.pi * w * N)\n",
    "\n",
    "# unitary as function of params\n",
    "def get_unitary(signals):\n",
    "    T = signals[1]._samples.shape[-1] * dt\n",
    "    ham_copy = hamiltonian.copy()\n",
    "    ham_copy.signals = signals\n",
    "    ham_copy.frame = frame\n",
    "    ham_copy.cutoff_freq = 2*w\n",
    "    se_problem = SchrodingerProblem(ham_copy, \n",
    "                                    y0=jnp.eye(3, dtype=complex), \n",
    "                                    interval=[0., T])\n",
    "    y = solve(se_problem, options=DE_Options(method='jaxexpm', max_dt=dt))\n",
    "    return y"
   ]
  },
  {
   "cell_type": "code",
   "execution_count": 39,
   "metadata": {},
   "outputs": [],
   "source": [
    "# fidelity to X gate\n",
    "def X_fidelity(U):\n",
    "    ip = (jnp.array([[0., 1.], [1., 0.]], dtype=complex).conj() * U[0:2, 0:2]).sum()\n",
    "    return np.real(ip * ip.conj())/4\n",
    "\n",
    "def obj(params):\n",
    "    signals = signal_generator(params)\n",
    "    return (1 - X_fidelity(get_unitary(signals))) + jnp.sqrt(jnp.abs(signals[1]._samples[0]) + jnp.abs(signals[1]._samples[-1]))"
   ]
  },
  {
   "cell_type": "code",
   "execution_count": 42,
   "metadata": {},
   "outputs": [
    {
     "name": "stdout",
     "output_type": "stream",
     "text": [
      "Optimizing pulse...\n",
      "Evaluation 200: obj = 0.026868065146494004, time = 3.589211940765381\n",
      "Evaluation 400: obj = 0.022260039591040115, time = 0.33672499656677246\n",
      "Evaluation 600: obj = 0.017441122512042256, time = 0.3388023376464844\n",
      "Warning: Desired error not necessarily achieved due to precision loss.\n",
      "         Current function value: 0.017439\n",
      "         Iterations: 339\n",
      "         Function evaluations: 626\n",
      "         Gradient evaluations: 614\n",
      "Total time taken: 4.585138320922852\n"
     ]
    }
   ],
   "source": [
    "# specifies number of time steps\n",
    "ctrl_shape = (2,60)\n",
    "result = find_pulse_bfgs(obj, ctrl_shape, update_rate=200)"
   ]
  },
  {
   "cell_type": "code",
   "execution_count": 43,
   "metadata": {},
   "outputs": [
    {
     "data": {
      "image/png": "[encoded data removed]",
      "text/plain": [
       "<Figure size 432x288 with 1 Axes>"
      ]
     },
     "metadata": {
      "needs_background": "light"
     },
     "output_type": "display_data"
    }
   ],
   "source": [
    "drive_sig = signal_generator(result.x)[1]\n",
    "drive_sig.plot_envelope(0, dt*len(drive_sig._samples), ctrl_shape[-1]*5)"
   ]
  },
  {
   "cell_type": "code",
   "execution_count": 465,
   "metadata": {},
   "outputs": [
    {
     "data": {
      "text/plain": [
       "DeviceArray(0.12379951+0.45100255j, dtype=complex128)"
      ]
     },
     "execution_count": 465,
     "metadata": {},
     "output_type": "execute_result"
    }
   ],
   "source": [
    "drive_sig._samples.sum()*dt"
   ]
  },
  {
   "cell_type": "code",
   "execution_count": 51,
   "metadata": {},
   "outputs": [],
   "source": [
    "U = get_unitary(result.x)"
   ]
  },
  {
   "cell_type": "code",
   "execution_count": 52,
   "metadata": {},
   "outputs": [
    {
     "data": {
      "text/plain": [
       "DeviceArray([[ 1.00000000e+00+0.00000000e+00j,\n",
       "              -1.75960679e-16+8.05007831e-16j,\n",
       "               1.54539467e-16+2.88170773e-16j],\n",
       "             [-1.75960679e-16-8.05007831e-16j,\n",
       "               1.00000000e+00+0.00000000e+00j,\n",
       "              -3.45904539e-16-1.39058881e-16j],\n",
       "             [ 1.54539467e-16-2.88170773e-16j,\n",
       "              -3.45904539e-16+1.39058881e-16j,\n",
       "               1.00000000e+00+0.00000000e+00j]], dtype=complex128)"
      ]
     },
     "execution_count": 52,
     "metadata": {},
     "output_type": "execute_result"
    }
   ],
   "source": [
    "U @ U.conj().transpose()"
   ]
  },
  {
   "cell_type": "code",
   "execution_count": 20,
   "metadata": {},
   "outputs": [
    {
     "ename": "NameError",
     "evalue": "name 'test2' is not defined",
     "output_type": "error",
     "traceback": [
      "\u001b[0;31m---------------------------------------------------------------------------\u001b[0m",
      "\u001b[0;31mNameError\u001b[0m                                 Traceback (most recent call last)",
      "\u001b[0;32m<ipython-input-20-f4b0304fb87d>\u001b[0m in \u001b[0;36m<module>\u001b[0;34m\u001b[0m\n\u001b[0;32m----> 1\u001b[0;31m \u001b[0mtest2\u001b[0m\u001b[0;34m.\u001b[0m\u001b[0mplot_envelope\u001b[0m\u001b[0;34m(\u001b[0m\u001b[0;36m0\u001b[0m\u001b[0;34m,\u001b[0m \u001b[0mdt\u001b[0m\u001b[0;34m*\u001b[0m\u001b[0mctrl_shape\u001b[0m\u001b[0;34m[\u001b[0m\u001b[0;34m-\u001b[0m\u001b[0;36m1\u001b[0m\u001b[0;34m]\u001b[0m\u001b[0;34m,\u001b[0m \u001b[0mctrl_shape\u001b[0m\u001b[0;34m[\u001b[0m\u001b[0;34m-\u001b[0m\u001b[0;36m1\u001b[0m\u001b[0;34m]\u001b[0m\u001b[0;34m*\u001b[0m\u001b[0;36m5\u001b[0m\u001b[0;34m)\u001b[0m\u001b[0;34m\u001b[0m\u001b[0;34m\u001b[0m\u001b[0m\n\u001b[0m",
      "\u001b[0;31mNameError\u001b[0m: name 'test2' is not defined"
     ]
    }
   ],
   "source": [
    "test2.plot_envelope(0, dt*ctrl_shape[-1], ctrl_shape[-1]*5)"
   ]
  },
  {
   "cell_type": "code",
   "execution_count": null,
   "metadata": {},
   "outputs": [],
   "source": [
    "test._func(2.)"
   ]
  },
  {
   "cell_type": "code",
   "execution_count": null,
   "metadata": {},
   "outputs": [],
   "source": [
    "index_update(jnp.ones(10, dtype=float), index[-5:], jnp.zeros(5, dtype=float))"
   ]
  },
  {
   "cell_type": "code",
   "execution_count": null,
   "metadata": {},
   "outputs": [],
   "source": [
    "jnp.flip(np.array([1, 2, 3]))"
   ]
  },
  {
   "cell_type": "code",
   "execution_count": 76,
   "metadata": {},
   "outputs": [],
   "source": [
    "def lowpass(t, sig, cutoff=0.01):\n",
    "    # assumes that t is in units of ns\n",
    "    dt = t[1]-t[0]\n",
    "    freqs = (1/dt)*jnp.fft.fftfreq(t.shape[-1])\n",
    "    sig_fft = jnp.fft.fft(sig)\n",
    "    filtered_sig_fft = sig_fft*(1/(1+1.0j*freqs/cutoff))\n",
    "    filtered_sig = jnp.fft.ifft(filtered_sig_fft)\n",
    "    return filtered_sig.real"
   ]
  },
  {
   "cell_type": "code",
   "execution_count": 156,
   "metadata": {},
   "outputs": [],
   "source": [
    "dt = 0.01\n",
    "N = 1 // dt\n",
    "times = jnp.arange(N)*dt\n",
    "sig = jnp.exp(-1j*2*jnp.pi *  1. * times)"
   ]
  },
  {
   "cell_type": "code",
   "execution_count": 164,
   "metadata": {},
   "outputs": [
    {
     "name": "stderr",
     "output_type": "stream",
     "text": [
      "/opt/anaconda3/envs/autodiffEnv/lib/python3.8/site-packages/numpy/core/_asarray.py:83: ComplexWarning: Casting complex values to real discards the imaginary part\n",
      "  return array(a, dtype, copy=False, order=order)\n"
     ]
    },
    {
     "data": {
      "text/plain": [
       "[<matplotlib.lines.Line2D at 0x7f8a03b74af0>]"
      ]
     },
     "execution_count": 164,
     "metadata": {},
     "output_type": "execute_result"
    },
    {
     "data": {
      "image/png": "[encoded data removed]",
      "text/plain": [
       "<Figure size 432x288 with 1 Axes>"
      ]
     },
     "metadata": {
      "needs_background": "light"
     },
     "output_type": "display_data"
    }
   ],
   "source": [
    "plt.plot(times, lowpass(times, sig, cutoff=0.01))\n",
    "plt.plot(times, sig)"
   ]
  },
  {
   "cell_type": "code",
   "execution_count": 165,
   "metadata": {},
   "outputs": [
    {
     "data": {
      "text/plain": [
       "DeviceArray([0.01010423-8.41078049e-19j, 0.01046813-6.72862439e-18j,\n",
       "             0.01037479+2.24287480e-18j, 0.01041963-1.62608423e-17j,\n",
       "             0.0103765 -1.57001236e-17j, 0.01039843-2.35501854e-17j,\n",
       "             0.01036861+2.24287480e-18j, 0.01038184-6.65853455e-18j,\n",
       "             0.01035817+1.73822797e-17j, 0.01036683+7.28934309e-18j,\n",
       "             0.01034671+1.07237451e-17j, 0.01035256+3.36431220e-18j,\n",
       "             0.01033474-1.96251545e-18j, 0.01033871+8.97149919e-18j,\n",
       "             0.01032249+1.21956317e-17j, 0.0103251 -1.45786862e-17j,\n",
       "             0.01031006-1.12143740e-17j, 0.01031167-2.18680293e-17j,\n",
       "             0.01029753-1.12143740e-18j, 0.01029835-1.40179675e-17j,\n",
       "             0.01028492-1.20554520e-17j, 0.01028513+1.82233577e-17j,\n",
       "             0.01027226+1.40179675e-17j, 0.01027198-1.73822797e-17j,\n",
       "             0.01025957+8.97149919e-18j, 0.01025889+2.24287480e-18j,\n",
       "             0.01024686+8.97149919e-18j, 0.01024584+2.41109041e-17j,\n",
       "             0.01023414-1.03732959e-17j, 0.01023285-1.80481331e-17j,\n",
       "             0.0102214 +1.12143740e-18j, 0.01021989-5.60718699e-19j,\n",
       "             0.01020867+4.48574959e-18j, 0.01020696+4.28913930e-18j,\n",
       "             0.01019593+3.36431220e-18j, 0.01019407+1.00929366e-17j,\n",
       "             0.01018319+7.85006179e-18j, 0.0101812 -2.13073106e-17j,\n",
       "             0.01017046-7.85006179e-18j, 0.01016837-1.40179675e-17j,\n",
       "             0.01015773+5.04646829e-18j, 0.01015556-5.60718699e-18j,\n",
       "             0.01014501-7.28934309e-18j, 0.01014278+1.17750927e-17j,\n",
       "             0.01013229-5.60718699e-19j, 0.01013002+3.11198878e-17j,\n",
       "             0.01011958+3.92503090e-17j, 0.01011728+1.68215610e-17j,\n",
       "             0.01010688-2.35501854e-17j, 0.01010458+6.72862439e-18j,\n",
       "             0.01009419+1.68215610e-18j, 0.01009189-2.91573724e-17j,\n",
       "             0.0100815 -6.16790569e-18j, 0.01007923-3.92503090e-17j,\n",
       "             0.01006883-3.53252781e-17j, 0.01006659-1.96251545e-17j,\n",
       "             0.01005616+1.45786862e-17j, 0.01005398+0.00000000e+00j,\n",
       "             0.01004349+1.86438968e-17j, 0.01004139+2.35501854e-17j,\n",
       "             0.01003083+5.60718699e-19j, 0.01002883+5.04646829e-18j,\n",
       "             0.01001818-2.80359350e-18j, 0.0100163 +2.24287480e-17j,\n",
       "             0.01000553+5.60718699e-19j, 0.01000379-2.41109041e-17j,\n",
       "             0.00999289+4.61425214e-18j, 0.00999132+5.60718699e-18j,\n",
       "             0.00998024-1.34572488e-17j, 0.00997888-7.28934309e-18j,\n",
       "             0.00996759+2.33048709e-17j, 0.00996647+1.20554520e-17j,\n",
       "             0.00995494-3.36431220e-18j, 0.0099541 +2.13073106e-17j,\n",
       "             0.00994227+7.85006179e-18j, 0.00994178-2.24287480e-18j,\n",
       "             0.00992959+2.29894667e-17j, 0.00992952+9.53221789e-18j,\n",
       "             0.00991687-2.55127008e-17j, 0.00991732-1.96251545e-17j,\n",
       "             0.00990412+2.01858732e-17j, 0.00990519-7.85006179e-18j,\n",
       "             0.00989131-1.34572488e-17j, 0.00989318+3.36431220e-17j,\n",
       "             0.00987841+1.06536553e-17j, 0.0098813 -1.19853622e-17j,\n",
       "             0.00986537+1.12143740e-17j, 0.00986963+5.32682764e-18j,\n",
       "             0.00985211+8.41078049e-18j, 0.00985828-3.11899776e-18j,\n",
       "             0.00983847+7.85006179e-18j, 0.00984746+1.40179675e-17j,\n",
       "             0.00982413-1.57351685e-17j, 0.0098377 +1.51394049e-17j,\n",
       "             0.00980823+2.63537789e-17j, 0.00983051-5.60718699e-19j,\n",
       "             0.00978775-1.34572488e-17j, 0.00983297+1.00929366e-17j,\n",
       "             0.00974003+7.42952277e-18j], dtype=complex128)"
      ]
     },
     "execution_count": 165,
     "metadata": {},
     "output_type": "execute_result"
    }
   ],
   "source": [
    "jnp.fft.ifft(1/(1+1.0j*freqs/0.01))"
   ]
  },
  {
   "cell_type": "code",
   "execution_count": 117,
   "metadata": {},
   "outputs": [
    {
     "data": {
      "text/plain": [
       "DeviceArray([ 0.        ,  1.11111111,  2.22222222,  3.33333333,\n",
       "              4.44444444, -4.44444444, -3.33333333, -2.22222222,\n",
       "             -1.11111111], dtype=float64)"
      ]
     },
     "execution_count": 117,
     "metadata": {},
     "output_type": "execute_result"
    }
   ],
   "source": [
    "freqs"
   ]
  },
  {
   "cell_type": "code",
   "execution_count": 108,
   "metadata": {},
   "outputs": [
    {
     "data": {
      "text/plain": [
       "DeviceArray([0.+0.j, 0.+0.j, 4.+0.j, 0.+0.j], dtype=complex128)"
      ]
     },
     "execution_count": 108,
     "metadata": {},
     "output_type": "execute_result"
    }
   ],
   "source": [
    "jnp.fft.fft(np.array([1., -1., 1., -1.]))"
   ]
  },
  {
   "cell_type": "code",
   "execution_count": 141,
   "metadata": {},
   "outputs": [
    {
     "name": "stdout",
     "output_type": "stream",
     "text": [
      "Help on function fft in module jax._src.numpy.fft:\n",
      "\n",
      "fft(a, n=None, axis=-1, norm=None)\n",
      "    Compute the one-dimensional discrete Fourier Transform.\n",
      "    \n",
      "    LAX-backend implementation of :func:`fft`.\n",
      "    Original docstring below.\n",
      "    \n",
      "    This function computes the one-dimensional *n*-point discrete Fourier\n",
      "    Transform (DFT) with the efficient Fast Fourier Transform (FFT)\n",
      "    algorithm [CT].\n",
      "    \n",
      "    Parameters\n",
      "    ----------\n",
      "    a : array_like\n",
      "        Input array, can be complex.\n",
      "    n : int, optional\n",
      "        Length of the transformed axis of the output.\n",
      "        If `n` is smaller than the length of the input, the input is cropped.\n",
      "        If it is larger, the input is padded with zeros.  If `n` is not given,\n",
      "        the length of the input along the axis specified by `axis` is used.\n",
      "    axis : int, optional\n",
      "        Axis over which to compute the FFT.  If not given, the last axis is\n",
      "        used.\n",
      "    norm : {None, \"ortho\"}, optional\n",
      "        .. versionadded:: 1.10.0\n",
      "    \n",
      "    Returns\n",
      "    -------\n",
      "    out : complex ndarray\n",
      "        The truncated or zero-padded input, transformed along the axis\n",
      "        indicated by `axis`, or the last one if `axis` is not specified.\n",
      "    \n",
      "    Raises\n",
      "    ------\n",
      "    IndexError\n",
      "        if `axes` is larger than the last axis of `a`.\n",
      "    \n",
      "    See Also\n",
      "    --------\n",
      "    numpy.fft : for definition of the DFT and conventions used.\n",
      "    ifft : The inverse of `fft`.\n",
      "    fft2 : The two-dimensional FFT.\n",
      "    fftn : The *n*-dimensional FFT.\n",
      "    rfftn : The *n*-dimensional FFT of real input.\n",
      "    fftfreq : Frequency bins for given FFT parameters.\n",
      "    \n",
      "    Notes\n",
      "    -----\n",
      "    FFT (Fast Fourier Transform) refers to a way the discrete Fourier\n",
      "    Transform (DFT) can be calculated efficiently, by using symmetries in the\n",
      "    calculated terms.  The symmetry is highest when `n` is a power of 2, and\n",
      "    the transform is therefore most efficient for these sizes.\n",
      "    \n",
      "    The DFT is defined, with the conventions used in this implementation, in\n",
      "    the documentation for the `numpy.fft` module.\n",
      "    \n",
      "    References\n",
      "    ----------\n",
      "    .. [CT] Cooley, James W., and John W. Tukey, 1965, \"An algorithm for the\n",
      "            machine calculation of complex Fourier series,\" *Math. Comput.*\n",
      "            19: 297-301.\n",
      "    \n",
      "    Examples\n",
      "    --------\n",
      "    >>> np.fft.fft(np.exp(2j * np.pi * np.arange(8) / 8))\n",
      "    array([-2.33486982e-16+1.14423775e-17j,  8.00000000e+00-1.25557246e-15j,\n",
      "            2.33486982e-16+2.33486982e-16j,  0.00000000e+00+1.22464680e-16j,\n",
      "           -1.14423775e-17+2.33486982e-16j,  0.00000000e+00+5.20784380e-16j,\n",
      "            1.14423775e-17+1.14423775e-17j,  0.00000000e+00+1.22464680e-16j])\n",
      "    \n",
      "    In this example, real input has an FFT which is Hermitian, i.e., symmetric\n",
      "    in the real part and anti-symmetric in the imaginary part, as described in\n",
      "    the `numpy.fft` documentation:\n",
      "    \n",
      "    >>> import matplotlib.pyplot as plt\n",
      "    >>> t = np.arange(256)\n",
      "    >>> sp = np.fft.fft(np.sin(t))\n",
      "    >>> freq = np.fft.fftfreq(t.shape[-1])\n",
      "    >>> plt.plot(freq, sp.real, freq, sp.imag)\n",
      "    [<matplotlib.lines.Line2D object at 0x...>, <matplotlib.lines.Line2D object at 0x...>]\n",
      "    >>> plt.show()\n",
      "\n"
     ]
    }
   ],
   "source": [
    "help(jnp.fft.fft)"
   ]
  },
  {
   "cell_type": "code",
   "execution_count": 44,
   "metadata": {},
   "outputs": [],
   "source": [
    "ham_copy = hamiltonian.copy()\n",
    "ham_copy.signals = signals\n",
    "ham_copy.frame = frame\n",
    "ham_copy.cutoff_freq = 2*w"
   ]
  },
  {
   "cell_type": "code",
   "execution_count": 45,
   "metadata": {},
   "outputs": [
    {
     "data": {
      "text/plain": [
       "DeviceArray([[ 0.00000000e+00+0.00000000e+00j,\n",
       "               1.97854237e-04+4.84603117e-20j,\n",
       "               0.00000000e+00+0.00000000e+00j],\n",
       "             [ 1.97854237e-04-4.84603117e-20j,\n",
       "               0.00000000e+00+0.00000000e+00j,\n",
       "               2.79808146e-04-9.25544996e-19j],\n",
       "             [ 0.00000000e+00+0.00000000e+00j,\n",
       "               2.79808146e-04+9.25544996e-19j,\n",
       "              -2.07345115e+00+0.00000000e+00j]], dtype=complex128)"
      ]
     },
     "execution_count": 45,
     "metadata": {},
     "output_type": "execute_result"
    }
   ],
   "source": [
    "ham_copy.evaluate(0.2)"
   ]
  },
  {
   "cell_type": "code",
   "execution_count": 46,
   "metadata": {},
   "outputs": [
    {
     "data": {
      "image/png": "[encoded data removed]",
      "text/plain": [
       "<Figure size 432x288 with 1 Axes>"
      ]
     },
     "metadata": {
      "needs_background": "light"
     },
     "output_type": "display_data"
    }
   ],
   "source": [
    "signals[1].plot_envelope(0, 20, 50)"
   ]
  },
  {
   "cell_type": "code",
   "execution_count": 254,
   "metadata": {},
   "outputs": [
    {
     "data": {
      "text/plain": [
       "DeviceArray([[0.+0.j, 0.+0.j, 0.+0.j],\n",
       "             [0.+0.j, 0.+0.j, 0.+0.j],\n",
       "             [0.+0.j, 0.+0.j, 2.+0.j]], dtype=complex128)"
      ]
     },
     "execution_count": 254,
     "metadata": {},
     "output_type": "execute_result"
    }
   ],
   "source": [
    "N @(N - ident)"
   ]
  },
  {
   "cell_type": "code",
   "execution_count": 303,
   "metadata": {},
   "outputs": [],
   "source": [
    "ham_copy.signals = [Constant(1.), PiecewiseConstant(dt=1., samples=jnp.array([1., 1.+1j, 2j]), carrier_freq=w)]"
   ]
  },
  {
   "cell_type": "code",
   "execution_count": 304,
   "metadata": {},
   "outputs": [
    {
     "data": {
      "text/plain": [
       "DeviceArray(0.06283185+8.4099027e-34j, dtype=complex128)"
      ]
     },
     "execution_count": 304,
     "metadata": {},
     "output_type": "execute_result"
    }
   ],
   "source": [
    "ham_copy.evaluate(0.5)[0,1]"
   ]
  },
  {
   "cell_type": "code",
   "execution_count": 306,
   "metadata": {},
   "outputs": [
    {
     "data": {
      "text/plain": [
       "DeviceArray(0.01965603+0.08665636j, dtype=complex128)"
      ]
     },
     "execution_count": 306,
     "metadata": {},
     "output_type": "execute_result"
    }
   ],
   "source": [
    "ham_copy.evaluate(0.65)[1,2]"
   ]
  },
  {
   "cell_type": "code",
   "execution_count": 267,
   "metadata": {},
   "outputs": [
    {
     "data": {
      "text/plain": [
       "DeviceArray([[ 0.        +0.j,  0.        +0.j,  0.        +0.j],\n",
       "             [ 0.        +0.j, 31.41592654+0.j,  0.        +0.j],\n",
       "             [ 0.        +0.j,  0.        +0.j, 60.75840192+0.j]],            dtype=complex128)"
      ]
     },
     "execution_count": 267,
     "metadata": {},
     "output_type": "execute_result"
    }
   ],
   "source": [
    "frame.frame_operator"
   ]
  },
  {
   "cell_type": "code",
   "execution_count": 48,
   "metadata": {},
   "outputs": [],
   "source": [
    "dim = 10\n",
    "ident = jnp.eye(dim, dtype=complex)\n",
    "a = jnp.diag(jnp.sqrt(jnp.arange(1, dim, dtype=complex)), 1)\n",
    "adag = a.conj().transpose()\n",
    "N = adag @ a\n",
    "\n",
    "w = 5.\n",
    "anharm = -0.33\n",
    "r = 0.02\n",
    "dt = 1.\n",
    "\n",
    "operators = [2 * jnp.pi * w * N + np.pi * anharm * N @ (N - ident),\n",
    "             2 * jnp.pi * r * (a + adag)]\n",
    "\n",
    "hamiltonian = HamiltonianModel(operators=operators)\n",
    "hamiltonian.signals = [Constant(1.), PiecewiseConstant(dt=dt, samples=jnp.array([1., 1.+1j, 2j]), carrier_freq=w)]\n",
    "\n",
    "hamiltonian.frame = 2 * jnp.pi * w * N\n",
    "hamiltonian.cutoff_freq = 2*w"
   ]
  },
  {
   "cell_type": "code",
   "execution_count": 49,
   "metadata": {},
   "outputs": [],
   "source": [
    "def plot_qubit_hamiltonian_components(hamiltonian, t0, tf, N=200):\n",
    "    t_vals = np.linspace(t0, tf, N)\n",
    "    model_vals = np.array([hamiltonian.evaluate(t) for t in t_vals])\n",
    "    x_coeff = model_vals[:, 0, 1].real\n",
    "    y_coeff = -model_vals[:, 0, 1].imag\n",
    "    z_coeff = model_vals[:, 1, 2].real\n",
    "    w_coeff = -model_vals[:, 1, 2].imag\n",
    "    plt.plot(t_vals, x_coeff, label='X coefficient')\n",
    "    plt.plot(t_vals, y_coeff, label='Y coefficient')\n",
    "    plt.plot(t_vals, z_coeff, label='Z coefficient')\n",
    "    plt.plot(t_vals, w_coeff, label='W coefficient')\n",
    "    plt.legend()"
   ]
  },
  {
   "cell_type": "code",
   "execution_count": 50,
   "metadata": {},
   "outputs": [
    {
     "data": {
      "image/png": "[encoded data removed]",
      "text/plain": [
       "<Figure size 432x288 with 1 Axes>"
      ]
     },
     "metadata": {
      "needs_background": "light"
     },
     "output_type": "display_data"
    }
   ],
   "source": [
    "plot_qubit_hamiltonian_components(hamiltonian, 0, 3*dt)"
   ]
  },
  {
   "cell_type": "code",
   "execution_count": 51,
   "metadata": {},
   "outputs": [
    {
     "ename": "NameError",
     "evalue": "name 'quad' is not defined",
     "output_type": "error",
     "traceback": [
      "\u001b[0;31m---------------------------------------------------------------------------\u001b[0m",
      "\u001b[0;31mNameError\u001b[0m                                 Traceback (most recent call last)",
      "\u001b[0;32m<ipython-input-51-8f5985c36bf8>\u001b[0m in \u001b[0;36m<module>\u001b[0;34m\u001b[0m\n\u001b[0;32m----> 1\u001b[0;31m \u001b[0mprint\u001b[0m\u001b[0;34m(\u001b[0m\u001b[0mquad\u001b[0m\u001b[0;34m(\u001b[0m\u001b[0;32mlambda\u001b[0m \u001b[0mt\u001b[0m\u001b[0;34m:\u001b[0m \u001b[0mhamiltonian\u001b[0m\u001b[0;34m.\u001b[0m\u001b[0mevaluate\u001b[0m\u001b[0;34m(\u001b[0m\u001b[0mt\u001b[0m\u001b[0;34m)\u001b[0m\u001b[0;34m[\u001b[0m\u001b[0;36m1\u001b[0m\u001b[0;34m,\u001b[0m\u001b[0;36m2\u001b[0m\u001b[0;34m]\u001b[0m\u001b[0;34m.\u001b[0m\u001b[0mreal\u001b[0m\u001b[0;34m,\u001b[0m \u001b[0;36m0\u001b[0m\u001b[0;34m,\u001b[0m \u001b[0mdt\u001b[0m\u001b[0;34m)\u001b[0m\u001b[0;34m)\u001b[0m\u001b[0;34m\u001b[0m\u001b[0;34m\u001b[0m\u001b[0m\n\u001b[0m\u001b[1;32m      2\u001b[0m \u001b[0mprint\u001b[0m\u001b[0;34m(\u001b[0m\u001b[0mquad\u001b[0m\u001b[0;34m(\u001b[0m\u001b[0;32mlambda\u001b[0m \u001b[0mt\u001b[0m\u001b[0;34m:\u001b[0m \u001b[0mhamiltonian\u001b[0m\u001b[0;34m.\u001b[0m\u001b[0mevaluate\u001b[0m\u001b[0;34m(\u001b[0m\u001b[0mt\u001b[0m\u001b[0;34m)\u001b[0m\u001b[0;34m[\u001b[0m\u001b[0;36m1\u001b[0m\u001b[0;34m,\u001b[0m\u001b[0;36m2\u001b[0m\u001b[0;34m]\u001b[0m\u001b[0;34m.\u001b[0m\u001b[0mimag\u001b[0m\u001b[0;34m,\u001b[0m \u001b[0;36m0\u001b[0m\u001b[0;34m,\u001b[0m \u001b[0mdt\u001b[0m\u001b[0;34m)\u001b[0m\u001b[0;34m)\u001b[0m\u001b[0;34m\u001b[0m\u001b[0;34m\u001b[0m\u001b[0m\n",
      "\u001b[0;31mNameError\u001b[0m: name 'quad' is not defined"
     ]
    }
   ],
   "source": [
    "print(quad(lambda t: hamiltonian.evaluate(t)[1,2].real, 0, dt))\n",
    "print(quad(lambda t: hamiltonian.evaluate(t)[1,2].imag, 0, dt))"
   ]
  },
  {
   "cell_type": "code",
   "execution_count": 426,
   "metadata": {},
   "outputs": [
    {
     "data": {
      "text/plain": [
       "DeviceArray(0.06283185-1.85565211e-19j, dtype=complex128)"
      ]
     },
     "execution_count": 426,
     "metadata": {},
     "output_type": "execute_result"
    }
   ],
   "source": [
    "hamiltonian.evaluate(0.65*dt)[0,1]"
   ]
  },
  {
   "cell_type": "code",
   "execution_count": 400,
   "metadata": {},
   "outputs": [],
   "source": [
    "from scipy.integrate import quad"
   ]
  },
  {
   "cell_type": "code",
   "execution_count": 401,
   "metadata": {},
   "outputs": [
    {
     "name": "stdout",
     "output_type": "stream",
     "text": [
      "Help on function quad in module scipy.integrate.quadpack:\n",
      "\n",
      "quad(func, a, b, args=(), full_output=0, epsabs=1.49e-08, epsrel=1.49e-08, limit=50, points=None, weight=None, wvar=None, wopts=None, maxp1=50, limlst=50)\n",
      "    Compute a definite integral.\n",
      "    \n",
      "    Integrate func from `a` to `b` (possibly infinite interval) using a\n",
      "    technique from the Fortran library QUADPACK.\n",
      "    \n",
      "    Parameters\n",
      "    ----------\n",
      "    func : {function, scipy.LowLevelCallable}\n",
      "        A Python function or method to integrate. If `func` takes many\n",
      "        arguments, it is integrated along the axis corresponding to the\n",
      "        first argument.\n",
      "    \n",
      "        If the user desires improved integration performance, then `f` may\n",
      "        be a `scipy.LowLevelCallable` with one of the signatures::\n",
      "    \n",
      "            double func(double x)\n",
      "            double func(double x, void *user_data)\n",
      "            double func(int n, double *xx)\n",
      "            double func(int n, double *xx, void *user_data)\n",
      "    \n",
      "        The ``user_data`` is the data contained in the `scipy.LowLevelCallable`.\n",
      "        In the call forms with ``xx``,  ``n`` is the length of the ``xx``\n",
      "        array which contains ``xx[0] == x`` and the rest of the items are\n",
      "        numbers contained in the ``args`` argument of quad.\n",
      "    \n",
      "        In addition, certain ctypes call signatures are supported for\n",
      "        backward compatibility, but those should not be used in new code.\n",
      "    a : float\n",
      "        Lower limit of integration (use -numpy.inf for -infinity).\n",
      "    b : float\n",
      "        Upper limit of integration (use numpy.inf for +infinity).\n",
      "    args : tuple, optional\n",
      "        Extra arguments to pass to `func`.\n",
      "    full_output : int, optional\n",
      "        Non-zero to return a dictionary of integration information.\n",
      "        If non-zero, warning messages are also suppressed and the\n",
      "        message is appended to the output tuple.\n",
      "    \n",
      "    Returns\n",
      "    -------\n",
      "    y : float\n",
      "        The integral of func from `a` to `b`.\n",
      "    abserr : float\n",
      "        An estimate of the absolute error in the result.\n",
      "    infodict : dict\n",
      "        A dictionary containing additional information.\n",
      "        Run scipy.integrate.quad_explain() for more information.\n",
      "    message\n",
      "        A convergence message.\n",
      "    explain\n",
      "        Appended only with 'cos' or 'sin' weighting and infinite\n",
      "        integration limits, it contains an explanation of the codes in\n",
      "        infodict['ierlst']\n",
      "    \n",
      "    Other Parameters\n",
      "    ----------------\n",
      "    epsabs : float or int, optional\n",
      "        Absolute error tolerance. Default is 1.49e-8. `quad` tries to obtain\n",
      "        an accuracy of ``abs(i-result) <= max(epsabs, epsrel*abs(i))``\n",
      "        where ``i`` = integral of `func` from `a` to `b`, and ``result`` is the\n",
      "        numerical approximation. See `epsrel` below.\n",
      "    epsrel : float or int, optional\n",
      "        Relative error tolerance. Default is 1.49e-8.\n",
      "        If ``epsabs <= 0``, `epsrel` must be greater than both 5e-29\n",
      "        and ``50 * (machine epsilon)``. See `epsabs` above.\n",
      "    limit : float or int, optional\n",
      "        An upper bound on the number of subintervals used in the adaptive\n",
      "        algorithm.\n",
      "    points : (sequence of floats,ints), optional\n",
      "        A sequence of break points in the bounded integration interval\n",
      "        where local difficulties of the integrand may occur (e.g.,\n",
      "        singularities, discontinuities). The sequence does not have\n",
      "        to be sorted. Note that this option cannot be used in conjunction\n",
      "        with ``weight``.\n",
      "    weight : float or int, optional\n",
      "        String indicating weighting function. Full explanation for this\n",
      "        and the remaining arguments can be found below.\n",
      "    wvar : optional\n",
      "        Variables for use with weighting functions.\n",
      "    wopts : optional\n",
      "        Optional input for reusing Chebyshev moments.\n",
      "    maxp1 : float or int, optional\n",
      "        An upper bound on the number of Chebyshev moments.\n",
      "    limlst : int, optional\n",
      "        Upper bound on the number of cycles (>=3) for use with a sinusoidal\n",
      "        weighting and an infinite end-point.\n",
      "    \n",
      "    See Also\n",
      "    --------\n",
      "    dblquad : double integral\n",
      "    tplquad : triple integral\n",
      "    nquad : n-dimensional integrals (uses `quad` recursively)\n",
      "    fixed_quad : fixed-order Gaussian quadrature\n",
      "    quadrature : adaptive Gaussian quadrature\n",
      "    odeint : ODE integrator\n",
      "    ode : ODE integrator\n",
      "    simps : integrator for sampled data\n",
      "    romb : integrator for sampled data\n",
      "    scipy.special : for coefficients and roots of orthogonal polynomials\n",
      "    \n",
      "    Notes\n",
      "    -----\n",
      "    \n",
      "    **Extra information for quad() inputs and outputs**\n",
      "    \n",
      "    If full_output is non-zero, then the third output argument\n",
      "    (infodict) is a dictionary with entries as tabulated below. For\n",
      "    infinite limits, the range is transformed to (0,1) and the\n",
      "    optional outputs are given with respect to this transformed range.\n",
      "    Let M be the input argument limit and let K be infodict['last'].\n",
      "    The entries are:\n",
      "    \n",
      "    'neval'\n",
      "        The number of function evaluations.\n",
      "    'last'\n",
      "        The number, K, of subintervals produced in the subdivision process.\n",
      "    'alist'\n",
      "        A rank-1 array of length M, the first K elements of which are the\n",
      "        left end points of the subintervals in the partition of the\n",
      "        integration range.\n",
      "    'blist'\n",
      "        A rank-1 array of length M, the first K elements of which are the\n",
      "        right end points of the subintervals.\n",
      "    'rlist'\n",
      "        A rank-1 array of length M, the first K elements of which are the\n",
      "        integral approximations on the subintervals.\n",
      "    'elist'\n",
      "        A rank-1 array of length M, the first K elements of which are the\n",
      "        moduli of the absolute error estimates on the subintervals.\n",
      "    'iord'\n",
      "        A rank-1 integer array of length M, the first L elements of\n",
      "        which are pointers to the error estimates over the subintervals\n",
      "        with ``L=K`` if ``K<=M/2+2`` or ``L=M+1-K`` otherwise. Let I be the\n",
      "        sequence ``infodict['iord']`` and let E be the sequence\n",
      "        ``infodict['elist']``.  Then ``E[I[1]], ..., E[I[L]]`` forms a\n",
      "        decreasing sequence.\n",
      "    \n",
      "    If the input argument points is provided (i.e., it is not None),\n",
      "    the following additional outputs are placed in the output\n",
      "    dictionary. Assume the points sequence is of length P.\n",
      "    \n",
      "    'pts'\n",
      "        A rank-1 array of length P+2 containing the integration limits\n",
      "        and the break points of the intervals in ascending order.\n",
      "        This is an array giving the subintervals over which integration\n",
      "        will occur.\n",
      "    'level'\n",
      "        A rank-1 integer array of length M (=limit), containing the\n",
      "        subdivision levels of the subintervals, i.e., if (aa,bb) is a\n",
      "        subinterval of ``(pts[1], pts[2])`` where ``pts[0]`` and ``pts[2]``\n",
      "        are adjacent elements of ``infodict['pts']``, then (aa,bb) has level l\n",
      "        if ``|bb-aa| = |pts[2]-pts[1]| * 2**(-l)``.\n",
      "    'ndin'\n",
      "        A rank-1 integer array of length P+2. After the first integration\n",
      "        over the intervals (pts[1], pts[2]), the error estimates over some\n",
      "        of the intervals may have been increased artificially in order to\n",
      "        put their subdivision forward. This array has ones in slots\n",
      "        corresponding to the subintervals for which this happens.\n",
      "    \n",
      "    **Weighting the integrand**\n",
      "    \n",
      "    The input variables, *weight* and *wvar*, are used to weight the\n",
      "    integrand by a select list of functions. Different integration\n",
      "    methods are used to compute the integral with these weighting\n",
      "    functions, and these do not support specifying break points. The\n",
      "    possible values of weight and the corresponding weighting functions are.\n",
      "    \n",
      "    ==========  ===================================   =====================\n",
      "    ``weight``  Weight function used                  ``wvar``\n",
      "    ==========  ===================================   =====================\n",
      "    'cos'       cos(w*x)                              wvar = w\n",
      "    'sin'       sin(w*x)                              wvar = w\n",
      "    'alg'       g(x) = ((x-a)**alpha)*((b-x)**beta)   wvar = (alpha, beta)\n",
      "    'alg-loga'  g(x)*log(x-a)                         wvar = (alpha, beta)\n",
      "    'alg-logb'  g(x)*log(b-x)                         wvar = (alpha, beta)\n",
      "    'alg-log'   g(x)*log(x-a)*log(b-x)                wvar = (alpha, beta)\n",
      "    'cauchy'    1/(x-c)                               wvar = c\n",
      "    ==========  ===================================   =====================\n",
      "    \n",
      "    wvar holds the parameter w, (alpha, beta), or c depending on the weight\n",
      "    selected. In these expressions, a and b are the integration limits.\n",
      "    \n",
      "    For the 'cos' and 'sin' weighting, additional inputs and outputs are\n",
      "    available.\n",
      "    \n",
      "    For finite integration limits, the integration is performed using a\n",
      "    Clenshaw-Curtis method which uses Chebyshev moments. For repeated\n",
      "    calculations, these moments are saved in the output dictionary:\n",
      "    \n",
      "    'momcom'\n",
      "        The maximum level of Chebyshev moments that have been computed,\n",
      "        i.e., if ``M_c`` is ``infodict['momcom']`` then the moments have been\n",
      "        computed for intervals of length ``|b-a| * 2**(-l)``,\n",
      "        ``l=0,1,...,M_c``.\n",
      "    'nnlog'\n",
      "        A rank-1 integer array of length M(=limit), containing the\n",
      "        subdivision levels of the subintervals, i.e., an element of this\n",
      "        array is equal to l if the corresponding subinterval is\n",
      "        ``|b-a|* 2**(-l)``.\n",
      "    'chebmo'\n",
      "        A rank-2 array of shape (25, maxp1) containing the computed\n",
      "        Chebyshev moments. These can be passed on to an integration\n",
      "        over the same interval by passing this array as the second\n",
      "        element of the sequence wopts and passing infodict['momcom'] as\n",
      "        the first element.\n",
      "    \n",
      "    If one of the integration limits is infinite, then a Fourier integral is\n",
      "    computed (assuming w neq 0). If full_output is 1 and a numerical error\n",
      "    is encountered, besides the error message attached to the output tuple,\n",
      "    a dictionary is also appended to the output tuple which translates the\n",
      "    error codes in the array ``info['ierlst']`` to English messages. The\n",
      "    output information dictionary contains the following entries instead of\n",
      "    'last', 'alist', 'blist', 'rlist', and 'elist':\n",
      "    \n",
      "    'lst'\n",
      "        The number of subintervals needed for the integration (call it ``K_f``).\n",
      "    'rslst'\n",
      "        A rank-1 array of length M_f=limlst, whose first ``K_f`` elements\n",
      "        contain the integral contribution over the interval\n",
      "        ``(a+(k-1)c, a+kc)`` where ``c = (2*floor(|w|) + 1) * pi / |w|``\n",
      "        and ``k=1,2,...,K_f``.\n",
      "    'erlst'\n",
      "        A rank-1 array of length ``M_f`` containing the error estimate\n",
      "        corresponding to the interval in the same position in\n",
      "        ``infodict['rslist']``.\n",
      "    'ierlst'\n",
      "        A rank-1 integer array of length ``M_f`` containing an error flag\n",
      "        corresponding to the interval in the same position in\n",
      "        ``infodict['rslist']``.  See the explanation dictionary (last entry\n",
      "        in the output tuple) for the meaning of the codes.\n",
      "    \n",
      "    Examples\n",
      "    --------\n",
      "    Calculate :math:`\\int^4_0 x^2 dx` and compare with an analytic result\n",
      "    \n",
      "    >>> from scipy import integrate\n",
      "    >>> x2 = lambda x: x**2\n",
      "    >>> integrate.quad(x2, 0, 4)\n",
      "    (21.333333333333332, 2.3684757858670003e-13)\n",
      "    >>> print(4**3 / 3.)  # analytical result\n",
      "    21.3333333333\n",
      "    \n",
      "    Calculate :math:`\\int^\\infty_0 e^{-x} dx`\n",
      "    \n",
      "    >>> invexp = lambda x: np.exp(-x)\n",
      "    >>> integrate.quad(invexp, 0, np.inf)\n",
      "    (1.0, 5.842605999138044e-11)\n",
      "    \n",
      "    >>> f = lambda x,a : a*x\n",
      "    >>> y, err = integrate.quad(f, 0, 1, args=(1,))\n",
      "    >>> y\n",
      "    0.5\n",
      "    >>> y, err = integrate.quad(f, 0, 1, args=(3,))\n",
      "    >>> y\n",
      "    1.5\n",
      "    \n",
      "    Calculate :math:`\\int^1_0 x^2 + y^2 dx` with ctypes, holding\n",
      "    y parameter as 1::\n",
      "    \n",
      "        testlib.c =>\n",
      "            double func(int n, double args[n]){\n",
      "                return args[0]*args[0] + args[1]*args[1];}\n",
      "        compile to library testlib.*\n",
      "    \n",
      "    ::\n",
      "    \n",
      "       from scipy import integrate\n",
      "       import ctypes\n",
      "       lib = ctypes.CDLL('/home/.../testlib.*') #use absolute path\n",
      "       lib.func.restype = ctypes.c_double\n",
      "       lib.func.argtypes = (ctypes.c_int,ctypes.c_double)\n",
      "       integrate.quad(lib.func,0,1,(1))\n",
      "       #(1.3333333333333333, 1.4802973661668752e-14)\n",
      "       print((1.0**3/3.0 + 1.0) - (0.0**3/3.0 + 0.0)) #Analytic result\n",
      "       # 1.3333333333333333\n",
      "    \n",
      "    Be aware that pulse shapes and other sharp features as compared to the\n",
      "    size of the integration interval may not be integrated correctly using\n",
      "    this method. A simplified example of this limitation is integrating a\n",
      "    y-axis reflected step function with many zero values within the integrals\n",
      "    bounds.\n",
      "    \n",
      "    >>> y = lambda x: 1 if x<=0 else 0\n",
      "    >>> integrate.quad(y, -1, 1)\n",
      "    (1.0, 1.1102230246251565e-14)\n",
      "    >>> integrate.quad(y, -1, 100)\n",
      "    (1.0000000002199108, 1.0189464580163188e-08)\n",
      "    >>> integrate.quad(y, -1, 10000)\n",
      "    (0.0, 0.0)\n",
      "\n"
     ]
    }
   ],
   "source": [
    "help(quad)"
   ]
  },
  {
   "cell_type": "code",
   "execution_count": null,
   "metadata": {},
   "outputs": [],
   "source": []
  }
 ],
 "metadata": {
  "kernelspec": {
   "display_name": "Python 3",
   "language": "python",
   "name": "python3"
  }
 },
 "nbformat": 4,
 "nbformat_minor": 4
}
