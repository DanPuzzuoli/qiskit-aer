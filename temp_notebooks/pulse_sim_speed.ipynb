{
 "cells": [
  {
   "cell_type": "code",
   "execution_count": 1,
   "metadata": {},
   "outputs": [],
   "source": [
    "import sys\n",
    "import unittest\n",
    "import functools\n",
    "\n",
    "import numpy as np\n",
    "from scipy.linalg import expm\n",
    "from scipy.special import erf\n",
    "\n",
    "from qiskit.providers.aer.backends import PulseSimulator\n",
    "\n",
    "from qiskit.compiler import assemble\n",
    "from qiskit.quantum_info import state_fidelity\n",
    "from qiskit.pulse import (Schedule, Play, ShiftPhase, SetPhase, Delay, Acquire, SamplePulse,\n",
    "                          DriveChannel, ControlChannel, AcquireChannel, MemorySlot)\n",
    "from qiskit.providers.aer.pulse.de.DE_Methods import ScipyODE\n",
    "from qiskit.providers.aer.pulse.de.DE_Options import DE_Options\n",
    "from qiskit.providers.aer.pulse.system_models.pulse_system_model import PulseSystemModel\n",
    "from qiskit.providers.aer.pulse.system_models.hamiltonian_model import HamiltonianModel\n",
    "from qiskit.providers.models.backendconfiguration import UchannelLO"
   ]
  },
  {
   "cell_type": "code",
   "execution_count": 2,
   "metadata": {},
   "outputs": [],
   "source": [
    "def _1Q_constant_sched(total_samples, amp=1.):\n",
    "    \"\"\"Creates a runnable schedule for 1Q with a constant drive pulse of a given length.\n",
    "\n",
    "    Args:\n",
    "        total_samples (int): length of pulse\n",
    "        amp (float): amplitude of constant pulse (can be complex)\n",
    "\n",
    "    Returns:\n",
    "        schedule (pulse schedule): schedule with a drive pulse followed by an acquire\n",
    "    \"\"\"\n",
    "\n",
    "    # set up constant pulse for doing a pi pulse\n",
    "    drive_pulse = SamplePulse(amp * np.ones(total_samples))\n",
    "    schedule = Schedule()\n",
    "    schedule |= Play(drive_pulse, DriveChannel(0))\n",
    "    schedule |= Acquire(total_samples, AcquireChannel(0), MemorySlot(0)) << schedule.duration\n",
    "\n",
    "    return schedule\n",
    "\n",
    "def _system_model_1Q(omega_0, r):\n",
    "    \"\"\"Constructs a standard model for a 1 qubit system.\n",
    "\n",
    "    Args:\n",
    "        omega_0 (float): qubit frequency\n",
    "        r (float): drive strength\n",
    "\n",
    "    Returns:\n",
    "        PulseSystemModel: model for qubit system\n",
    "    \"\"\"\n",
    "\n",
    "    hamiltonian = {}\n",
    "    hamiltonian['h_str'] = ['2*np.pi*omega0*0.5*Z0', '2*np.pi*r*0.5*X0||D0']\n",
    "    hamiltonian['vars'] = {'omega0': omega_0, 'r': r}\n",
    "    hamiltonian['qub'] = {'0': 2}\n",
    "    ham_model = HamiltonianModel.from_dict(hamiltonian)\n",
    "\n",
    "    u_channel_lo = []\n",
    "    subsystem_list = [0]\n",
    "    dt = 1.\n",
    "\n",
    "    return PulseSystemModel(hamiltonian=ham_model,\n",
    "                            u_channel_lo=u_channel_lo,\n",
    "                            subsystem_list=subsystem_list,\n",
    "                            dt=dt)\n",
    "\n",
    "backend_sim = PulseSimulator()"
   ]
  },
  {
   "cell_type": "code",
   "execution_count": 3,
   "metadata": {},
   "outputs": [
    {
     "name": "stdout",
     "output_type": "stream",
     "text": [
      "0.1585531234741211\n",
      "CPU times: user 162 ms, sys: 574 µs, total: 162 ms\n",
      "Wall time: 163 ms\n"
     ]
    },
    {
     "name": "stderr",
     "output_type": "stream",
     "text": [
      "/Users/dpuzzuoli/Documents/projects/qiskit-terra/qiskit/pulse/library/sample_pulse.py:40: DeprecationWarning: SamplePulse has been renamed to Waveform and is deprecated. Please replace SamplePulse(samples, channel) with Waveform(samples, channel).\n",
      "  warnings.warn(\"SamplePulse has been renamed to Waveform and is deprecated. \" +\n"
     ]
    }
   ],
   "source": [
    "# qubit frequency and drive frequency\n",
    "omega_0 = 5.\n",
    "omega_d = omega_0\n",
    "\n",
    "# drive strength and length of pulse\n",
    "r = 0.02\n",
    "total_samples = 100\n",
    "\n",
    "system_model = _system_model_1Q(omega_0, r)\n",
    "\n",
    "# set up constant pulse for doing a pi pulse\n",
    "schedule = _1Q_constant_sched(total_samples)\n",
    "\n",
    "# set up schedule and qobj\n",
    "qobj = assemble([schedule],\n",
    "                backend=backend_sim,\n",
    "                meas_level=2,\n",
    "                meas_return='single',\n",
    "                meas_map=[[0]],\n",
    "                qubit_lo_freq=[omega_d],\n",
    "                memory_slots=1,\n",
    "                shots=1)\n",
    "\n",
    "# set backend backend_options including initial state\n",
    "y0 = np.array([1.0, 0.0])\n",
    "backend_options = {'initial_state' : y0}\n",
    "\n",
    "# run simulation\n",
    "%time result = backend_sim.run(qobj, system_model=system_model, backend_options=backend_options).result()"
   ]
  },
  {
   "cell_type": "code",
   "execution_count": 4,
   "metadata": {},
   "outputs": [
    {
     "data": {
      "text/plain": [
       "{'_metadata': {'seed_simulator': 2097378286,\n",
       "  'time_taken': 0.15939998626708984},\n",
       " 'shots': 1,\n",
       " 'success': True,\n",
       " 'data': <qiskit.result.models.ExperimentResultData at 0x7f82d8a2b5b0>,\n",
       " 'meas_level': 2,\n",
       " 'header': namespace(memory_slots=1, name='sched0', ode_t=100.0),\n",
       " 'status': 'DONE',\n",
       " 'meas_return': 'single'}"
      ]
     },
     "execution_count": 4,
     "metadata": {},
     "output_type": "execute_result"
    }
   ],
   "source": [
    "result.results[0].__dict__"
   ]
  },
  {
   "cell_type": "code",
   "execution_count": null,
   "metadata": {},
   "outputs": [],
   "source": []
  }
 ],
 "metadata": {
  "kernelspec": {
   "display_name": "Python 3",
   "language": "python",
   "name": "python3"
  },
  "language_info": {
   "codemirror_mode": {
    "name": "ipython",
    "version": 3
   },
   "file_extension": ".py",
   "mimetype": "text/x-python",
   "name": "python",
   "nbconvert_exporter": "python",
   "pygments_lexer": "ipython3",
   "version": "3.8.5"
  }
 },
 "nbformat": 4,
 "nbformat_minor": 4
}
