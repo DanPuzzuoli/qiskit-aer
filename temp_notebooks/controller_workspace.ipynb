{
 "cells": [
  {
   "cell_type": "code",
   "execution_count": 1,
   "metadata": {},
   "outputs": [],
   "source": [
    "# add de folder to path\n",
    "import sys\n",
    "sys.path.insert(1, '../models/')\n",
    "sys.path.insert(1, '../de/')\n",
    "sys.path.insert(1, '../controller/')\n",
    "\n",
    "import numpy as np\n",
    "from scipy.linalg import expm\n",
    "from qiskit.quantum_info.operators import Operator\n",
    "from models import BaseModel\n",
    "from signals import Constant, ConstantSignal, PiecewiseConstant\n",
    "from DE_Problems import BMDE_Problem, SchrodingerProblem\n",
    "from DE_Solvers import BMDE_Solver\n",
    "from DE_Options import DE_Options\n",
    "\n",
    "from sim_instructions import *\n",
    "from controller import SimState, run_simulation\n",
    "\n",
    "X = Operator.from_label('X')\n",
    "Y = Operator.from_label('Y')\n",
    "Z = Operator.from_label('Z')\n",
    "M0 = Operator(np.zeros((2,2)))"
   ]
  },
  {
   "cell_type": "markdown",
   "metadata": {},
   "source": [
    "## 0. Set up simple qubit model"
   ]
  },
  {
   "cell_type": "code",
   "execution_count": 2,
   "metadata": {},
   "outputs": [],
   "source": [
    "# operator model/solver\n",
    "w = 1.\n",
    "r = 0.05\n",
    "\n",
    "operators = [-1j * w * np.pi * Z, -1j * 2 * np.pi * r * X / 2]\n",
    "signals = [Constant(1.), \n",
    "           ConstantSignal(1., carrier_freq=w)]\n",
    "#transformations = {'frame': -1j*2*np.pi*w*Z/2}#, 'rwa_freq_cutoff': 2*w}\n",
    "\n",
    "# instantiate model\n",
    "test_model = BaseModel(signals, operators)#, transformations=transformations)\n",
    "\n",
    "t0 = 0.\n",
    "y0 = np.array([1., 0.], dtype=complex)\n",
    "\n",
    "test_prob = BMDE_Problem(test_model)\n",
    "solver_options = DE_Options(method='scipy-RK45', atol=10**-8, rtol=10**-8)\n",
    "qubit_solver = BMDE_Solver(test_prob, options=solver_options)"
   ]
  },
  {
   "cell_type": "markdown",
   "metadata": {},
   "source": [
    "## 1. Evolution, snapshots, and measurement distribution evaluation\n",
    "\n",
    "These are all fully deterministic processes"
   ]
  },
  {
   "cell_type": "code",
   "execution_count": 3,
   "metadata": {},
   "outputs": [],
   "source": [
    "sim_state = SimState(t=0., de_state=y0, c_state=None, de_solver=qubit_solver)"
   ]
  },
  {
   "cell_type": "code",
   "execution_count": 4,
   "metadata": {},
   "outputs": [],
   "source": [
    "inst1 = EvolveDE(10.)\n",
    "inst2 = SnapShot(lambda y: y.de_state)\n",
    "inst3 = EvolveDE(12.)\n",
    "measurement = lambda y: np.abs(y)**2 # measurement distribution for computational basis\n",
    "inst4 = EvaluateMeasurementDistribution(measurement) \n",
    "\n",
    "inst_list = [inst1, inst2, inst3, inst4]"
   ]
  },
  {
   "cell_type": "code",
   "execution_count": 5,
   "metadata": {},
   "outputs": [
    {
     "name": "stderr",
     "output_type": "stream",
     "text": [
      "../controller/controller.py:54: UserWarning: More than 1 shot requested for fully deterministic simulation.\n",
      "  warn('More than 1 shot requested for fully deterministic simulation.')\n"
     ]
    }
   ],
   "source": [
    "results = run_simulation(sim_state, inst_list, shots = 10)"
   ]
  },
  {
   "cell_type": "markdown",
   "metadata": {},
   "source": [
    "Warning raised above as multiple shots of a fully deterministic process were requested.\n",
    "\n",
    "As this simulation is fully deterministic, the return type is just a single `sim_state` object."
   ]
  },
  {
   "cell_type": "code",
   "execution_count": 6,
   "metadata": {},
   "outputs": [
    {
     "data": {
      "text/plain": [
       "controller.SimState"
      ]
     },
     "execution_count": 6,
     "metadata": {},
     "output_type": "execute_result"
    }
   ],
   "source": [
    "type(results)"
   ]
  },
  {
   "cell_type": "markdown",
   "metadata": {},
   "source": [
    "Snapshot at time 10"
   ]
  },
  {
   "cell_type": "code",
   "execution_count": 7,
   "metadata": {},
   "outputs": [
    {
     "data": {
      "text/plain": [
       "[(10.0, array([7.07117634e-01+0.00442011j, 9.24585750e-10-0.70708212j]))]"
      ]
     },
     "execution_count": 7,
     "metadata": {},
     "output_type": "execute_result"
    }
   ],
   "source": [
    "results.snapshots"
   ]
  },
  {
   "cell_type": "markdown",
   "metadata": {},
   "source": [
    "`de_state` and `c_state` (the probability distribution) at the end"
   ]
  },
  {
   "cell_type": "code",
   "execution_count": 8,
   "metadata": {},
   "outputs": [
    {
     "name": "stdout",
     "output_type": "stream",
     "text": [
      "[5.87800150e-01+0.00505716j 7.01762201e-10-0.80899037j]\n",
      "[0.34553459 0.65446542]\n"
     ]
    }
   ],
   "source": [
    "print(results.de_state)\n",
    "print(results.c_state)"
   ]
  },
  {
   "cell_type": "markdown",
   "metadata": {},
   "source": [
    "## 2. Destructive measurements\n",
    "\n",
    "Destructive measurements (and \"measurements\" in general) are non-deterministic, as they involve sampling. Destructive measurements are composite instructions: evaluate distribution -> sample distribution and delete state"
   ]
  },
  {
   "cell_type": "code",
   "execution_count": 9,
   "metadata": {},
   "outputs": [],
   "source": [
    "inst1 = EvolveDE(100.)\n",
    "inst2 = SnapShot(lambda y: y.de_state)\n",
    "inst3 = EvolveDE(12.)\n",
    "measurement = lambda y: np.abs(y)**2 # measurement distribution for computational basis\n",
    "inst4 = DestructiveMeasurement(measurement)\n",
    "\n",
    "inst_list = [inst1, inst2, inst3, inst4]"
   ]
  },
  {
   "cell_type": "code",
   "execution_count": 10,
   "metadata": {},
   "outputs": [],
   "source": [
    "sim_state = SimState(t=0., de_state=y0, c_state=None, de_solver=qubit_solver)\n",
    "results = run_simulation(sim_state, inst_list, shots = 10)"
   ]
  },
  {
   "cell_type": "markdown",
   "metadata": {},
   "source": [
    "The returned value is now a list of sim states, as the simulation involves non-deterministic elements."
   ]
  },
  {
   "cell_type": "code",
   "execution_count": null,
   "metadata": {},
   "outputs": [
    {
     "name": "stdout",
     "output_type": "stream",
     "text": [
      "[array([1]), array([1]), array([0]), array([1]), array([1]), array([1]), array([1]), array([1]), array([1]), array([1])]\n",
      "[None, None, None, None, None, None, None, None, None, None]\n"
     ]
    }
   ],
   "source": [
    "print([result.c_state for result in results])\n",
    "print([result.de_state for result in results])"
   ]
  },
  {
   "cell_type": "markdown",
   "metadata": {},
   "source": [
    "For each sim state, the `c_state` is now a sampled outcome of the measurement (this is sampled from the final distribution of the simulation in the previous section). For each simulation, the `de_state` is now `None`, as it is deleted by a `DestructiveMeasurement`."
   ]
  },
  {
   "cell_type": "markdown",
   "metadata": {},
   "source": [
    "## 3. Non-destructive measurements\n",
    "\n",
    "Non-destructive measurements are mappings from `de_state` -> `de_state, c_state`, i.e. they update the `de_state` and also produce a classical value.\n",
    "\n",
    "Below is a qubit measurement in the `X` basis."
   ]
  },
  {
   "cell_type": "code",
   "execution_count": 12,
   "metadata": {},
   "outputs": [],
   "source": [
    "P0 = np.array([[1, 1], [1, 1]]) / 2\n",
    "P1 = np.array([[1, -1], [-1, 1]]) / 2\n",
    "def x_measurement(y, seed=None):\n",
    "    P0y = P0 @ y\n",
    "    P1y = P1 @ y\n",
    "    \n",
    "    probs = np.array([ (np.abs(P0y)**2).sum(), (np.abs(P1y)**2).sum()])\n",
    "    probs_norm = probs / probs.sum()\n",
    "    rng = np.random.default_rng(seed)\n",
    "    c_state = int(rng.choice(2, 1, p=probs_norm))\n",
    "    de_state = None\n",
    "    if c_state == 0:\n",
    "        de_state = P0y / np.sqrt(probs[0])\n",
    "    else:\n",
    "        de_state = P1y / np.sqrt(probs[1])\n",
    "    \n",
    "    return de_state, c_state"
   ]
  },
  {
   "cell_type": "code",
   "execution_count": 13,
   "metadata": {},
   "outputs": [],
   "source": [
    "inst1 = EvolveDE(10.)\n",
    "inst2 = SnapShot(lambda y: y.de_state)\n",
    "inst3 = NonDestructiveMeasurement(x_measurement)\n",
    "inst30 = SnapShot(lambda y: y.de_state)\n",
    "inst4 = EvolveDE(10.)\n",
    "inst5 = NonDestructiveMeasurement(x_measurement)\n",
    "\n",
    "inst_list = [inst1, inst2, inst3, inst30, inst4, inst5]"
   ]
  },
  {
   "cell_type": "code",
   "execution_count": 14,
   "metadata": {},
   "outputs": [],
   "source": [
    "sim_state = SimState(t=0., de_state=y0, c_state=None, de_solver=qubit_solver)\n",
    "results = run_simulation(sim_state, inst_list, shots = 10)#, seed=1)"
   ]
  },
  {
   "cell_type": "markdown",
   "metadata": {},
   "source": [
    "State before and after measurement of first simulation run"
   ]
  },
  {
   "cell_type": "code",
   "execution_count": null,
   "metadata": {},
   "outputs": [
    {
     "data": {
      "text/plain": [
       "5"
      ]
     },
     "execution_count": 15,
     "metadata": {},
     "output_type": "execute_result"
    }
   ],
   "source": [
    "np.array([result.c_state for result in results]).sum()"
   ]
  },
  {
   "cell_type": "markdown",
   "metadata": {},
   "source": [
    "State after measurement for each simulation run"
   ]
  },
  {
   "cell_type": "code",
   "execution_count": null,
   "metadata": {},
   "outputs": [
    {
     "data": {
      "text/plain": [
       "[(10.0, array([ 0.49845224+0.50154298j, -0.49845224-0.50154298j])),\n",
       " (10.0, array([ 0.49845224+0.50154298j, -0.49845224-0.50154298j])),\n",
       " (10.0, array([ 0.49845224+0.50154298j, -0.49845224-0.50154298j])),\n",
       " (10.0, array([0.50157775-0.49841725j, 0.50157775-0.49841725j])),\n",
       " (10.0, array([0.50157775-0.49841725j, 0.50157775-0.49841725j])),\n",
       " (10.0, array([0.50157775-0.49841725j, 0.50157775-0.49841725j])),\n",
       " (10.0, array([ 0.49845224+0.50154298j, -0.49845224-0.50154298j])),\n",
       " (10.0, array([ 0.49845224+0.50154298j, -0.49845224-0.50154298j])),\n",
       " (10.0, array([0.50157775-0.49841725j, 0.50157775-0.49841725j])),\n",
       " (10.0, array([0.50157775-0.49841725j, 0.50157775-0.49841725j]))]"
      ]
     },
     "execution_count": 16,
     "metadata": {},
     "output_type": "execute_result"
    }
   ],
   "source": [
    "[result.snapshots[1] for result in results]"
   ]
  },
  {
   "cell_type": "markdown",
   "metadata": {},
   "source": [
    "## 4. Update signal frequencies\n",
    "\n",
    "Demo of a model-updating sim instruction relevant to immediate feature improvements to the pulse simulator.\n",
    "\n",
    "In this simulation:\n",
    "- Initial state is in ground state of a 3 level system, and carrier freq of drive signal initially set to transition frequency between ground <-> first excited state\n",
    "- First drive a pi pulse to go to first excited state\n",
    "- Drive frequency is updated to transition between first and second excited state\n",
    "- Another pi pulse is done to go to second excited state\n",
    "\n",
    "Snapshots that compute the probability distribution at each step are evaluated."
   ]
  },
  {
   "cell_type": "code",
   "execution_count": 17,
   "metadata": {},
   "outputs": [],
   "source": [
    "r = 0.01\n",
    "w1 = 4.\n",
    "w2 = 6.\n",
    "\n",
    "drift = 2 * np.pi * Operator([[0, 0, 0], [0, w1, 0], [0, 0, w2]])\n",
    "drive = 2 * np. pi * r * Operator([[0, 1, 0], [1, 0, np.sqrt(2)], [0, np.sqrt(2), 0]])\n",
    "\n",
    "\n",
    "operators = [-1j * drift, -1j * drive]\n",
    "signals = [Constant(1.), \n",
    "           ConstantSignal(1., carrier_freq=w1)]\n",
    "transformations = {'frame': -1j*drift}#, 'rwa_freq_cutoff': 2*w}\n",
    "\n",
    "# instantiate model\n",
    "test_model = BaseModel(signals, operators)#, transformations=transformations)\n",
    "\n",
    "t0 = 0.\n",
    "y0 = np.array([1., 0., 0.], dtype=complex)\n",
    "\n",
    "#solver_options = {'scipy_options': {'atol': 10**-8, 'rtol': 10**-8}}\n",
    "test_prob = BMDE_Problem(test_model)\n",
    "solver_options = DE_Options(method='scipy-RK45', atol=10**-8, rtol=10**-8)\n",
    "qutrit_solver = BMDE_Solver(test_prob, options=solver_options)"
   ]
  },
  {
   "cell_type": "code",
   "execution_count": 18,
   "metadata": {},
   "outputs": [],
   "source": [
    "# evaluate probabilities of the state in the computational basis\n",
    "prob_f = lambda sim_state: np.abs(sim_state.de_state)**2 / (np.abs(sim_state.de_state)**2).sum()\n",
    "\n",
    "inst0 = SnapShot(prob_f)\n",
    "inst1 = EvolveDE(0.5 / r) # pi pulse on first transition\n",
    "inst2 = SnapShot(prob_f)\n",
    "inst3 = UpdateSignalFrequencies([1], [w2-w1]) # update drive frequency to second transition\n",
    "inst4 = EvolveDE(0.5 / r / np.sqrt(2), relative=True) # pi pulse on second transition\n",
    "                                                      # relative flag means evolution time is relative to current time\n",
    "inst5 = SnapShot(prob_f)\n",
    "\n",
    "inst_list = [inst0, inst1, inst2, inst3, inst4, inst5]"
   ]
  },
  {
   "cell_type": "code",
   "execution_count": 19,
   "metadata": {},
   "outputs": [],
   "source": [
    "signals = [Constant(1.), \n",
    "           ConstantSignal(1., carrier_freq=w1)]\n",
    "qutrit_solver.signals = signals\n",
    "sim_state = SimState(t=0., de_state=y0, c_state=None, de_solver=qutrit_solver)\n",
    "results = run_simulation(sim_state, inst_list, shots = 1)"
   ]
  },
  {
   "cell_type": "code",
   "execution_count": 20,
   "metadata": {},
   "outputs": [
    {
     "data": {
      "text/plain": [
       "[(0.0, array([1., 0., 0.])),\n",
       " (50.0, array([1.08511092e-06, 9.99993360e-01, 5.55530086e-06])),\n",
       " (85.35533905932738, array([1.91597946e-05, 4.62567551e-06, 9.99976215e-01]))]"
      ]
     },
     "execution_count": 20,
     "metadata": {},
     "output_type": "execute_result"
    }
   ],
   "source": [
    "results.snapshots"
   ]
  },
  {
   "cell_type": "markdown",
   "metadata": {},
   "source": [
    "## Sorting of instructions based on t value, and implicit DE evolution\n",
    "\n",
    "The above examples are a sort of \"literal\" instruction implementation - i.e. instructions are specified in a list and executed in order. The above mode doesn't really \"know\" anything about time, and also requires all `EvolveDE` instrucitons to be explicitly stated.\n",
    "\n",
    "In practice it will be nice to also have the following capabilities:\n",
    "- `EvolveDE` instructions are never explicitly stated\n",
    "- All other instructions are specified with a given time value, which can be automatically sorted and have `EvolveDE` instructions inserted.\n",
    "    - This will facilitate, e.g. constructing an instruction list and then later inserting an additional snapshot.\n",
    "   "
   ]
  },
  {
   "cell_type": "code",
   "execution_count": 21,
   "metadata": {},
   "outputs": [],
   "source": [
    "# evaluate probabilities of the state in the computational basis\n",
    "prob_f = lambda sim_state: np.abs(sim_state.de_state)**2 / (np.abs(sim_state.de_state)**2).sum()\n",
    "\n",
    "inst0 = SnapShot(prob_f, t=0)\n",
    "#inst1 = EvolveDE(0.5 / r) # pi pulse on first transition\n",
    "inst2 = SnapShot(prob_f, t=0.5/r)\n",
    "inst3 = UpdateSignalFrequencies([1], [w2-w1], t=0.5/r) # update drive frequency to second transition\n",
    "#inst4 = EvolveDE(0.5 / r / np.sqrt(2), relative=True) # pi pulse on second transition\n",
    "                                                      # relative flag means evolution time is relative to current time\n",
    "inst5 = SnapShot(prob_f, t=(0.5/r + 0.5 / r / np.sqrt(2)))\n",
    "\n",
    "inst_list = [inst0, inst2, inst3, inst5]\n",
    "sorted_evolve = time_sort_and_insert_EvolveDE(inst_list)"
   ]
  },
  {
   "cell_type": "code",
   "execution_count": 22,
   "metadata": {},
   "outputs": [],
   "source": [
    "sim_state = SimState(t=0., de_state=y0, c_state=None, de_solver=qutrit_solver)\n",
    "results = run_simulation(sim_state, sorted_evolve, shots = 1)"
   ]
  },
  {
   "cell_type": "code",
   "execution_count": 23,
   "metadata": {},
   "outputs": [
    {
     "data": {
      "text/plain": [
       "[(0.0, array([1., 0., 0.])),\n",
       " (50.0, array([1.08511092e-06, 9.99993360e-01, 5.55530086e-06])),\n",
       " (85.35533905932738, array([1.91597946e-05, 4.62567551e-06, 9.99976215e-01]))]"
      ]
     },
     "execution_count": 23,
     "metadata": {},
     "output_type": "execute_result"
    }
   ],
   "source": [
    "results.snapshots"
   ]
  },
  {
   "cell_type": "code",
   "execution_count": null,
   "metadata": {},
   "outputs": [],
   "source": []
  }
 ],
 "metadata": {
  "kernelspec": {
   "display_name": "Python 3",
   "language": "python",
   "name": "python3"
  },
  "language_info": {
   "codemirror_mode": {
    "name": "ipython",
    "version": 3
   },
   "file_extension": ".py",
   "mimetype": "text/x-python",
   "name": "python",
   "nbconvert_exporter": "python",
   "pygments_lexer": "ipython3",
   "version": "3.8.3"
  }
 },
 "nbformat": 4,
 "nbformat_minor": 4
}
