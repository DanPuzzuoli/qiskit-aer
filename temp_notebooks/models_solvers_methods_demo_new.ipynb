{
 "cells": [
  {
   "cell_type": "code",
   "execution_count": 1,
   "metadata": {},
   "outputs": [],
   "source": [
    "# add de folder to path\n",
    "import sys\n",
    "sys.path.insert(1, '../models/')\n",
    "sys.path.insert(1, '../de/')\n",
    "\n",
    "from time import time\n",
    "import numpy as np\n",
    "from scipy.linalg import expm\n",
    "from qiskit.quantum_info.operators import Operator\n",
    "from models import BaseModel\n",
    "from signals import Constant, ConstantSignal, PiecewiseConstant\n",
    "from DE_Problems import StateVectorProblem, UnitaryProblem\n",
    "from DE_Options import DE_Options\n",
    "from Solver import solve, Solver\n",
    "\n",
    "X = np.array([[0., 1.], [1., 0.]], dtype=complex)\n",
    "Y = np.array([[0., -1j], [1j, 0.]], dtype=complex)\n",
    "Z = np.array([[1., 0.], [0., -1.]], dtype=complex)\n",
    "Sp = np.array([[0., 0.], [1., 0.]])\n",
    "Sm = np.array([[0., 1.], [0., 0.]])\n",
    "\n",
    "op_X = Operator.from_label('X')\n",
    "op_Y = Operator.from_label('Y')\n",
    "op_Z = Operator.from_label('Z')"
   ]
  },
  {
   "cell_type": "markdown",
   "metadata": {},
   "source": [
    "## 1. DE Methods\n",
    "\n",
    "A standardized interface to solving routines, broken into two types:\n",
    "- `ODE_Method`s, which are standard 'ODE' solving routines using the rhs function\n",
    "- `BMDE_Method`s, which are 'BMDE' solving routines that can use the generator"
   ]
  },
  {
   "cell_type": "code",
   "execution_count": 2,
   "metadata": {},
   "outputs": [],
   "source": [
    "from DE_Methods import Expm, ScipyODE"
   ]
  },
  {
   "cell_type": "markdown",
   "metadata": {},
   "source": [
    "### 1.1 ScipyODE\n",
    "\n",
    "An interface to the `solve_ivp` function in scipy. This is a subclass of `ODE_Method`"
   ]
  },
  {
   "cell_type": "code",
   "execution_count": 22,
   "metadata": {},
   "outputs": [],
   "source": [
    "t0 = 0\n",
    "y0 = np.array([[1., 0.], [0., 1.]], dtype=complex)\n",
    "def rhs(t, y):\n",
    "    if t < 1.:\n",
    "        return (-1j * (np.pi/2)* X ) @ y\n",
    "    else:\n",
    "        return (-1j * (np.pi/2)* Y ) @ y\n",
    "\n",
    "# 'method' key should have a value acceptable by solve_ivp\n",
    "# 'scipy_options' key is for options that are passed to solve_ivp\n",
    "#solver_options = {'method': 'RK45', 'scipy_options' : {'atol': 10**-9, 'rtol': 10**-9}}\n",
    "solver_options = DE_Options(method='RK45', atol=10**-8, rtol=10**-8)\n",
    "\n",
    "scipy_solver = ScipyODE(t0, y0, rhs=rhs, options=solver_options)"
   ]
  },
  {
   "cell_type": "code",
   "execution_count": 23,
   "metadata": {},
   "outputs": [
    {
     "data": {
      "text/plain": [
       "array([[ 3.88913686e-13+9.99999988e-01j,  3.17904482e-07-3.15573643e-07j],\n",
       "       [-3.17904482e-07-3.15573643e-07j,  3.88913686e-13-9.99999988e-01j]])"
      ]
     },
     "execution_count": 23,
     "metadata": {},
     "output_type": "execute_result"
    }
   ],
   "source": [
    "scipy_solver.integrate(2.)\n",
    "scipy_solver.y"
   ]
  },
  {
   "cell_type": "code",
   "execution_count": 24,
   "metadata": {},
   "outputs": [
    {
     "data": {
      "text/plain": [
       "array([[0.+1.j, 0.+0.j],\n",
       "       [0.+0.j, 0.-1.j]])"
      ]
     },
     "execution_count": 24,
     "metadata": {},
     "output_type": "execute_result"
    }
   ],
   "source": [
    "expm(-1j*(np.pi/2)*Y) @ expm(-1j*(np.pi/2)*X)"
   ]
  },
  {
   "cell_type": "markdown",
   "metadata": {},
   "source": [
    "## 1.2 Expm\n",
    "\n",
    "This is a `BMDE_Method` based on matrix exponentiation of the generator."
   ]
  },
  {
   "cell_type": "code",
   "execution_count": 27,
   "metadata": {},
   "outputs": [],
   "source": [
    "# initial state\n",
    "t0 = 0.\n",
    "y0 = np.array([[1., 0], [0., 1.]])\n",
    "\n",
    "# define generator\n",
    "def generator(t):\n",
    "    if t < 1.:\n",
    "        return -1j*(np.pi/2)*X\n",
    "    else:\n",
    "        return -1j*(np.pi/2)*Y\n",
    "\n",
    "options = DE_Options(max_dt=0.01)\n",
    "\n",
    "expm_solver = Expm(t0, y0, rhs=generator, options=options)"
   ]
  },
  {
   "cell_type": "code",
   "execution_count": 28,
   "metadata": {},
   "outputs": [
    {
     "data": {
      "text/plain": [
       "array([[5.19108852e-29+1.00000000e+00j, 7.06726344e-15-7.55799043e-15j],\n",
       "       [7.33441086e-15+7.19782338e-15j, 5.01495294e-29-1.00000000e+00j]])"
      ]
     },
     "execution_count": 28,
     "metadata": {},
     "output_type": "execute_result"
    }
   ],
   "source": [
    "expm_solver.integrate(2.)\n",
    "expm_solver.y"
   ]
  },
  {
   "cell_type": "markdown",
   "metadata": {},
   "source": [
    "## 2. Models\n",
    "\n",
    "This is a rudimentary model - a list of operators and signals. These are defined using terra operators.\n",
    "\n",
    "Here we define a qubit hamiltonian using the model object."
   ]
  },
  {
   "cell_type": "code",
   "execution_count": 29,
   "metadata": {},
   "outputs": [],
   "source": [
    "w = 5.\n",
    "r = 0.2\n",
    "\n",
    "operators = [2 * np.pi * w * op_Z / 2, 2 * np.pi * r * op_X / 2]\n",
    "signals = [Constant(1.), \n",
    "           ConstantSignal(1., carrier_freq=w)]\n",
    "\n",
    "qubit_ham_model = BaseModel(signals, operators)"
   ]
  },
  {
   "cell_type": "markdown",
   "metadata": {},
   "source": [
    "We can evaluate the model at a given time (i.e. take the linear combination at the given time)."
   ]
  },
  {
   "cell_type": "code",
   "execution_count": 30,
   "metadata": {},
   "outputs": [
    {
     "data": {
      "text/plain": [
       "array([[ 15.70796327+0.j,   0.62831853+0.j],\n",
       "       [  0.62831853+0.j, -15.70796327+0.j]])"
      ]
     },
     "execution_count": 30,
     "metadata": {},
     "output_type": "execute_result"
    }
   ],
   "source": [
    "qubit_ham_model.evaluate(2.)"
   ]
  },
  {
   "cell_type": "markdown",
   "metadata": {},
   "source": [
    "We can apply the model at a given time to a given vector."
   ]
  },
  {
   "cell_type": "code",
   "execution_count": 31,
   "metadata": {},
   "outputs": [
    {
     "data": {
      "text/plain": [
       "array([15.70796327+0.j,  0.62831853+0.j])"
      ]
     },
     "execution_count": 31,
     "metadata": {},
     "output_type": "execute_result"
    }
   ],
   "source": [
    "qubit_ham_model.lmult(2., np.array([1., 0.]))"
   ]
  },
  {
   "cell_type": "markdown",
   "metadata": {},
   "source": [
    "## 3. BMDE problems and solvers\n",
    "\n",
    "`BMDE_Problem` class represents a DE, including the generator model, the initial state, and the initial time. We subclass this to set up different types of BMDEs.\n",
    "\n",
    "## 3.1 Schrodinger statevector problem"
   ]
  },
  {
   "cell_type": "code",
   "execution_count": 32,
   "metadata": {},
   "outputs": [],
   "source": [
    "t0 = 0.\n",
    "y0 = np.array([1., 0.], dtype=complex)\n",
    "\n",
    "# takes the hamiltonian and sets up Schrodinger equation for the statevector\n",
    "state_problem = StateVectorProblem(hamiltonian=qubit_ham_model,\n",
    "                                   y0=y0,\n",
    "                                   t0=t0)\n",
    "\n",
    "solver_options = DE_Options(method='scipy-RK45', atol=10**-8, rtol=10**-8)\n",
    "\n",
    "scipy_solver = Solver(state_problem, options=solver_options)"
   ]
  },
  {
   "cell_type": "code",
   "execution_count": 33,
   "metadata": {},
   "outputs": [
    {
     "data": {
      "text/plain": [
       "array([-1.96352698e-05-0.00500054j,  2.82321676e-10+0.99998751j])"
      ]
     },
     "execution_count": 33,
     "metadata": {},
     "output_type": "execute_result"
    }
   ],
   "source": [
    "scipy_solver.integrate(1./r) # do a pi pulse\n",
    "scipy_solver.y"
   ]
  },
  {
   "cell_type": "markdown",
   "metadata": {},
   "source": [
    "### 3.2 Schrodinger unitary problem"
   ]
  },
  {
   "cell_type": "code",
   "execution_count": 34,
   "metadata": {},
   "outputs": [],
   "source": [
    "t0 = 0.\n",
    "y0 = np.array([[1., 0.], [0., 1.]], dtype=complex)\n",
    "\n",
    "# takes the hamiltonian and sets up Schrodinger equation for the unitary\n",
    "de_problem = UnitaryProblem(hamiltonian=qubit_ham_model,\n",
    "                            y0=y0,\n",
    "                            t0=t0)\n",
    "\n",
    "\n",
    "#solver_options = {'scipy_options' : {'atol': 10**-9, 'rtol': 10**-9}}\n",
    "solver_options = DE_Options(method='scipy-RK45', atol=10**-8, rtol=10**-8)\n",
    "\n",
    "scipy_solver = Solver(de_problem, method='scipy-RK45', options=solver_options)"
   ]
  },
  {
   "cell_type": "code",
   "execution_count": 35,
   "metadata": {},
   "outputs": [
    {
     "data": {
      "text/plain": [
       "array([[-1.96352698e-05-0.00500054j, -2.82320948e-10+0.99998751j],\n",
       "       [ 2.82320948e-10+0.99998751j, -1.96352698e-05+0.00500054j]])"
      ]
     },
     "execution_count": 35,
     "metadata": {},
     "output_type": "execute_result"
    }
   ],
   "source": [
    "scipy_solver.integrate(1./r) # do a pi pulse\n",
    "scipy_solver.y"
   ]
  },
  {
   "cell_type": "markdown",
   "metadata": {},
   "source": [
    "### 3.3 Lindblad problem\n",
    "\n",
    "I broke this from recent changes - but it involved setting up the vectorized version of the Lindblad equation for a density matrix from a Hamiltonian and noise operators, then interacting with the solver in the same way. Even though internally the solver is working with the vectorized form (and hence the flattened density matrix), it returns the state to the user in the correct shape."
   ]
  },
  {
   "cell_type": "markdown",
   "metadata": {},
   "source": [
    "## 4. Frame handling\n",
    "\n",
    "In the above simulations, the solver is automatically doing the simulations in the frame of the drift Hamiltonian. We can instead specify a frame manually.\n",
    "\n",
    "### 4.1 simulate in lab frame\n",
    "\n",
    "Default is `transformations='auto'`. Setting to `transformations=None` sets no transformations. "
   ]
  },
  {
   "cell_type": "code",
   "execution_count": 36,
   "metadata": {},
   "outputs": [
    {
     "name": "stdout",
     "output_type": "stream",
     "text": [
      "0.4588286876678467\n"
     ]
    },
    {
     "data": {
      "text/plain": [
       "array([[-1.96358997e-05-0.00500056j,  3.93594324e-11+0.99998746j],\n",
       "       [-3.93597759e-11+0.99998746j, -1.96358997e-05+0.00500056j]])"
      ]
     },
     "execution_count": 36,
     "metadata": {},
     "output_type": "execute_result"
    }
   ],
   "source": [
    "t0 = 0.\n",
    "y0 = np.array([[1., 0.], [0., 1.]], dtype=complex)\n",
    "\n",
    "# takes the hamiltonian and sets up Schrodinger equation for the unitary\n",
    "de_problem = UnitaryProblem(hamiltonian=qubit_ham_model,\n",
    "                            y0=y0,\n",
    "                            t0=t0,\n",
    "                            transformations=None)\n",
    "\n",
    "#solver_options = {'scipy_options' : {'atol': 10**-9, 'rtol': 10**-9}}\n",
    "solver_options = DE_Options(method='scipy-RK45', atol=10**-9, rtol=10**-9)\n",
    "\n",
    "scipy_solver = Solver(de_problem, options=solver_options)\n",
    "\n",
    "start = time()\n",
    "scipy_solver.integrate(1. /r)\n",
    "print(time() - start)\n",
    "scipy_solver.y"
   ]
  },
  {
   "cell_type": "markdown",
   "metadata": {},
   "source": [
    "### 4.2 Simulate allowing automatic transformations "
   ]
  },
  {
   "cell_type": "code",
   "execution_count": 37,
   "metadata": {},
   "outputs": [
    {
     "name": "stdout",
     "output_type": "stream",
     "text": [
      "0.2855818271636963\n"
     ]
    },
    {
     "data": {
      "text/plain": [
       "array([[-1.96364748e-05-0.00500056j, -3.70946652e-11+0.9999875j ],\n",
       "       [ 3.70946652e-11+0.9999875j , -1.96364748e-05+0.00500056j]])"
      ]
     },
     "execution_count": 37,
     "metadata": {},
     "output_type": "execute_result"
    }
   ],
   "source": [
    "de_problem = UnitaryProblem(hamiltonian=qubit_ham_model,\n",
    "                            y0=y0,\n",
    "                            t0=t0)\n",
    "#solver_options = {'scipy_options' : {'atol': 10**-9, 'rtol': 10**-9}}\n",
    "solver_options = DE_Options(method='scipy-RK45', atol=10**-9, rtol=10**-9)\n",
    "\n",
    "scipy_solver = Solver(de_problem, options=solver_options)\n",
    "\n",
    "start = time()\n",
    "scipy_solver.integrate(1. /r)\n",
    "print(time() - start)\n",
    "scipy_solver.y"
   ]
  },
  {
   "cell_type": "markdown",
   "metadata": {},
   "source": [
    "### 4.3 Simulate in frame of drift and do a rotating wave approximation"
   ]
  },
  {
   "cell_type": "code",
   "execution_count": 38,
   "metadata": {},
   "outputs": [
    {
     "name": "stdout",
     "output_type": "stream",
     "text": [
      "0.01359701156616211\n"
     ]
    },
    {
     "data": {
      "text/plain": [
       "array([[ 7.38162517e-11+3.62509162e-26j,  4.91096681e-16+9.99999999e-01j],\n",
       "       [-4.91096681e-16+9.99999999e-01j,  7.38162517e-11-3.62509162e-26j]])"
      ]
     },
     "execution_count": 38,
     "metadata": {},
     "output_type": "execute_result"
    }
   ],
   "source": [
    "transformations = {'frame': qubit_ham_model.drift(), 'rwa_freq_cutoff': 2*w}\n",
    "\n",
    "de_problem = UnitaryProblem(hamiltonian=qubit_ham_model,\n",
    "                            y0=y0,\n",
    "                            t0=t0,\n",
    "                            transformations=transformations)\n",
    "#solver_options = {'scipy_options' : {'atol': 10**-9, 'rtol': 10**-9}}\n",
    "solver_options = DE_Options(method='scipy-RK45', atol=10**-9, rtol=10**-9)\n",
    "\n",
    "scipy_solver = Solver(de_problem, options=solver_options)\n",
    "\n",
    "start = time()\n",
    "scipy_solver.integrate(1. /r)\n",
    "print(time() - start)\n",
    "scipy_solver.y"
   ]
  },
  {
   "cell_type": "markdown",
   "metadata": {},
   "source": [
    "## 5. Defining a full problem and solving\n",
    "\n",
    "In the previous sections we defined a BMDE problem with an initial time only, then interacted with a solver object. We can instead define it with a full interval and solve the DE without ever interacting with the the solver object."
   ]
  },
  {
   "cell_type": "code",
   "execution_count": 39,
   "metadata": {},
   "outputs": [
    {
     "data": {
      "text/plain": [
       "array([[-1.95675357e-05-0.00499976j,  3.47445729e-08+0.99998882j],\n",
       "       [-3.47445729e-08+0.99998882j, -1.95675357e-05+0.00499976j]])"
      ]
     },
     "execution_count": 39,
     "metadata": {},
     "output_type": "execute_result"
    }
   ],
   "source": [
    "de_problem = UnitaryProblem(hamiltonian=qubit_ham_model,\n",
    "                            y0=y0,\n",
    "                            interval=[t0, 1./r])\n",
    "\n",
    "solve(de_problem)"
   ]
  },
  {
   "cell_type": "code",
   "execution_count": null,
   "metadata": {},
   "outputs": [],
   "source": []
  }
 ],
 "metadata": {
  "kernelspec": {
   "display_name": "Python 3",
   "language": "python",
   "name": "python3"
  },
  "language_info": {
   "codemirror_mode": {
    "name": "ipython",
    "version": 3
   },
   "file_extension": ".py",
   "mimetype": "text/x-python",
   "name": "python",
   "nbconvert_exporter": "python",
   "pygments_lexer": "ipython3",
   "version": "3.8.3"
  }
 },
 "nbformat": 4,
 "nbformat_minor": 4
}
