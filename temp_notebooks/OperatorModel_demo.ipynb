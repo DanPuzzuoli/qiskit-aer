{
 "cells": [
  {
   "cell_type": "code",
   "execution_count": 1,
   "metadata": {},
   "outputs": [],
   "source": [
    "import sys\n",
    "sys.path.insert(1, sys.path[0]+'/../qiskit/providers/aer/')\n",
    "sys.path.insert(1, sys.path[0]+'/../')\n",
    "\n",
    "from matplotlib import pyplot as plt\n",
    "import numpy as np\n",
    "from qiskit.quantum_info.operators import Operator\n",
    "from pulse_new.models.signals import VectorSignal, Constant,ConstantSignal,  Signal\n",
    "from pulse_new.models.operator_models import OperatorModel\n",
    "\n",
    "X = Operator.from_label('X')\n",
    "Y = Operator.from_label('Y')\n",
    "Z = Operator.from_label('Z')"
   ]
  },
  {
   "cell_type": "markdown",
   "metadata": {},
   "source": [
    "# 1. Basic functionality"
   ]
  },
  {
   "cell_type": "code",
   "execution_count": 2,
   "metadata": {},
   "outputs": [],
   "source": [
    "r = 1.\n",
    "w = 1.\n",
    "signals = [Constant(1.), ConstantSignal(1., w)]\n",
    "operators = [-1j * 2 * np.pi * w * Z/2, -1j * 2 * np.pi * r * X/2]\n",
    "\n",
    "model = OperatorModel(operators=operators, signals=signals)"
   ]
  },
  {
   "cell_type": "markdown",
   "metadata": {},
   "source": [
    "Evaluate at a given time."
   ]
  },
  {
   "cell_type": "code",
   "execution_count": 3,
   "metadata": {},
   "outputs": [
    {
     "name": "stdout",
     "output_type": "stream",
     "text": [
      "[[0.-3.14159265j 0.+0.97080552j]\n",
      " [0.+0.97080552j 0.+3.14159265j]]\n",
      "[[0.-3.14159265j 0.-3.14159265j]\n",
      " [0.-3.14159265j 0.+3.14159265j]]\n"
     ]
    }
   ],
   "source": [
    "print(model.evaluate(0.3))\n",
    "print(model.evaluate(1.))"
   ]
  },
  {
   "cell_type": "markdown",
   "metadata": {},
   "source": [
    "Get the drift (terms corresponding to `Constant` coefficients). In this case just the first term."
   ]
  },
  {
   "cell_type": "code",
   "execution_count": 4,
   "metadata": {},
   "outputs": [
    {
     "data": {
      "text/plain": [
       "array([[0.-3.14159265j, 0.+0.j        ],\n",
       "       [0.+0.j        , 0.+3.14159265j]])"
      ]
     },
     "execution_count": 4,
     "metadata": {},
     "output_type": "execute_result"
    }
   ],
   "source": [
    "model.drift"
   ]
  },
  {
   "cell_type": "markdown",
   "metadata": {},
   "source": [
    "# 2. Enter a frame\n",
    "\n",
    "In this case, we will enter the frame of the drift."
   ]
  },
  {
   "cell_type": "code",
   "execution_count": 5,
   "metadata": {},
   "outputs": [],
   "source": [
    "model.frame_operator = model.drift"
   ]
  },
  {
   "cell_type": "markdown",
   "metadata": {},
   "source": [
    "Evaluate again."
   ]
  },
  {
   "cell_type": "code",
   "execution_count": 6,
   "metadata": {},
   "outputs": [
    {
     "name": "stdout",
     "output_type": "stream",
     "text": [
      "[[ 0.        +0.j          1.49391608-2.05619909j]\n",
      " [-1.49391608-2.05619909j  0.        +0.j        ]]\n",
      "[[ 0.        +0.j         0.92329092-0.2999954j]\n",
      " [-0.92329092-0.2999954j  0.        +0.j       ]]\n"
     ]
    }
   ],
   "source": [
    "print(model.evaluate(0.1))\n",
    "print(model.evaluate(0.2))"
   ]
  },
  {
   "cell_type": "markdown",
   "metadata": {},
   "source": [
    "In the above, the diagonal part of the model is now $0$, as it has been subtracted when entering the frame (which is coincidentally the diagonal). The off-diagonal part, which ordinarily is $-i 2 \\pi r X / 2$ multiplied with an oscillating signal, is now rotating between $-iX$ and $-iY$ as a result of being in the frame. We can plot the real and imaginary parts of the first off-diagonal to see this."
   ]
  },
  {
   "cell_type": "code",
   "execution_count": 7,
   "metadata": {},
   "outputs": [
    {
     "data": {
      "text/plain": [
       "[<matplotlib.lines.Line2D at 0x7f8e485cdc70>]"
      ]
     },
     "execution_count": 7,
     "metadata": {},
     "output_type": "execute_result"
    },
    {
     "data": {
      "image/png": "[encoded data removed]",
      "text/plain": [
       "<Figure size 432x288 with 1 Axes>"
      ]
     },
     "metadata": {
      "needs_background": "light"
     },
     "output_type": "display_data"
    }
   ],
   "source": [
    "t_vals = np.linspace(0., 1., 100)\n",
    "model_vals = np.array([model.evaluate(t) for t in t_vals])\n",
    "offdiag_re = -model_vals[:, 0, 1].real\n",
    "offdiag_im = -model_vals[:, 0, 1].imag\n",
    "plt.plot(t_vals, offdiag_im)\n",
    "plt.plot(t_vals, offdiag_re)"
   ]
  },
  {
   "cell_type": "markdown",
   "metadata": {},
   "source": [
    "In the above, the imaginary part is blue, corresponding to the $X$ operator, and the real part is yellow, corresponding to the $Y$ operator. (Note, usually which is imaginary and which is real is swapped, but in this case our `OperatorModel` is defined as the generator of the Schrodinger equation, so everything has a factor of $-i$."
   ]
  },
  {
   "cell_type": "markdown",
   "metadata": {},
   "source": [
    "# 3. Set cutoff frequency\n",
    "\n",
    "Next, we add a cutoff frequency, which eliminates terms in the model oscillating above a given frequency. The frequencies for a given term are a combination of oscillations due to the chosen frame, as well as oscillations due to signal carrier frequencies.\n",
    "\n",
    "The classic RWA uses the model we have defined, and sets the cutoff to `2*w`."
   ]
  },
  {
   "cell_type": "code",
   "execution_count": 8,
   "metadata": {},
   "outputs": [],
   "source": [
    "model.cutoff_freq = 2*w"
   ]
  },
  {
   "cell_type": "markdown",
   "metadata": {},
   "source": [
    "We now perform the same plot as above."
   ]
  },
  {
   "cell_type": "code",
   "execution_count": 9,
   "metadata": {},
   "outputs": [
    {
     "data": {
      "text/plain": [
       "[<matplotlib.lines.Line2D at 0x7f8e39275fa0>]"
      ]
     },
     "execution_count": 9,
     "metadata": {},
     "output_type": "execute_result"
    },
    {
     "data": {
      "image/png": "[encoded data removed]",
      "text/plain": [
       "<Figure size 432x288 with 1 Axes>"
      ]
     },
     "metadata": {
      "needs_background": "light"
     },
     "output_type": "display_data"
    }
   ],
   "source": [
    "t_vals = np.linspace(0., 1., 100)\n",
    "model_vals = np.array([model.evaluate(t) for t in t_vals])\n",
    "offdiag_re = -model_vals[:, 0, 1].real\n",
    "offdiag_im = -model_vals[:, 0, 1].imag\n",
    "plt.plot(t_vals, offdiag_im)\n",
    "plt.plot(t_vals, offdiag_re)"
   ]
  },
  {
   "cell_type": "markdown",
   "metadata": {},
   "source": [
    "Observe, the real part is now constant at $-\\pi /2$, which is the average of the oscillation in the previous section (similarly, the imaginary part is constant at the corresponding average of $0$)."
   ]
  },
  {
   "cell_type": "markdown",
   "metadata": {},
   "source": [
    "# 4. Adding a `signal_mapping`\n",
    "\n",
    "A `signal_mapping` attribute is meant to be a function that generates the signals from a list of parameters. E.g. for a model involving transfer functions, the action of the transfer functions would be included in `signal_mapping`, and the user would specify the pre-filter signals to the model, which would automatically apply the mapping."
   ]
  },
  {
   "cell_type": "code",
   "execution_count": 10,
   "metadata": {},
   "outputs": [],
   "source": [
    "# instantiate without signals but with a signal mapping\n",
    "r = 1.\n",
    "w = 1.\n",
    "operators = [-1j * 2 * np.pi * w * Z/2, -1j * 2 * np.pi * r * X/2]\n",
    "\n",
    "def signal_map(slope):\n",
    "    return [Constant(1.), Signal(lambda t: t* slope, w)]\n",
    "\n",
    "model = OperatorModel(operators=operators, signal_mapping=signal_map)"
   ]
  },
  {
   "cell_type": "code",
   "execution_count": 11,
   "metadata": {},
   "outputs": [
    {
     "name": "stdout",
     "output_type": "stream",
     "text": [
      "1.0\n",
      "<pulse_new.models.signals.VectorSignal object at 0x7f8e39295490>\n"
     ]
    }
   ],
   "source": [
    "# now, setting signals will automatically feed the passed values through signal_mapping\n",
    "model.signals = 1.\n",
    "print(model._signal_params)\n",
    "print(model.signals)"
   ]
  },
  {
   "cell_type": "markdown",
   "metadata": {},
   "source": [
    "We can plot the X and Y coefficients with no specified frame."
   ]
  },
  {
   "cell_type": "code",
   "execution_count": 12,
   "metadata": {},
   "outputs": [
    {
     "data": {
      "text/plain": [
       "[<matplotlib.lines.Line2D at 0x7f8e4870db20>]"
      ]
     },
     "execution_count": 12,
     "metadata": {},
     "output_type": "execute_result"
    },
    {
     "data": {
      "image/png": "[encoded data removed]",
      "text/plain": [
       "<Figure size 432x288 with 1 Axes>"
      ]
     },
     "metadata": {
      "needs_background": "light"
     },
     "output_type": "display_data"
    }
   ],
   "source": [
    "t_vals = np.linspace(0., 1., 100)\n",
    "model_vals = np.array([model.evaluate(t) for t in t_vals])\n",
    "offdiag_re = -model_vals[:, 0, 1].real\n",
    "offdiag_im = -model_vals[:, 0, 1].imag\n",
    "plt.plot(t_vals, offdiag_im)\n",
    "plt.plot(t_vals, offdiag_re)"
   ]
  },
  {
   "cell_type": "markdown",
   "metadata": {},
   "source": [
    "The X and Y coefficients in the rotating frame of the drift:"
   ]
  },
  {
   "cell_type": "code",
   "execution_count": 13,
   "metadata": {},
   "outputs": [
    {
     "data": {
      "text/plain": [
       "[<matplotlib.lines.Line2D at 0x7f8e487a4130>]"
      ]
     },
     "execution_count": 13,
     "metadata": {},
     "output_type": "execute_result"
    },
    {
     "data": {
      "image/png": "[encoded data removed]",
      "text/plain": [
       "<Figure size 432x288 with 1 Axes>"
      ]
     },
     "metadata": {
      "needs_background": "light"
     },
     "output_type": "display_data"
    }
   ],
   "source": [
    "# plot in the drift frame\n",
    "model.frame_operator = model.drift\n",
    "t_vals = np.linspace(0., 1., 100)\n",
    "model_vals = np.array([model.evaluate(t) for t in t_vals])\n",
    "offdiag_re = -model_vals[:, 0, 1].real\n",
    "offdiag_im = -model_vals[:, 0, 1].imag\n",
    "plt.plot(t_vals, offdiag_im)\n",
    "plt.plot(t_vals, offdiag_re)"
   ]
  },
  {
   "cell_type": "markdown",
   "metadata": {},
   "source": [
    "The X and Y coefficients in the rotating frame after the standard RWA:"
   ]
  },
  {
   "cell_type": "code",
   "execution_count": 14,
   "metadata": {},
   "outputs": [
    {
     "data": {
      "text/plain": [
       "[<matplotlib.lines.Line2D at 0x7f8e39336310>]"
      ]
     },
     "execution_count": 14,
     "metadata": {},
     "output_type": "execute_result"
    },
    {
     "data": {
      "image/png": "[encoded data removed]",
      "text/plain": [
       "<Figure size 432x288 with 1 Axes>"
      ]
     },
     "metadata": {
      "needs_background": "light"
     },
     "output_type": "display_data"
    }
   ],
   "source": [
    "# plot again with cutoff\n",
    "model.cutoff_freq = 2*w\n",
    "t_vals = np.linspace(0., 1., 100)\n",
    "model_vals = np.array([model.evaluate(t) for t in t_vals])\n",
    "offdiag_re = -model_vals[:, 0, 1].real\n",
    "offdiag_im = -model_vals[:, 0, 1].imag\n",
    "plt.plot(t_vals, offdiag_im)\n",
    "plt.plot(t_vals, offdiag_re)"
   ]
  },
  {
   "cell_type": "markdown",
   "metadata": {},
   "source": [
    "# 5. Frame helper functionality for states\n",
    "\n",
    "This class also contains some helper functions for transforming states into/out of frames (and is the motivation/meaning behind the `enter_frame` function earlier). When `OperatorModel` represents the generator $G(t)$ in a differential equation of the form $\\dot{y}(t) = G(t) y(t)$, entering a frame $F$ (for $F$ and anti-hermitian operator) corresponds to transforming $y(t) \\mapsto z(t) = e^{-Ft}y(t)$, and solving the DE for the variable $z(t)$.\n",
    "\n",
    "We expect these functions to remain \"private\" for now - they are part of the `FrameFreqHelper` internal helper class - as they are primarily to be used by solvers.  \n",
    "\n",
    "The helper function `state_into_frame` performs this mapping at a given time."
   ]
  },
  {
   "cell_type": "code",
   "execution_count": 15,
   "metadata": {},
   "outputs": [
    {
     "name": "stdout",
     "output_type": "stream",
     "text": [
      "[-0.80901699-0.58778525j -0.80901699+0.58778525j]\n"
     ]
    }
   ],
   "source": [
    "# as we are currently in a Z frame, we can see rotation of the following vector when entering a frame\n",
    "y_in_frame = model._frame_freq_helper.state_into_frame(1.2, np.array([1., 1.]))\n",
    "print(y_in_frame)"
   ]
  },
  {
   "cell_type": "code",
   "execution_count": 16,
   "metadata": {},
   "outputs": [
    {
     "data": {
      "text/plain": [
       "array([1.+0.j, 1.+0.j])"
      ]
     },
     "execution_count": 16,
     "metadata": {},
     "output_type": "execute_result"
    }
   ],
   "source": [
    "# we can convert back out\n",
    "model._frame_freq_helper.state_out_of_frame(1.2, y_in_frame)"
   ]
  },
  {
   "cell_type": "markdown",
   "metadata": {},
   "source": [
    "These functions also have additional flags for whether their input/output is specified in the internally stored basis for which the frame is diagonal. The purpose of this is that when solving in a given frame, it makes the most sense to work in a basis in which the frame is diagonal (to save on the cost of evaluating $e^{\\pm F t}$) - so the solver will both enter the frame and also change basis.\n",
    "\n",
    "To see this we need to enter into a frame that isn't already diagonal."
   ]
  },
  {
   "cell_type": "code",
   "execution_count": 17,
   "metadata": {},
   "outputs": [],
   "source": [
    "model.frame_operator = -1j* 2 * np.pi * X /2 "
   ]
  },
  {
   "cell_type": "markdown",
   "metadata": {},
   "source": [
    "We've set $F$ proportional to the $X$ operator. Below we enter the frame at $t = 0$ (and hence no change should occur), but ask for the output to be in the frame basis. Passing a $Z$ eigenstate, we expect to get back an equal superposition of $X$ eigenstates:"
   ]
  },
  {
   "cell_type": "code",
   "execution_count": 18,
   "metadata": {},
   "outputs": [
    {
     "data": {
      "text/plain": [
       "array([-0.70710678+0.j,  0.70710678+0.j])"
      ]
     },
     "execution_count": 18,
     "metadata": {},
     "output_type": "execute_result"
    }
   ],
   "source": [
    "model._frame_freq_helper.state_into_frame(0., np.array([1., 0.]), return_in_frame_basis=True)"
   ]
  },
  {
   "cell_type": "markdown",
   "metadata": {},
   "source": [
    "And we can verify that this is correct by checking the ordering of the basis elements:"
   ]
  },
  {
   "cell_type": "code",
   "execution_count": 19,
   "metadata": {},
   "outputs": [
    {
     "data": {
      "text/plain": [
       "array([[-0.70710678+0.j,  0.70710678+0.j],\n",
       "       [ 0.70710678+0.j,  0.70710678+0.j]])"
      ]
     },
     "execution_count": 19,
     "metadata": {},
     "output_type": "execute_result"
    }
   ],
   "source": [
    "model._frame_freq_helper.frame_basis"
   ]
  },
  {
   "cell_type": "markdown",
   "metadata": {},
   "source": [
    "We can also specify that both the input and output are in the frame basis - which is natural when a solver is working exclusively in that basis. Here, we ask to enter the frame at $t = 1.1$, but we state that both the input/output are already in the frame basis:"
   ]
  },
  {
   "cell_type": "code",
   "execution_count": 20,
   "metadata": {},
   "outputs": [
    {
     "data": {
      "text/plain": [
       "array([-0.95105652+0.30901699j,  0.        +0.j        ])"
      ]
     },
     "execution_count": 20,
     "metadata": {},
     "output_type": "execute_result"
    }
   ],
   "source": [
    "model._frame_freq_helper.state_into_frame(1.1, \n",
    "                                          np.array([1., 0.]), \n",
    "                                          y_in_frame_basis=True, \n",
    "                                          return_in_frame_basis=True)"
   ]
  },
  {
   "cell_type": "markdown",
   "metadata": {},
   "source": [
    "As our input was already in a basis state, the result is the same vector collecting a phase corresponding to that eigenvalue:"
   ]
  },
  {
   "cell_type": "code",
   "execution_count": 21,
   "metadata": {},
   "outputs": [
    {
     "name": "stdout",
     "output_type": "stream",
     "text": [
      "(-0.9510565162951534+0.30901699437494773j)\n"
     ]
    }
   ],
   "source": [
    "print(np.exp(-1j * 2 * np.pi * 1.1 / 2))"
   ]
  },
  {
   "cell_type": "markdown",
   "metadata": {},
   "source": [
    "Similarly if we pass the other eigenstate:"
   ]
  },
  {
   "cell_type": "code",
   "execution_count": 22,
   "metadata": {},
   "outputs": [
    {
     "name": "stdout",
     "output_type": "stream",
     "text": [
      "[ 0.        +0.j         -0.95105652-0.30901699j]\n",
      "(-0.9510565162951534-0.30901699437494773j)\n"
     ]
    }
   ],
   "source": [
    "print(model._frame_freq_helper.state_into_frame(1.1, \n",
    "                                                np.array([0., 1.]), \n",
    "                                                y_in_frame_basis=True, \n",
    "                                                return_in_frame_basis=True))\n",
    "print(np.exp(1j * 2 * np.pi * 1.1 / 2))"
   ]
  },
  {
   "cell_type": "markdown",
   "metadata": {},
   "source": [
    "This is consistent with if we specify the corresponding state in the original basis:"
   ]
  },
  {
   "cell_type": "code",
   "execution_count": 23,
   "metadata": {},
   "outputs": [
    {
     "name": "stdout",
     "output_type": "stream",
     "text": [
      "[ 0.        +0.j         -0.95105652-0.30901699j]\n"
     ]
    }
   ],
   "source": [
    "y = model._frame_freq_helper.state_into_frame(1.1, \n",
    "                                              np.array([1., 1.]) / np.sqrt(2), \n",
    "                                              y_in_frame_basis=False, \n",
    "                                              return_in_frame_basis=True)\n",
    "print(y)"
   ]
  },
  {
   "cell_type": "markdown",
   "metadata": {},
   "source": [
    "The `state_out_of_frame` has analagous functionality. We can undo the above transformation (being careful to specify which basis we want the input/output of the function to be in):"
   ]
  },
  {
   "cell_type": "code",
   "execution_count": 24,
   "metadata": {},
   "outputs": [
    {
     "data": {
      "text/plain": [
       "array([0.70710678+0.j, 0.70710678+0.j])"
      ]
     },
     "execution_count": 24,
     "metadata": {},
     "output_type": "execute_result"
    }
   ],
   "source": [
    "model._frame_freq_helper.state_out_of_frame(1.1, \n",
    "                                            y, \n",
    "                                            y_in_frame_basis=True, \n",
    "                                            return_in_frame_basis=False)"
   ]
  },
  {
   "cell_type": "code",
   "execution_count": null,
   "metadata": {},
   "outputs": [],
   "source": []
  }
 ],
 "metadata": {
  "kernelspec": {
   "display_name": "Python 3",
   "language": "python",
   "name": "python3"
  },
  "language_info": {
   "codemirror_mode": {
    "name": "ipython",
    "version": 3
   },
   "file_extension": ".py",
   "mimetype": "text/x-python",
   "name": "python",
   "nbconvert_exporter": "python",
   "pygments_lexer": "ipython3",
   "version": "3.8.5"
  }
 },
 "nbformat": 4,
 "nbformat_minor": 4
}
