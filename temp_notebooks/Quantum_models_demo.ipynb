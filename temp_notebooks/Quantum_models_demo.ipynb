{
 "cells": [
  {
   "cell_type": "code",
   "execution_count": 1,
   "metadata": {},
   "outputs": [],
   "source": [
    "from matplotlib import pyplot as plt\n",
    "import numpy as np\n",
    "from qiskit.quantum_info.operators import Operator\n",
    "from qiskit.providers.aer.pulse_new.de.DE_Problems import BMDE_Problem, SchrodingerProblem, LindbladProblem\n",
    "from qiskit.providers.aer.pulse_new.de.DE_Solvers import BMDE_Solver\n",
    "from qiskit.providers.aer.pulse_new.de.DE_Options import DE_Options\n",
    "from qiskit.providers.aer.pulse_new.de.type_utils import StateTypeConverter\n",
    "from qiskit.providers.aer.pulse_new.models.signals import VectorSignal, Constant, Signal\n",
    "from qiskit.providers.aer.pulse_new.models.quantum_models import HamiltonianModel, QuantumSystemModel\n",
    "\n",
    "X = Operator.from_label('X')\n",
    "Y = Operator.from_label('Y')\n",
    "Z = Operator.from_label('Z')"
   ]
  },
  {
   "cell_type": "markdown",
   "metadata": {},
   "source": [
    "# 1. Basic functionality"
   ]
  },
  {
   "cell_type": "code",
   "execution_count": 2,
   "metadata": {},
   "outputs": [],
   "source": [
    "r = 1.\n",
    "w = 1.\n",
    "signals = [Constant(1.), Signal(1., w)]\n",
    "operators = [2 * np.pi * w * Z/2, 2 * np.pi * r * X/2]\n",
    "\n",
    "hamiltonian = HamiltonianModel(operators=operators, signals=signals)"
   ]
  },
  {
   "cell_type": "markdown",
   "metadata": {},
   "source": [
    "Evaluate at a given time."
   ]
  },
  {
   "cell_type": "code",
   "execution_count": 3,
   "metadata": {},
   "outputs": [
    {
     "name": "stdout",
     "output_type": "stream",
     "text": [
      "[[ 3.14159265+0.j -0.97080552+0.j]\n",
      " [-0.97080552+0.j -3.14159265+0.j]]\n",
      "[[ 3.14159265+0.j  3.14159265+0.j]\n",
      " [ 3.14159265+0.j -3.14159265+0.j]]\n"
     ]
    }
   ],
   "source": [
    "print(hamiltonian.evaluate(0.3))\n",
    "print(hamiltonian.evaluate(1.))"
   ]
  },
  {
   "cell_type": "markdown",
   "metadata": {},
   "source": [
    "Get the drift (terms corresponding to `Constant` coefficients). In this case just the first term."
   ]
  },
  {
   "cell_type": "code",
   "execution_count": 4,
   "metadata": {},
   "outputs": [
    {
     "data": {
      "text/plain": [
       "array([[ 3.14159265+0.j,  0.        +0.j],\n",
       "       [ 0.        +0.j, -3.14159265+0.j]])"
      ]
     },
     "execution_count": 4,
     "metadata": {},
     "output_type": "execute_result"
    }
   ],
   "source": [
    "hamiltonian.drift"
   ]
  },
  {
   "cell_type": "markdown",
   "metadata": {},
   "source": [
    "# 2. Enter a frame\n",
    "\n",
    "In this case, we will enter the frame of the drift."
   ]
  },
  {
   "cell_type": "code",
   "execution_count": 5,
   "metadata": {},
   "outputs": [],
   "source": [
    "hamiltonian.frame = hamiltonian.drift"
   ]
  },
  {
   "cell_type": "markdown",
   "metadata": {},
   "source": [
    "Evaluate again."
   ]
  },
  {
   "cell_type": "code",
   "execution_count": 6,
   "metadata": {},
   "outputs": [
    {
     "name": "stdout",
     "output_type": "stream",
     "text": [
      "[[ 6.28318531+0.j          2.05619909+1.49391608j]\n",
      " [ 2.05619909-1.49391608j -6.28318531+0.j        ]]\n",
      "[[ 6.28318531+0.j          0.2999954 +0.92329092j]\n",
      " [ 0.2999954 -0.92329092j -6.28318531+0.j        ]]\n"
     ]
    }
   ],
   "source": [
    "print(hamiltonian.evaluate(0.1))\n",
    "print(hamiltonian.evaluate(0.2))"
   ]
  },
  {
   "cell_type": "markdown",
   "metadata": {},
   "source": [
    "In the above, the diagonal part of the model is now $0$, as it has been subtracted when entering the frame (which is coincidentally the diagonal). The off-diagonal part, which ordinarily is $2 \\pi r X / 2$ multiplied with an oscillating signal, is now rotating between $X$ and $Y$ as a result of being in the frame. We can plot the real and imaginary parts of the first off-diagonal to see this."
   ]
  },
  {
   "cell_type": "code",
   "execution_count": 7,
   "metadata": {},
   "outputs": [
    {
     "data": {
      "text/plain": [
       "[<matplotlib.lines.Line2D at 0x7fc048280a90>]"
      ]
     },
     "execution_count": 7,
     "metadata": {},
     "output_type": "execute_result"
    },
    {
     "data": {
      "image/png": "[encoded data removed]",
      "text/plain": [
       "<Figure size 432x288 with 1 Axes>"
      ]
     },
     "metadata": {
      "needs_background": "light"
     },
     "output_type": "display_data"
    }
   ],
   "source": [
    "t_vals = np.linspace(0., 1., 100)\n",
    "model_vals = np.array([hamiltonian.evaluate(t) for t in t_vals])\n",
    "offdiag_re = model_vals[:, 0, 1].real\n",
    "offdiag_im = model_vals[:, 0, 1].imag\n",
    "plt.plot(t_vals, offdiag_re)\n",
    "plt.plot(t_vals, offdiag_im)"
   ]
  },
  {
   "cell_type": "markdown",
   "metadata": {},
   "source": [
    "In the above, the real part is blue, corresponding to the $X$ operator, and the imaginary part is yellow, corresponding to the $Y$ operator."
   ]
  },
  {
   "cell_type": "markdown",
   "metadata": {},
   "source": [
    "# 3. Set cutoff frequency\n",
    "\n",
    "Next, we add a cutoff frequency, which eliminates terms in the model oscillating above a given frequency. The frequencies for a given term are a combination of oscillations due to the chosen frame, as well as oscillations due to signal carrier frequencies.\n",
    "\n",
    "The classic RWA uses the model we have defined, and sets the cutoff to `2*w`."
   ]
  },
  {
   "cell_type": "code",
   "execution_count": 8,
   "metadata": {},
   "outputs": [],
   "source": [
    "hamiltonian.cutoff_freq = 2*w"
   ]
  },
  {
   "cell_type": "markdown",
   "metadata": {},
   "source": [
    "We now perform the same plot as above."
   ]
  },
  {
   "cell_type": "code",
   "execution_count": 9,
   "metadata": {},
   "outputs": [
    {
     "data": {
      "text/plain": [
       "[<matplotlib.lines.Line2D at 0x7fc028729910>]"
      ]
     },
     "execution_count": 9,
     "metadata": {},
     "output_type": "execute_result"
    },
    {
     "data": {
      "image/png": "[encoded data removed]",
      "text/plain": [
       "<Figure size 432x288 with 1 Axes>"
      ]
     },
     "metadata": {
      "needs_background": "light"
     },
     "output_type": "display_data"
    }
   ],
   "source": [
    "t_vals = np.linspace(0., 1., 100)\n",
    "model_vals = np.array([hamiltonian.evaluate(t) for t in t_vals])\n",
    "offdiag_re = model_vals[:, 0, 1].real\n",
    "offdiag_im = model_vals[:, 0, 1].imag\n",
    "plt.plot(t_vals, offdiag_re)\n",
    "plt.plot(t_vals, offdiag_im)"
   ]
  },
  {
   "cell_type": "markdown",
   "metadata": {},
   "source": [
    "Observe, the real part is now constant at $\\pi /2$, which is the average of the oscillation in the previous section (similarly, the imaginary part is constant at the corresponding average of $0$)."
   ]
  },
  {
   "cell_type": "markdown",
   "metadata": {},
   "source": [
    "# 4. Solve Shrodinger equation with a HamiltonianModel"
   ]
  },
  {
   "cell_type": "code",
   "execution_count": 10,
   "metadata": {},
   "outputs": [],
   "source": [
    "r = 1.\n",
    "w = 1.\n",
    "signals = [Constant(1.), Signal(1., w)]\n",
    "operators = [2 * np.pi * w * Z/2, 2 * np.pi * r * X/2]\n",
    "\n",
    "hamiltonian = HamiltonianModel(operators=operators, signals=signals)\n",
    "se_problem = SchrodingerProblem(hamiltonian=hamiltonian, y0=np.array([1., 0.]), t0=0.)"
   ]
  },
  {
   "cell_type": "code",
   "execution_count": 11,
   "metadata": {},
   "outputs": [
    {
     "data": {
      "text/plain": [
       "array([-1.2926258e-02-0.13421715j,  1.0369228e-11+0.99086763j])"
      ]
     },
     "execution_count": 11,
     "metadata": {},
     "output_type": "execute_result"
    }
   ],
   "source": [
    "options = DE_Options(atol=1e-10, rtol=1e-10)\n",
    "solver = BMDE_Solver(se_problem, options=options)\n",
    "solver.integrate(1./r)\n",
    "solver.y"
   ]
  },
  {
   "cell_type": "markdown",
   "metadata": {},
   "source": [
    "Note: the RWA is not a great approximation for this system, hence the state not being inverted very well."
   ]
  },
  {
   "cell_type": "markdown",
   "metadata": {},
   "source": [
    "# 5. Initial attempts with quantum model"
   ]
  },
  {
   "cell_type": "code",
   "execution_count": 12,
   "metadata": {},
   "outputs": [],
   "source": [
    "r = 1.\n",
    "w = 1.\n",
    "signals = [Constant(1.), Signal(0., w)]\n",
    "operators = [2 * np.pi * w * Z/2, 2 * np.pi * r * X/2]\n",
    "\n",
    "hamiltonian = HamiltonianModel(operators=operators, signals=signals)\n",
    "\n",
    "# put one noise operator\n",
    "noise_ops = np.array([[[0., 0.01], [0., 0.]]])\n",
    "\n",
    "q_model = QuantumSystemModel(hamiltonian=hamiltonian, noise_operators=noise_ops)"
   ]
  },
  {
   "cell_type": "code",
   "execution_count": 13,
   "metadata": {},
   "outputs": [],
   "source": [
    "test = q_model.vectorized_lindblad_generator"
   ]
  },
  {
   "cell_type": "code",
   "execution_count": 14,
   "metadata": {},
   "outputs": [],
   "source": [
    "y0 = np.array([[1., 0.], [0., 1.]])/2\n",
    "de_problem = LindbladProblem(system_model=q_model, y0=y0, t0=0.)"
   ]
  },
  {
   "cell_type": "code",
   "execution_count": 15,
   "metadata": {},
   "outputs": [],
   "source": [
    "options = DE_Options(method='scipy-RK45', atol=1e-10, rtol=1e-10)\n",
    "solver = BMDE_Solver(de_problem, options=options)"
   ]
  },
  {
   "cell_type": "code",
   "execution_count": 16,
   "metadata": {},
   "outputs": [],
   "source": [
    "solver.integrate(10000.)"
   ]
  },
  {
   "cell_type": "code",
   "execution_count": 17,
   "metadata": {},
   "outputs": [
    {
     "data": {
      "text/plain": [
       "array([[0.81606028+0.j, 0.        +0.j],\n",
       "       [0.        +0.j, 0.18393972+0.j]])"
      ]
     },
     "execution_count": 17,
     "metadata": {},
     "output_type": "execute_result"
    }
   ],
   "source": [
    "solver.y"
   ]
  },
  {
   "cell_type": "code",
   "execution_count": null,
   "metadata": {},
   "outputs": [],
   "source": []
  }
 ],
 "metadata": {
  "kernelspec": {
   "display_name": "Python 3",
   "language": "python",
   "name": "python3"
  },
  "language_info": {
   "codemirror_mode": {
    "name": "ipython",
    "version": 3
   },
   "file_extension": ".py",
   "mimetype": "text/x-python",
   "name": "python",
   "nbconvert_exporter": "python",
   "pygments_lexer": "ipython3",
   "version": "3.8.5"
  }
 },
 "nbformat": 4,
 "nbformat_minor": 4
}
