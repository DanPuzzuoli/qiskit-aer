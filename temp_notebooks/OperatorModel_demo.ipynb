{
 "cells": [
  {
   "cell_type": "code",
   "execution_count": 1,
   "metadata": {},
   "outputs": [],
   "source": [
    "import sys\n",
    "sys.path.insert(1, sys.path[0]+'/../qiskit/providers/aer/')\n",
    "sys.path.insert(1, sys.path[0]+'/../')\n",
    "\n",
    "from matplotlib import pyplot as plt\n",
    "import numpy as np\n",
    "from qiskit.quantum_info.operators import Operator\n",
    "from pulse_new.models.signals import VectorSignal, Constant,ConstantSignal,  Signal\n",
    "from pulse_new.models.operator_models import OperatorModel\n",
    "\n",
    "X = Operator.from_label('X')\n",
    "Y = Operator.from_label('Y')\n",
    "Z = Operator.from_label('Z')"
   ]
  },
  {
   "cell_type": "markdown",
   "metadata": {},
   "source": [
    "# 1. Basic functionality"
   ]
  },
  {
   "cell_type": "code",
   "execution_count": 2,
   "metadata": {},
   "outputs": [],
   "source": [
    "r = 1.\n",
    "w = 1.\n",
    "signals = [Constant(1.), ConstantSignal(1., w)]\n",
    "operators = [-1j * 2 * np.pi * w * Z/2, -1j * 2 * np.pi * r * X/2]\n",
    "\n",
    "model = OperatorModel(operators=operators, signals=signals)"
   ]
  },
  {
   "cell_type": "markdown",
   "metadata": {},
   "source": [
    "Evaluate at a given time."
   ]
  },
  {
   "cell_type": "code",
   "execution_count": 3,
   "metadata": {},
   "outputs": [
    {
     "name": "stdout",
     "output_type": "stream",
     "text": [
      "[[0.-3.14159265j 0.+0.97080552j]\n",
      " [0.+0.97080552j 0.+3.14159265j]]\n",
      "[[0.-3.14159265j 0.-3.14159265j]\n",
      " [0.-3.14159265j 0.+3.14159265j]]\n"
     ]
    }
   ],
   "source": [
    "print(model.evaluate(0.3))\n",
    "print(model.evaluate(1.))"
   ]
  },
  {
   "cell_type": "markdown",
   "metadata": {},
   "source": [
    "Get the drift (terms corresponding to `Constant` coefficients). In this case just the first term."
   ]
  },
  {
   "cell_type": "code",
   "execution_count": 4,
   "metadata": {},
   "outputs": [
    {
     "data": {
      "text/plain": [
       "array([[0.-3.14159265j, 0.+0.j        ],\n",
       "       [0.+0.j        , 0.+3.14159265j]])"
      ]
     },
     "execution_count": 4,
     "metadata": {},
     "output_type": "execute_result"
    }
   ],
   "source": [
    "model.drift"
   ]
  },
  {
   "cell_type": "markdown",
   "metadata": {},
   "source": [
    "# 2. Enter a frame\n",
    "\n",
    "In this case, we will enter the frame of the drift."
   ]
  },
  {
   "cell_type": "code",
   "execution_count": 5,
   "metadata": {},
   "outputs": [],
   "source": [
    "model.frame_operator = model.drift"
   ]
  },
  {
   "cell_type": "markdown",
   "metadata": {},
   "source": [
    "Evaluate again."
   ]
  },
  {
   "cell_type": "code",
   "execution_count": 6,
   "metadata": {},
   "outputs": [
    {
     "name": "stdout",
     "output_type": "stream",
     "text": [
      "[[ 0.        +0.j          1.49391608-2.05619909j]\n",
      " [-1.49391608-2.05619909j  0.        +0.j        ]]\n",
      "[[ 0.        +0.j         0.92329092-0.2999954j]\n",
      " [-0.92329092-0.2999954j  0.        +0.j       ]]\n"
     ]
    }
   ],
   "source": [
    "print(model.evaluate(0.1))\n",
    "print(model.evaluate(0.2))"
   ]
  },
  {
   "cell_type": "markdown",
   "metadata": {},
   "source": [
    "In the above, the diagonal part of the model is now $0$, as it has been subtracted when entering the frame (which is coincidentally the diagonal). The off-diagonal part, which ordinarily is $-i 2 \\pi r X / 2$ multiplied with an oscillating signal, is now rotating between $-iX$ and $-iY$ as a result of being in the frame. We can plot the real and imaginary parts of the first off-diagonal to see this."
   ]
  },
  {
   "cell_type": "code",
   "execution_count": 7,
   "metadata": {},
   "outputs": [
    {
     "data": {
      "text/plain": [
       "[<matplotlib.lines.Line2D at 0x7fac1aba7f10>]"
      ]
     },
     "execution_count": 7,
     "metadata": {},
     "output_type": "execute_result"
    },
    {
     "data": {
      "image/png": "[encoded data removed]",
      "text/plain": [
       "<Figure size 432x288 with 1 Axes>"
      ]
     },
     "metadata": {
      "needs_background": "light"
     },
     "output_type": "display_data"
    }
   ],
   "source": [
    "t_vals = np.linspace(0., 1., 100)\n",
    "model_vals = np.array([model.evaluate(t) for t in t_vals])\n",
    "offdiag_re = model_vals[:, 0, 1].real\n",
    "offdiag_im = model_vals[:, 0, 1].imag\n",
    "plt.plot(t_vals, offdiag_im)\n",
    "plt.plot(t_vals, offdiag_re)"
   ]
  },
  {
   "cell_type": "markdown",
   "metadata": {},
   "source": [
    "In the above, the imaginary part is blue, corresponding to the $X$ operator, and the real part is yellow, corresponding to the $Y$ operator. (Note, usually which is imaginary and which is real is swapped, but in this case our `OperatorModel` is defined as the generator of the Schrodinger equation, so everything has a factor of $-i$."
   ]
  },
  {
   "cell_type": "markdown",
   "metadata": {},
   "source": [
    "# 3. Set cutoff frequency\n",
    "\n",
    "Next, we add a cutoff frequency, which eliminates terms in the model oscillating above a given frequency. The frequencies for a given term are a combination of oscillations due to the chosen frame, as well as oscillations due to signal carrier frequencies.\n",
    "\n",
    "The classic RWA uses the model we have defined, and sets the cutoff to `2*w`."
   ]
  },
  {
   "cell_type": "code",
   "execution_count": 8,
   "metadata": {},
   "outputs": [],
   "source": [
    "model.cutoff_freq = 2*w"
   ]
  },
  {
   "cell_type": "markdown",
   "metadata": {},
   "source": [
    "We now perform the same plot as above."
   ]
  },
  {
   "cell_type": "code",
   "execution_count": 9,
   "metadata": {},
   "outputs": [
    {
     "data": {
      "text/plain": [
       "[<matplotlib.lines.Line2D at 0x7fac1aa2ab80>]"
      ]
     },
     "execution_count": 9,
     "metadata": {},
     "output_type": "execute_result"
    },
    {
     "data": {
      "image/png": "[encoded data removed]",
      "text/plain": [
       "<Figure size 432x288 with 1 Axes>"
      ]
     },
     "metadata": {
      "needs_background": "light"
     },
     "output_type": "display_data"
    }
   ],
   "source": [
    "t_vals = np.linspace(0., 1., 100)\n",
    "model_vals = np.array([model.evaluate(t) for t in t_vals])\n",
    "offdiag_re = model_vals[:, 0, 1].real\n",
    "offdiag_im = model_vals[:, 0, 1].imag\n",
    "plt.plot(t_vals, offdiag_im)\n",
    "plt.plot(t_vals, offdiag_re)"
   ]
  },
  {
   "cell_type": "markdown",
   "metadata": {},
   "source": [
    "Observe, the real part is now constant at $-\\pi /2$, which is the average of the oscillation in the previous section (similarly, the imaginary part is constant at the corresponding average of $0$)."
   ]
  },
  {
   "cell_type": "code",
   "execution_count": null,
   "metadata": {},
   "outputs": [],
   "source": []
  }
 ],
 "metadata": {
  "kernelspec": {
   "display_name": "Python 3",
   "language": "python",
   "name": "python3"
  },
  "language_info": {
   "codemirror_mode": {
    "name": "ipython",
    "version": 3
   },
   "file_extension": ".py",
   "mimetype": "text/x-python",
   "name": "python",
   "nbconvert_exporter": "python",
   "pygments_lexer": "ipython3",
   "version": "3.8.5"
  }
 },
 "nbformat": 4,
 "nbformat_minor": 4
}
