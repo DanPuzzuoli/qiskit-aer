{
 "cells": [
  {
   "cell_type": "code",
   "execution_count": 1,
   "metadata": {},
   "outputs": [],
   "source": [
    "from matplotlib import pyplot as plt\n",
    "import numpy as np\n",
    "from time import time\n",
    "from qiskit.quantum_info.operators import Operator\n",
    "from qiskit.providers.aer.pulse_new.de.DE_Problems import BMDE_Problem\n",
    "from qiskit.providers.aer.pulse_new.de.DE_Solvers import BMDE_Solver\n",
    "from qiskit.providers.aer.pulse_new.de.DE_Options import DE_Options\n",
    "from qiskit.providers.aer.pulse_new.models.signals import VectorSignal, Constant, Signal\n",
    "from qiskit.providers.aer.pulse_new.models.operator_models import OperatorModel\n",
    "\n",
    "X = Operator.from_label('X')\n",
    "Y = Operator.from_label('Y')\n",
    "Z = Operator.from_label('Z')"
   ]
  },
  {
   "cell_type": "markdown",
   "metadata": {},
   "source": [
    "# 1. Basic BMDE Problem/Solver interface\n",
    "\n",
    "A `BMDE_Problem` represents a differential equation of the form $\\dot{y}(t) = G(t) y(t)$, where currently it is assumed that $G(t)$ is specified by an `OperatorModel`. It is the core type of BMDE specification from which others will be built. E.g. the Schrodinger equation for a state vector will be a subclass of `BMDE_Problem`, accepting a `HamiltonianModel` and converting it into the proper generator.\n",
    "\n",
    "Construct an `OperatorModel` for the generator:"
   ]
  },
  {
   "cell_type": "code",
   "execution_count": 2,
   "metadata": {},
   "outputs": [],
   "source": [
    "r = 0.2\n",
    "w = 5.\n",
    "signals = [Constant(1.), Signal(1., w)]\n",
    "operators = [-1j * 2 * np.pi * w * Z/2, -1j * 2 * np.pi * r * X/2]\n",
    "\n",
    "generator = OperatorModel(operators=operators, signals=signals)"
   ]
  },
  {
   "cell_type": "markdown",
   "metadata": {},
   "source": [
    "Construct the problem with the generator, initial time, and initial state."
   ]
  },
  {
   "cell_type": "code",
   "execution_count": 3,
   "metadata": {},
   "outputs": [],
   "source": [
    "#y0 = np.sqrt(0.5)*np.array([1., 1.])\n",
    "y0 = np.array([1., 0.])\n",
    "#y0 = np.eye(2)\n",
    "\n",
    "bmde_problem = BMDE_Problem(generator=generator, t0=0., y0=y0)"
   ]
  },
  {
   "cell_type": "markdown",
   "metadata": {},
   "source": [
    "Construct the solver with the problem and some options."
   ]
  },
  {
   "cell_type": "code",
   "execution_count": 4,
   "metadata": {},
   "outputs": [],
   "source": [
    "options = DE_Options(atol=1e-6, rtol=1e-6)\n",
    "solver = BMDE_Solver(bmde_problem, options=options)"
   ]
  },
  {
   "cell_type": "markdown",
   "metadata": {},
   "source": [
    "Integrate up to some time. Here the time is chosen to implement a $\\pi$-pulse."
   ]
  },
  {
   "cell_type": "code",
   "execution_count": 5,
   "metadata": {},
   "outputs": [],
   "source": [
    "solver.integrate(1. / r)"
   ]
  },
  {
   "cell_type": "markdown",
   "metadata": {},
   "source": [
    "Look at the state."
   ]
  },
  {
   "cell_type": "code",
   "execution_count": 6,
   "metadata": {},
   "outputs": [
    {
     "data": {
      "text/plain": [
       "array([-1.92710815e-05-0.00499853j, -7.60519598e-09+0.99999394j])"
      ]
     },
     "execution_count": 6,
     "metadata": {},
     "output_type": "execute_result"
    }
   ],
   "source": [
    "#y_orthog = np.sqrt(0.5)*np.array([1., -1.])\n",
    "#y_orthog = np.array([0., 1.])\n",
    "\n",
    "#np.abs( ( y_orthog *solver.y).sum())**2\n",
    "solver.y"
   ]
  },
  {
   "cell_type": "markdown",
   "metadata": {},
   "source": [
    "# 2. Specifying solving frames\n",
    "\n",
    "When solving a BMDE, it can be numerically advantageous to solve in a different frame. A frame to solve the system in can be specified when constructing a `BMDE_Problem` via the keyword argument `frame_operator`. The default value, `frame_operator='auto'`, lets the `BMDE_Problem` class automatically choose the frame to solve in. Currently, it will automatically choose the anti-Hermitian part of the drift. We can set different values for `frame_operator` and see how long it takes to solve the system.\n",
    "\n",
    "Setting `frame_operator=None` forces the problem to be solved in the frame it is specified in. "
   ]
  },
  {
   "cell_type": "code",
   "execution_count": 7,
   "metadata": {},
   "outputs": [
    {
     "name": "stdout",
     "output_type": "stream",
     "text": [
      "Time taken: 0.21195507049560547\n",
      "[-1.96262663e-05-0.00500051j -4.77089104e-10+0.9999871j ]\n"
     ]
    }
   ],
   "source": [
    "bmde_problem = BMDE_Problem(generator=generator, t0=0., y0=y0, frame_operator=None)\n",
    "options = DE_Options(atol=1e-8, rtol=1e-8)\n",
    "solver = BMDE_Solver(bmde_problem, options=options)\n",
    "\n",
    "start = time()\n",
    "solver.integrate(1. / r)\n",
    "print('Time taken: ' + str(time() - start))\n",
    "print(solver.y)"
   ]
  },
  {
   "cell_type": "markdown",
   "metadata": {},
   "source": [
    "Next, solve the system in the automatically determined frame"
   ]
  },
  {
   "cell_type": "code",
   "execution_count": 8,
   "metadata": {},
   "outputs": [
    {
     "name": "stdout",
     "output_type": "stream",
     "text": [
      "Time taken: 0.11959195137023926\n",
      "[-1.96352698e-05-0.00500054j  2.82321676e-10+0.99998751j]\n"
     ]
    }
   ],
   "source": [
    "bmde_problem = BMDE_Problem(generator=generator, t0=0., y0=y0, frame_operator='auto')\n",
    "options = DE_Options(atol=1e-8, rtol=1e-8)\n",
    "solver = BMDE_Solver(bmde_problem, options=options)\n",
    "\n",
    "start = time()\n",
    "solver.integrate(1. / r)\n",
    "print('Time taken: ' + str(time() - start))\n",
    "print(solver.y)"
   ]
  },
  {
   "cell_type": "markdown",
   "metadata": {},
   "source": [
    "Above we see a speed up of nearly a factor of $2$. The scale of the time differences largely depends on parameters of the system."
   ]
  },
  {
   "cell_type": "markdown",
   "metadata": {},
   "source": [
    "# 3. Solving with cutoff frequencies (Rotating wave approximation)\n",
    "\n",
    "In addition to specifying frame, we may also specify a cutoff frequency. The standard cutoff frequency for this model, the rotating wave approximation, is `2 * w`."
   ]
  },
  {
   "cell_type": "code",
   "execution_count": 9,
   "metadata": {},
   "outputs": [
    {
     "name": "stdout",
     "output_type": "stream",
     "text": [
      "Time taken: 0.008161783218383789\n",
      "[ 1.19197607e-09-5.85375490e-25j -4.91096678e-16+9.99999994e-01j]\n"
     ]
    }
   ],
   "source": [
    "bmde_problem = BMDE_Problem(generator=generator, t0=0., y0=y0, cutoff_freq=2*w)\n",
    "options = DE_Options(atol=1e-8, rtol=1e-8)\n",
    "solver = BMDE_Solver(bmde_problem, options=options)\n",
    "\n",
    "start = time()\n",
    "solver.integrate(1. / r)\n",
    "print('Time taken: ' + str(time() - start))\n",
    "print(solver.y)"
   ]
  },
  {
   "cell_type": "markdown",
   "metadata": {},
   "source": [
    "Observe: solving with a cutoff frequency increases the speed of solving dramatically, albeit at the expense of a loss of accuracy. Again, the scale of the speed gains and accuracy loss will depend on the parameters of the model."
   ]
  },
  {
   "cell_type": "markdown",
   "metadata": {},
   "source": [
    "# 4. Specifying different numerical methods\n",
    "\n",
    "The default method is `scipy`'s RK45, but we can specify different underlying `DE_Methods` using the `method` keyward argument in `DE_Options`. E.g. `Expm` specifies a matrix exponentiation-based fixed-step solver, requiring specification of a max step size.\n",
    "\n",
    "Note that in this size the generator in the frame is actually constant with an RWA cutoff of `2*w`, so we can set the `max_dt` to the whole interval we wish to simulate."
   ]
  },
  {
   "cell_type": "code",
   "execution_count": 10,
   "metadata": {},
   "outputs": [
    {
     "name": "stdout",
     "output_type": "stream",
     "text": [
      "Time taken: 0.0022962093353271484\n",
      "[-2.77555756e-16+1.36306711e-31j -4.91096681e-16+1.00000000e+00j]\n"
     ]
    }
   ],
   "source": [
    "bmde_problem = BMDE_Problem(generator=generator, t0=0., y0=y0, cutoff_freq=2*w)\n",
    "options = DE_Options(method='Expm', max_dt=(1.0 / r))\n",
    "solver = BMDE_Solver(bmde_problem, options=options)\n",
    "\n",
    "start = time()\n",
    "solver.integrate(1. / r)\n",
    "print('Time taken: ' + str(time() - start))\n",
    "print(solver.y)"
   ]
  },
  {
   "cell_type": "code",
   "execution_count": null,
   "metadata": {},
   "outputs": [],
   "source": []
  }
 ],
 "metadata": {
  "kernelspec": {
   "display_name": "Python 3",
   "language": "python",
   "name": "python3"
  },
  "language_info": {
   "codemirror_mode": {
    "name": "ipython",
    "version": 3
   },
   "file_extension": ".py",
   "mimetype": "text/x-python",
   "name": "python",
   "nbconvert_exporter": "python",
   "pygments_lexer": "ipython3",
   "version": "3.8.5"
  }
 },
 "nbformat": 4,
 "nbformat_minor": 4
}
