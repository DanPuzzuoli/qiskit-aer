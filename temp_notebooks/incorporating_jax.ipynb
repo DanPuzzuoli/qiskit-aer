{
 "cells": [
  {
   "cell_type": "code",
   "execution_count": 1,
   "metadata": {},
   "outputs": [],
   "source": [
    "from matplotlib import pyplot as plt\n",
    "import jax.numpy as np\n",
    "from jax.config import config\n",
    "config.update(\"jax_enable_x64\", True)\n",
    "import numpy as onp\n",
    "from scipy.linalg import expm\n",
    "from jax import jit, grad, value_and_grad, vmap\n",
    "#from time import time\n",
    "from qiskit.quantum_info.operators import Operator\n",
    "from qiskit.quantum_info.operators.base_operator import BaseOperator\n",
    "from qiskit.providers.aer.pulse_new.de.DE_Problems import BMDE_Problem\n",
    "from qiskit.providers.aer.pulse_new.de.DE_Solvers import BMDE_Solver\n",
    "from qiskit.providers.aer.pulse_new.de.DE_Options import DE_Options\n",
    "from qiskit.providers.aer.pulse_new.models.signals import VectorSignal, Constant, Signal\n",
    "from qiskit.providers.aer.pulse_new.models.operator_models import OperatorModel\n",
    "\n",
    "X = Operator.from_label('X')\n",
    "Y = Operator.from_label('Y')\n",
    "Z = Operator.from_label('Z')"
   ]
  },
  {
   "cell_type": "markdown",
   "metadata": {},
   "source": [
    "# 0. Notebook purpose\n",
    "\n",
    "Demonstrates the conversion of the repository to using `jax`:\n",
    "- Works with minimal changes to existing code\n",
    "- `jax` can compile code\n",
    "- `jax` can automatically differentiate code (plus simple optimization demonstration)\n",
    "\n",
    "List of changes required to underlying code for basic functionality:\n",
    "- Change all `numpy` imports to `jax.numpy` in all files\n",
    "- Changed an `if` statement due to a difference between how `numpy` and `jax.numpy` compare arrays\n",
    "- Re-added import of standard `numpy` in one place when instantiating `Operator` objects as they require standard `numpy` arrays"
   ]
  },
  {
   "cell_type": "markdown",
   "metadata": {},
   "source": [
    "# 1. Verify basic `OperatorModel` and `Signal` functionality\n",
    "\n",
    "Construct signals and a model and make sure it works."
   ]
  },
  {
   "cell_type": "code",
   "execution_count": 2,
   "metadata": {},
   "outputs": [
    {
     "name": "stderr",
     "output_type": "stream",
     "text": [
      "/opt/anaconda3/envs/devEnv/lib/python3.8/site-packages/jax/lib/xla_bridge.py:130: UserWarning: No GPU/TPU found, falling back to CPU.\n",
      "  warnings.warn('No GPU/TPU found, falling back to CPU.')\n"
     ]
    }
   ],
   "source": [
    "w = 5.\n",
    "r = 0.02\n",
    "\n",
    "signals = [Constant(1.), Signal(1., w)]\n",
    "operators = [-1j * 2 * np.pi * w * Z / 2, -1j * 2 * np.pi * r * X / 2]\n",
    "generator = OperatorModel(signals=signals, operators=operators)"
   ]
  },
  {
   "cell_type": "markdown",
   "metadata": {},
   "source": [
    "### 1.1 Evaluate generator and compare to expected value"
   ]
  },
  {
   "cell_type": "code",
   "execution_count": 3,
   "metadata": {},
   "outputs": [
    {
     "data": {
      "text/plain": [
       "DeviceArray([[0.-15.70796327j, 0. -0.06283185j],\n",
       "             [0. -0.06283185j, 0.+15.70796327j]], dtype=complex128)"
      ]
     },
     "execution_count": 3,
     "metadata": {},
     "output_type": "execute_result"
    }
   ],
   "source": [
    "generator.evaluate(1.)"
   ]
  },
  {
   "cell_type": "markdown",
   "metadata": {},
   "source": [
    "Expected value:"
   ]
  },
  {
   "cell_type": "code",
   "execution_count": 4,
   "metadata": {},
   "outputs": [
    {
     "name": "stdout",
     "output_type": "stream",
     "text": [
      "Operator([[0.-15.70796327j, 0. -0.06283185j],\n",
      "          [0. -0.06283185j, 0.+15.70796327j]],\n",
      "         input_dims=(2,), output_dims=(2,))\n"
     ]
    }
   ],
   "source": [
    "gen_at_1 = -1j * 2 * np.pi * w * Z / 2 + onp.cos(2 * np.pi * w * 1.) *(-1j * 2 * np.pi * r * X / 2)\n",
    "print(gen_at_1)"
   ]
  },
  {
   "cell_type": "markdown",
   "metadata": {},
   "source": [
    "### 1.2 Evaluate generator in drift frame and compare to expected value"
   ]
  },
  {
   "cell_type": "code",
   "execution_count": 5,
   "metadata": {},
   "outputs": [
    {
     "data": {
      "text/plain": [
       "DeviceArray([[ 0.00000000e+00+0.j        , -7.69468277e-17-0.06283185j],\n",
       "             [ 7.69468277e-17-0.06283185j,  0.00000000e+00+0.j        ]],            dtype=complex128)"
      ]
     },
     "execution_count": 5,
     "metadata": {},
     "output_type": "execute_result"
    }
   ],
   "source": [
    "generator.frame = generator.drift\n",
    "generator.evaluate(1.)"
   ]
  },
  {
   "cell_type": "markdown",
   "metadata": {},
   "source": [
    "Expected value:"
   ]
  },
  {
   "cell_type": "code",
   "execution_count": 6,
   "metadata": {},
   "outputs": [
    {
     "data": {
      "text/plain": [
       "array([[ 0.00000000e+00+0.j        , -7.69468277e-17-0.06283185j],\n",
       "       [ 7.69468277e-17-0.06283185j,  0.00000000e+00+0.j        ]])"
      ]
     },
     "execution_count": 6,
     "metadata": {},
     "output_type": "execute_result"
    }
   ],
   "source": [
    "F = (-1j * 2 * np.pi * w * Z / 2).data\n",
    "expm(-F) @ gen_at_1.data @ expm(F) - F"
   ]
  },
  {
   "cell_type": "markdown",
   "metadata": {},
   "source": [
    "# 2. Verify just in time compilation (`jax.jit`)\n",
    "\n",
    "Here we want to make sure just in time compilation \"just works\" with what we have set up.\n",
    "\n",
    "First `jit` and measure time of first evaluation"
   ]
  },
  {
   "cell_type": "code",
   "execution_count": 7,
   "metadata": {},
   "outputs": [
    {
     "name": "stdout",
     "output_type": "stream",
     "text": [
      "Speed of first evaluation with compilation:\n",
      "-------------------------------------------\n",
      "CPU times: user 357 ms, sys: 84.9 ms, total: 442 ms\n",
      "Wall time: 56.5 ms\n"
     ]
    }
   ],
   "source": [
    "fast_evaluate = jit(lambda t: generator.lmult(t, np.array([1., 0.])))\n",
    "\n",
    "print(\"Speed of first evaluation with compilation:\")\n",
    "print(\"-------------------------------------------\")\n",
    "%time res = fast_evaluate(1.).block_until_ready()"
   ]
  },
  {
   "cell_type": "markdown",
   "metadata": {},
   "source": [
    "Now evaluate compare speed of `jit`ed function and non-`jit`ed"
   ]
  },
  {
   "cell_type": "code",
   "execution_count": 8,
   "metadata": {},
   "outputs": [
    {
     "name": "stdout",
     "output_type": "stream",
     "text": [
      "Speed of uncompiled function:\n",
      "-----------------------------\n",
      "CPU times: user 22.5 ms, sys: 12.7 ms, total: 35.2 ms\n",
      "Wall time: 4.42 ms\n",
      "\n",
      "Speed of compiled function after first evaluation:\n",
      "--------------------------------------------------\n",
      "CPU times: user 4.01 ms, sys: 2.32 ms, total: 6.33 ms\n",
      "Wall time: 841 µs\n",
      "\n",
      "Comparison of outputs:\n",
      "----------------------\n",
      "[[ 0.00000000e+00+0.j         -6.15574622e-16+0.j        ]\n",
      " [ 3.07787311e-16-0.06283185j -3.07787311e-16+0.06283185j]]\n"
     ]
    }
   ],
   "source": [
    "t = 4.\n",
    "\n",
    "print(\"Speed of uncompiled function:\")\n",
    "print(\"-----------------------------\")\n",
    "%time res1 = generator.evaluate(t).block_until_ready()\n",
    "\n",
    "print(\"\\nSpeed of compiled function after first evaluation:\")\n",
    "print(\"--------------------------------------------------\")\n",
    "%time res2 = fast_evaluate(t).block_until_ready()\n",
    "\n",
    "print(\"\\nComparison of outputs:\")\n",
    "print(\"----------------------\")\n",
    "print(res1 - res2)"
   ]
  },
  {
   "cell_type": "markdown",
   "metadata": {},
   "source": [
    "### Notes\n",
    "- Amazingly, the standard `numpy` implementation is actually _faster_ than the `jit`-ed `jax` version. The `numpy` version takes about 300 microseconds to do `lmult`. I wonder if this has anything to do with `jit` trying to utilize multiple cores even for this.\n",
    "    - In a way this point is moot anyway as the compiled solver is so much faster than `numpy`/`scipy` "
   ]
  },
  {
   "cell_type": "markdown",
   "metadata": {},
   "source": [
    "# 3. Solving with `jax`-based solver\n",
    "\n",
    "In this section we solve the above model using a DE method currently available in `jax`.\n",
    "\n",
    "For this section, we have added a new `ODE_Method` to `DE_Methods.py` that calls the `jax` solver. This required about 40 lines of code (including comments), and just follows the standardized procedure for adding a new underlying solver method. In this branch this method has been made the default."
   ]
  },
  {
   "cell_type": "markdown",
   "metadata": {},
   "source": [
    "### 3.1 Solving without RWA"
   ]
  },
  {
   "cell_type": "code",
   "execution_count": 9,
   "metadata": {},
   "outputs": [],
   "source": [
    "def integrate_model(c, t):\n",
    "    gen_copy = generator.copy() # make this a pure function\n",
    "    \n",
    "    gen_copy.signals = [Constant(1.), Signal(lambda t: c, w)]\n",
    "    de_problem = BMDE_Problem(generator=gen_copy, y0=np.array([1., 0.]), t0=0.)\n",
    "    options = DE_Options(atol=1e-10, rtol=1e-10)\n",
    "    de_solver = BMDE_Solver(de_problem, options=options)\n",
    "    de_solver.integrate(t)\n",
    "    return de_solver.y"
   ]
  },
  {
   "cell_type": "code",
   "execution_count": 10,
   "metadata": {},
   "outputs": [
    {
     "name": "stdout",
     "output_type": "stream",
     "text": [
      "CPU times: user 937 ms, sys: 33.4 ms, total: 970 ms\n",
      "Wall time: 876 ms\n"
     ]
    }
   ],
   "source": [
    "# jit and call once\n",
    "fast_integrate = jit(integrate_model)\n",
    "\n",
    "%time res = fast_integrate(1., 1./r).block_until_ready()"
   ]
  },
  {
   "cell_type": "markdown",
   "metadata": {},
   "source": [
    "Speed after compilation."
   ]
  },
  {
   "cell_type": "code",
   "execution_count": 11,
   "metadata": {},
   "outputs": [
    {
     "name": "stdout",
     "output_type": "stream",
     "text": [
      "\n",
      "Speed of compiled function after first evaluation:\n",
      "--------------------------------------------------\n",
      "CPU times: user 11.5 ms, sys: 1.25 ms, total: 12.7 ms\n",
      "Wall time: 10.8 ms\n"
     ]
    }
   ],
   "source": [
    "c = 1.\n",
    "t = 2./r\n",
    "print(\"\\nSpeed of compiled function after first evaluation:\")\n",
    "print(\"--------------------------------------------------\")\n",
    "%time res = fast_integrate(c, t).block_until_ready()"
   ]
  },
  {
   "cell_type": "markdown",
   "metadata": {},
   "source": [
    "### Notes:\n",
    "- Using standard `numpy` and `scipy` integrate, this takes about `3.5` seconds. Hence, once compiled the `jax` solver is almost 3 orders of magnitude faster."
   ]
  },
  {
   "cell_type": "markdown",
   "metadata": {},
   "source": [
    "### 3.2 Solving with RWA\n",
    "\n",
    "We can now run the same speed experiments but when solving using the RWA."
   ]
  },
  {
   "cell_type": "code",
   "execution_count": 12,
   "metadata": {},
   "outputs": [],
   "source": [
    "def integrate_model_rwa(c, t):\n",
    "    gen_copy = generator.copy() # make this a pure function\n",
    "    \n",
    "    gen_copy.signals = [Constant(1.), Signal(lambda t: c, w)]\n",
    "    de_problem = BMDE_Problem(generator=gen_copy, y0=np.array([1., 0.]), t0=0., cutoff_freq=2*w)\n",
    "    options = DE_Options(atol=1e-10, rtol=1e-10)\n",
    "    de_solver = BMDE_Solver(de_problem, options=options)\n",
    "    de_solver.integrate(t)\n",
    "    return de_solver.y"
   ]
  },
  {
   "cell_type": "code",
   "execution_count": 13,
   "metadata": {},
   "outputs": [
    {
     "name": "stdout",
     "output_type": "stream",
     "text": [
      "CPU times: user 909 ms, sys: 14.2 ms, total: 923 ms\n",
      "Wall time: 911 ms\n"
     ]
    }
   ],
   "source": [
    "# jit and call once\n",
    "fast_integrate_rwa = jit(integrate_model_rwa)\n",
    "\n",
    "%time res = fast_integrate_rwa(1., 1./r).block_until_ready()"
   ]
  },
  {
   "cell_type": "markdown",
   "metadata": {},
   "source": [
    "Speed after compilation."
   ]
  },
  {
   "cell_type": "code",
   "execution_count": 14,
   "metadata": {},
   "outputs": [
    {
     "name": "stdout",
     "output_type": "stream",
     "text": [
      "\n",
      "Speed of compiled function after first evaluation:\n",
      "--------------------------------------------------\n",
      "CPU times: user 833 µs, sys: 398 µs, total: 1.23 ms\n",
      "Wall time: 491 µs\n",
      "[-1.00000000e+00-1.01328277e-14j  3.14261418e-15+1.81838554e-11j]\n"
     ]
    }
   ],
   "source": [
    "c = 1.\n",
    "t = 2./r\n",
    "\n",
    "print(\"\\nSpeed of compiled function after first evaluation:\")\n",
    "print(\"--------------------------------------------------\")\n",
    "%time res2 = fast_integrate_rwa(c, t).block_until_ready()\n",
    "\n",
    "print(res2)"
   ]
  },
  {
   "cell_type": "markdown",
   "metadata": {},
   "source": [
    "### Notes:\n",
    "- The pure `numpy`/`scipy` version of this simulation took about 25 ms. Hence, in this case, for a single simulation, it does outperform `jax`.\n",
    "- The \"uncompiled\" cost is the same as the non-RWA case, which makes sense as whether the RWA is made or not won't change anything regarding compilation speed, which dominates this cost."
   ]
  },
  {
   "cell_type": "markdown",
   "metadata": {},
   "source": [
    "# 4. Automatic differentiation\n",
    "\n",
    "Next we demonstrate using `jax`'s automatic differentiation through one of the above solving functions.\n",
    "\n",
    "We compute the excited population at a given time, assuming the system is driven with a constant amplitude, and use `jax` to construct a variant of the function that computes both the function itself as well as the derivative with respect to time. \n",
    "\n",
    "Note: it is pretty cool that the time parameter can be differentiated as this defines the limits of integration."
   ]
  },
  {
   "cell_type": "code",
   "execution_count": 15,
   "metadata": {},
   "outputs": [],
   "source": [
    "def excited_population(t):\n",
    "    return np.abs(integrate_model(1., t)[1])**2\n",
    "\n",
    "excited_pop_grad = jit(value_and_grad(excited_population))"
   ]
  },
  {
   "cell_type": "code",
   "execution_count": 16,
   "metadata": {},
   "outputs": [
    {
     "name": "stdout",
     "output_type": "stream",
     "text": [
      "Speed of uncompiled function:\n",
      "-----------------------------\n",
      "CPU times: user 1.76 s, sys: 28.1 ms, total: 1.79 s\n",
      "Wall time: 1.77 s\n"
     ]
    }
   ],
   "source": [
    "print(\"Speed of uncompiled function:\")\n",
    "print(\"-----------------------------\")\n",
    "%time res = excited_pop_grad(1./r)[1].block_until_ready()"
   ]
  },
  {
   "cell_type": "code",
   "execution_count": 17,
   "metadata": {},
   "outputs": [
    {
     "name": "stdout",
     "output_type": "stream",
     "text": [
      "\n",
      "Speed of compiled function after first evaluation:\n",
      "--------------------------------------------------\n",
      "CPU times: user 10.6 ms, sys: 1.11 ms, total: 11.7 ms\n",
      "Wall time: 9.69 ms\n"
     ]
    }
   ],
   "source": [
    "print(\"\\nSpeed of compiled function after first evaluation:\")\n",
    "print(\"--------------------------------------------------\")\n",
    "%time res = excited_pop_grad(2./r)[1].block_until_ready()"
   ]
  },
  {
   "cell_type": "markdown",
   "metadata": {},
   "source": [
    "Next, plot the value of the excited population and its derivative for each length of time."
   ]
  },
  {
   "cell_type": "code",
   "execution_count": 18,
   "metadata": {},
   "outputs": [
    {
     "name": "stdout",
     "output_type": "stream",
     "text": [
      "Plot the excited state population and its derivative\n",
      "----------------------------------------------------\n"
     ]
    },
    {
     "data": {
      "text/plain": [
       "[<matplotlib.lines.Line2D at 0x7f8b88a10f10>]"
      ]
     },
     "execution_count": 18,
     "metadata": {},
     "output_type": "execute_result"
    },
    {
     "data": {
      "image/png": "[encoded data removed]",
      "text/plain": [
       "<Figure size 432x288 with 1 Axes>"
      ]
     },
     "metadata": {
      "needs_background": "light"
     },
     "output_type": "display_data"
    }
   ],
   "source": [
    "t_vals = np.linspace(0.2, 1., 1000)\n",
    "#vals = vmap(grad_test)(t_vals)\n",
    "#func_vals = vals[0]\n",
    "#grad_vals = vals[1]\n",
    "vals = [excited_pop_grad(t) for t in t_vals]\n",
    "func_vals = np.array([entry[0] for entry in vals])\n",
    "grad_vals = np.array([entry[1] for entry in vals])\n",
    "print('Plot the excited state population and its derivative')\n",
    "print('----------------------------------------------------')\n",
    "plt.plot(t_vals, func_vals)\n",
    "plt.plot(t_vals, grad_vals*0.1)"
   ]
  },
  {
   "cell_type": "markdown",
   "metadata": {},
   "source": [
    "Observe: the oscillations are due to drift term causing constant spinning of the state around the $z$-axis (this calculation is done without the RWA)."
   ]
  },
  {
   "cell_type": "markdown",
   "metadata": {},
   "source": [
    "# 6. Optimizing continuous pulses with variable integration length\n",
    "\n",
    "Simple demonstration:\n",
    "- Optimize a gaussian-shaped pulse to do a $\\pi$-pulse.\n",
    "   - Optimize over amplitude/std of gaussian\n",
    "   - Length of pulse defined in terms of std to ensure start/end at $0$ amplitude.\n",
    "- Nice feature of using a \"fully `jax`\" variable step size solver: \n",
    "   - optimize over class of smooth pulses defined as callable functions easily\n",
    "   - optimize over a class of pulses with variable length (can differentiate through arbitrary args to the ode solver)\n",
    "\n",
    "For this we need a couple of additional functions:\n",
    "- `find_pulse_bfgs_parallel` \n",
    "    - Runs gradient descent BFGS algorithm in `scipy` on `jax`-differentiable function.\n",
    "    - Parallelizes using `joblib` package.\n",
    "- `diffeo` \n",
    "    - A convenience function for enforcing constraints"
   ]
  },
  {
   "cell_type": "code",
   "execution_count": 19,
   "metadata": {},
   "outputs": [],
   "source": [
    "from qiskit.providers.aer.pulse_new.optimize.optimize import find_pulse_bfgs_parallel\n",
    "from qiskit.providers.aer.pulse_new.optimize.opt_utils import diffeo\n",
    "\n",
    "# we define the same model\n",
    "\n",
    "w = 5.\n",
    "r = 0.02\n",
    "\n",
    "operators = [-1j * 2 * np.pi * w * Z / 2, \n",
    "             -1j * 2 * np.pi * r * X / 2]\n",
    "generator = OperatorModel(operators=operators)"
   ]
  },
  {
   "cell_type": "markdown",
   "metadata": {},
   "source": [
    "Define a Gaussian shape and a function that generates the signals for the models."
   ]
  },
  {
   "cell_type": "code",
   "execution_count": 20,
   "metadata": {},
   "outputs": [],
   "source": [
    "def gauss(amp, sigma, t0, t):\n",
    "    return amp * np.exp(-(t - t0)**2 / (2 * sigma)**2)\n",
    "\n",
    "def signal_generator(amp, sigma, T):\n",
    "    centered_gauss = lambda t: gauss(amp, sigma, T/2, t)\n",
    "    \n",
    "    return [Constant(1.), Signal(centered_gauss, w)]"
   ]
  },
  {
   "cell_type": "markdown",
   "metadata": {},
   "source": [
    "Define the objective to be optimized. The parameters will be the amplitude and STD $\\sigma$ of the Gaussian. The time of the pulse will be set to $10 \\times \\sigma$ the STD, and the center of the Gaussian is set to half that.\n",
    "\n",
    "We will attempt to optimize the excited state population, along with a time penalty to prefer shorter pulses."
   ]
  },
  {
   "cell_type": "code",
   "execution_count": 21,
   "metadata": {},
   "outputs": [],
   "source": [
    "# constraints\n",
    "amp_max = 1.\n",
    "sigma_max = 30.\n",
    "\n",
    "def obj(params):\n",
    "    # relate input parameters to their constrained values\n",
    "    amp = diffeo(params[0], [-amp_max, amp_max])\n",
    "    sigma = diffeo(params[1], [0., sigma_max])\n",
    "    \n",
    "    # set length of integration\n",
    "    T = 10 * sigma\n",
    "    \n",
    "    # set up the generator\n",
    "    gen_copy = generator.copy()\n",
    "    gen_copy.signals = signal_generator(amp, sigma, T)\n",
    "    \n",
    "    # define and solve the problem, here we use the RWA\n",
    "    de_problem = BMDE_Problem(generator=gen_copy, \n",
    "                      y0=np.array([1., 0.], dtype=complex),\n",
    "                      t0=0.)\n",
    "    options = DE_Options(atol=1e-8, rtol=1e-8)\n",
    "    solver = BMDE_Solver(de_problem, options=options)\n",
    "    solver.integrate(T)\n",
    "    \n",
    "    # return two pieces: 1-excited state population (it is a minimization)\n",
    "    # and a term with the final time\n",
    "    # we keep the final time coefficient small as we want to minimize it but value a higher fidelity \n",
    "    # operation\n",
    "    return np.sqrt(1 - np.abs(solver.y[1])**2) + 1e-3 * T"
   ]
  },
  {
   "cell_type": "markdown",
   "metadata": {},
   "source": [
    "Run the optimization"
   ]
  },
  {
   "cell_type": "code",
   "execution_count": 22,
   "metadata": {},
   "outputs": [
    {
     "name": "stdout",
     "output_type": "stream",
     "text": [
      "Total jobs: 8\n",
      "Jobs completed: 8\n",
      "Time taken: 20.215555906295776\n"
     ]
    }
   ],
   "source": [
    "opt_shape = (2,) # the shape of the parameter space to optimize over\n",
    "results = find_pulse_bfgs_parallel(obj, opt_shape, shots=8, n_jobs=8)"
   ]
  },
  {
   "cell_type": "markdown",
   "metadata": {},
   "source": [
    "Extract the best result (the results are already sorted according to objective value)."
   ]
  },
  {
   "cell_type": "code",
   "execution_count": 23,
   "metadata": {},
   "outputs": [
    {
     "data": {
      "image/png": "[encoded data removed]",
      "text/plain": [
       "<Figure size 432x288 with 1 Axes>"
      ]
     },
     "metadata": {
      "needs_background": "light"
     },
     "output_type": "display_data"
    }
   ],
   "source": [
    "best_params = results[0].x\n",
    "amp = diffeo(best_params[0], [-amp_max, amp_max])\n",
    "sigma = diffeo(best_params[1], [0, sigma_max])\n",
    "T = 10 * sigma\n",
    "\n",
    "signals = signal_generator(amp, sigma, T)\n",
    "\n",
    "signals[1].plot_envelope(0, T, 100)"
   ]
  },
  {
   "cell_type": "markdown",
   "metadata": {},
   "source": [
    "We verify the correctness by integrating the area under the curve:"
   ]
  },
  {
   "cell_type": "code",
   "execution_count": 24,
   "metadata": {},
   "outputs": [
    {
     "data": {
      "text/plain": [
       "49.99944599663545"
      ]
     },
     "execution_count": 24,
     "metadata": {},
     "output_type": "execute_result"
    }
   ],
   "source": [
    "from scipy.integrate import quad\n",
    "quad(signals[1].envelope, 0., T)[0]"
   ]
  },
  {
   "cell_type": "markdown",
   "metadata": {},
   "source": [
    "For a $\\pi$-pulse with this model the expected value is:"
   ]
  },
  {
   "cell_type": "code",
   "execution_count": 25,
   "metadata": {},
   "outputs": [
    {
     "data": {
      "text/plain": [
       "50.0"
      ]
     },
     "execution_count": 25,
     "metadata": {},
     "output_type": "execute_result"
    }
   ],
   "source": [
    "1/r"
   ]
  },
  {
   "cell_type": "markdown",
   "metadata": {},
   "source": [
    "Investigate time of objective + gradient computation."
   ]
  },
  {
   "cell_type": "code",
   "execution_count": 26,
   "metadata": {},
   "outputs": [
    {
     "name": "stdout",
     "output_type": "stream",
     "text": [
      "Time to construct gradient function and jit\n",
      "-------------------------------------------\n",
      "CPU times: user 3.15 s, sys: 42.8 ms, total: 3.19 s\n",
      "Wall time: 3.17 s\n"
     ]
    }
   ],
   "source": [
    "print('Time to construct gradient function and jit')\n",
    "print('-------------------------------------------')\n",
    "obj_grad = jit(value_and_grad(obj))\n",
    "%time res = obj_grad(np.array([1., 2.]))[0].block_until_ready()"
   ]
  },
  {
   "cell_type": "code",
   "execution_count": 27,
   "metadata": {},
   "outputs": [
    {
     "name": "stdout",
     "output_type": "stream",
     "text": [
      "Time to evaluate after compilation\n",
      "----------------------------------\n",
      "CPU times: user 69.3 ms, sys: 1.11 ms, total: 70.4 ms\n",
      "Wall time: 68.5 ms\n"
     ]
    }
   ],
   "source": [
    "print('Time to evaluate after compilation')\n",
    "print('----------------------------------')\n",
    "%time res = obj_grad(np.array([3., 2.]))[0].block_until_ready()"
   ]
  },
  {
   "cell_type": "markdown",
   "metadata": {},
   "source": [
    "# 7. `scipy` speed with compiled RHS\n",
    "\n",
    "A final natural speed comparison is to see how fast the `scipy` integrator is when the RHS has been compiled using `jax`. (This will help determine how much of the long integration time in the `scipy` integrator is due to the RHS v.s. the integration algorithm itself.)"
   ]
  },
  {
   "cell_type": "code",
   "execution_count": 28,
   "metadata": {},
   "outputs": [],
   "source": [
    "from scipy.integrate import solve_ivp\n",
    "# set up the same model\n",
    "\n",
    "w = 5.\n",
    "r = 0.02\n",
    "\n",
    "signals = [Constant(1.), Signal(1., w)]\n",
    "operators = [-1j * 2 * np.pi * w * Z / 2, -1j * 2 * np.pi * r * X / 2]\n",
    "generator = OperatorModel(signals=signals, operators=operators)\n",
    "generator.frame = generator.drift\n",
    "\n",
    "def rhs_func(t, y):\n",
    "    return generator.lmult(t, y, in_frame_basis=True)"
   ]
  },
  {
   "cell_type": "code",
   "execution_count": 29,
   "metadata": {},
   "outputs": [],
   "source": [
    "jit_rhs_func = jit(rhs_func)\n",
    "\n",
    "# run once to force RHS compilation\n",
    "jit_rhs_func(1., np.array([1., 0.]))\n",
    "\n",
    "test_func = lambda t, y: onp.array(jit_rhs_func(t, np.array(y)) )"
   ]
  },
  {
   "cell_type": "code",
   "execution_count": 30,
   "metadata": {},
   "outputs": [
    {
     "name": "stdout",
     "output_type": "stream",
     "text": [
      "CPU times: user 12 s, sys: 1.46 s, total: 13.5 s\n",
      "Wall time: 11.2 s\n"
     ]
    }
   ],
   "source": [
    "%time results = solve_ivp(test_func, (0., 1./r), np.array([1., 0.], dtype=complex), method='RK45', atol=1e-10, rtol=1e-10)"
   ]
  },
  {
   "cell_type": "code",
   "execution_count": 31,
   "metadata": {},
   "outputs": [
    {
     "data": {
      "text/plain": [
       "array([ 1.96347364e-07-5.00000436e-04j, -6.95870009e-13-9.99999875e-01j])"
      ]
     },
     "execution_count": 31,
     "metadata": {},
     "output_type": "execute_result"
    }
   ],
   "source": [
    "results.y[:, -1]"
   ]
  },
  {
   "cell_type": "code",
   "execution_count": 32,
   "metadata": {},
   "outputs": [
    {
     "name": "stdout",
     "output_type": "stream",
     "text": [
      "CPU times: user 633 µs, sys: 212 µs, total: 845 µs\n",
      "Wall time: 591 µs\n"
     ]
    },
    {
     "data": {
      "text/plain": [
       "array([-0.       +0.j        ,  0.0311682-0.03535339j])"
      ]
     },
     "execution_count": 32,
     "metadata": {},
     "output_type": "execute_result"
    }
   ],
   "source": [
    "%time test_func(0.123, onp.array([1., 0.]))"
   ]
  },
  {
   "cell_type": "code",
   "execution_count": 33,
   "metadata": {},
   "outputs": [
    {
     "data": {
      "text/plain": [
       "DeviceArray([[ 0.00000000e+00+0.j        , -7.69468277e-17-0.06283185j],\n",
       "             [ 7.69468277e-17-0.06283185j,  0.00000000e+00+0.j        ]],            dtype=complex128)"
      ]
     },
     "execution_count": 33,
     "metadata": {},
     "output_type": "execute_result"
    }
   ],
   "source": [
    "generator.evaluate(1.)"
   ]
  },
  {
   "cell_type": "code",
   "execution_count": null,
   "metadata": {},
   "outputs": [],
   "source": []
  }
 ],
 "metadata": {
  "kernelspec": {
   "display_name": "Python 3",
   "language": "python",
   "name": "python3"
  },
  "language_info": {
   "codemirror_mode": {
    "name": "ipython",
    "version": 3
   },
   "file_extension": ".py",
   "mimetype": "text/x-python",
   "name": "python",
   "nbconvert_exporter": "python",
   "pygments_lexer": "ipython3",
   "version": "3.8.5"
  }
 },
 "nbformat": 4,
 "nbformat_minor": 4
}
